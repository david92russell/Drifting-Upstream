{
 "cells": [
  {
   "cell_type": "markdown",
   "id": "c25f4e91-87b9-4f17-bc0a-8c3883505101",
   "metadata": {},
   "source": [
    "# Drifing Upstream: Modeling"
   ]
  },
  {
   "cell_type": "markdown",
   "id": "5cd44a5a-8268-472a-8200-1d79631a5e5c",
   "metadata": {},
   "source": [
    "We are now at the modeling stage of our data pipeline. After exploring some initial models during the preprocessing and training phase, we grew concerned that the music features we were working with didn't provide enough predictive power, as our prediction's mean absolute error was consistently over 300 million streams. Thus, we returned to Kaggle and found this __[dataset](https://www.kaggle.com/datasets/joebeachcapital/30000-spotify-songs)__ that includes 32,833 songs on Spotify, along with more features. More details on the data wrangling and exploration can be found __[here](https://github.com/david92russell/Drifting_Upstream/blob/main/Notebooks/dw_and_eda_2.ipynb)__. \n",
    "\n",
    "In addition to categorical columns pertaining to key, genre, and subgenre, this dataset also includes 2 numerical columns: loudness and duration, that we think might be crucial in helping improve our model's predictive power. However, this dataset doesn't include songs that were released after 2020, so our predictive insights might lose a degree of generalizeability to present data, compared with data on more recent releases, which of course is the aim of this study. Nonetheless, if loudness and duration indeed prove to be key features in boosting predictive capability, we will build the model upon this dataset with those features and inform Regression Records that further tuning can be adjusted accordingly when new data are retrieved on all relevent music features of more recently released songs. Because this dataset spans songs released from 1957-2020, we believe that it will provide a broad view of __[popular music features over time](https://github.com/david92russell/Drifting_Upstream/blob/main/Notebooks/tsa_2.ipynb)__.\n",
    "\n",
    "A note on the target variable: this dataset ranks a song's populartity on a score from 1-100, rather than total stream count as our previous playlist did. Our target variable will be popularity score. And as we seek to be in the upper half of the relative data, we aim to achieve a popularity score of > 50, or rather, > 50 + mean absolute error."
   ]
  },
  {
   "cell_type": "markdown",
   "id": "d213bf6c-c3fa-4191-ad05-54ea7c2bde36",
   "metadata": {},
   "source": [
    "## Load Libraries"
   ]
  },
  {
   "cell_type": "code",
   "execution_count": 398,
   "id": "e652a055-bc99-4cd8-926c-b2d57a16ec09",
   "metadata": {},
   "outputs": [],
   "source": [
    "import os\n",
    "import pandas as pd\n",
    "import matplotlib.pyplot as plt\n",
    "import seaborn as sns\n",
    "import numpy as np\n",
    "from scipy import stats\n",
    "from sklearn.model_selection import train_test_split, cross_val_score, KFold\n",
    "from sklearn.dummy import DummyRegressor\n",
    "from sklearn.metrics import mean_absolute_error, make_scorer\n",
    "from sklearn.preprocessing import StandardScaler, MinMaxScaler, RobustScaler, PowerTransformer\n",
    "from sklearn.ensemble import RandomForestRegressor, ExtraTreesRegressor, GradientBoostingRegressor, HistGradientBoostingRegressor\n",
    "from xgboost import XGBRegressor\n",
    "import optuna"
   ]
  },
  {
   "cell_type": "markdown",
   "id": "0985c2d1-93b4-4910-a0e9-c380dba38cfc",
   "metadata": {},
   "source": [
    "## Load Data"
   ]
  },
  {
   "cell_type": "code",
   "execution_count": 401,
   "id": "ad779348-ee10-49ba-83b7-2b1ea12fdec4",
   "metadata": {},
   "outputs": [
    {
     "data": {
      "text/html": [
       "<div>\n",
       "<style scoped>\n",
       "    .dataframe tbody tr th:only-of-type {\n",
       "        vertical-align: middle;\n",
       "    }\n",
       "\n",
       "    .dataframe tbody tr th {\n",
       "        vertical-align: top;\n",
       "    }\n",
       "\n",
       "    .dataframe thead th {\n",
       "        text-align: right;\n",
       "    }\n",
       "</style>\n",
       "<table border=\"1\" class=\"dataframe\">\n",
       "  <thead>\n",
       "    <tr style=\"text-align: right;\">\n",
       "      <th></th>\n",
       "      <th>y</th>\n",
       "      <th>danceability</th>\n",
       "      <th>energy</th>\n",
       "      <th>loudness</th>\n",
       "      <th>speechiness</th>\n",
       "      <th>acousticness</th>\n",
       "      <th>instrumentalness</th>\n",
       "      <th>liveness</th>\n",
       "      <th>valence</th>\n",
       "      <th>tempo</th>\n",
       "      <th>...</th>\n",
       "      <th>key_B</th>\n",
       "      <th>key_C</th>\n",
       "      <th>key_C#</th>\n",
       "      <th>key_D</th>\n",
       "      <th>key_D#</th>\n",
       "      <th>key_E</th>\n",
       "      <th>key_F</th>\n",
       "      <th>key_F#</th>\n",
       "      <th>key_G</th>\n",
       "      <th>key_G#</th>\n",
       "    </tr>\n",
       "  </thead>\n",
       "  <tbody>\n",
       "    <tr>\n",
       "      <th>0</th>\n",
       "      <td>66</td>\n",
       "      <td>0.748</td>\n",
       "      <td>0.916</td>\n",
       "      <td>-2.634</td>\n",
       "      <td>0.0583</td>\n",
       "      <td>0.1020</td>\n",
       "      <td>0.000000</td>\n",
       "      <td>0.0653</td>\n",
       "      <td>0.518</td>\n",
       "      <td>122.036</td>\n",
       "      <td>...</td>\n",
       "      <td>0</td>\n",
       "      <td>0</td>\n",
       "      <td>0</td>\n",
       "      <td>0</td>\n",
       "      <td>0</td>\n",
       "      <td>0</td>\n",
       "      <td>0</td>\n",
       "      <td>1</td>\n",
       "      <td>0</td>\n",
       "      <td>0</td>\n",
       "    </tr>\n",
       "    <tr>\n",
       "      <th>1</th>\n",
       "      <td>67</td>\n",
       "      <td>0.726</td>\n",
       "      <td>0.815</td>\n",
       "      <td>-4.969</td>\n",
       "      <td>0.0373</td>\n",
       "      <td>0.0724</td>\n",
       "      <td>0.004210</td>\n",
       "      <td>0.3570</td>\n",
       "      <td>0.693</td>\n",
       "      <td>99.972</td>\n",
       "      <td>...</td>\n",
       "      <td>1</td>\n",
       "      <td>0</td>\n",
       "      <td>0</td>\n",
       "      <td>0</td>\n",
       "      <td>0</td>\n",
       "      <td>0</td>\n",
       "      <td>0</td>\n",
       "      <td>0</td>\n",
       "      <td>0</td>\n",
       "      <td>0</td>\n",
       "    </tr>\n",
       "    <tr>\n",
       "      <th>2</th>\n",
       "      <td>70</td>\n",
       "      <td>0.675</td>\n",
       "      <td>0.931</td>\n",
       "      <td>-3.432</td>\n",
       "      <td>0.0742</td>\n",
       "      <td>0.0794</td>\n",
       "      <td>0.000023</td>\n",
       "      <td>0.1100</td>\n",
       "      <td>0.613</td>\n",
       "      <td>124.008</td>\n",
       "      <td>...</td>\n",
       "      <td>0</td>\n",
       "      <td>0</td>\n",
       "      <td>1</td>\n",
       "      <td>0</td>\n",
       "      <td>0</td>\n",
       "      <td>0</td>\n",
       "      <td>0</td>\n",
       "      <td>0</td>\n",
       "      <td>0</td>\n",
       "      <td>0</td>\n",
       "    </tr>\n",
       "    <tr>\n",
       "      <th>3</th>\n",
       "      <td>60</td>\n",
       "      <td>0.718</td>\n",
       "      <td>0.930</td>\n",
       "      <td>-3.778</td>\n",
       "      <td>0.1020</td>\n",
       "      <td>0.0287</td>\n",
       "      <td>0.000009</td>\n",
       "      <td>0.2040</td>\n",
       "      <td>0.277</td>\n",
       "      <td>121.956</td>\n",
       "      <td>...</td>\n",
       "      <td>0</td>\n",
       "      <td>0</td>\n",
       "      <td>0</td>\n",
       "      <td>0</td>\n",
       "      <td>0</td>\n",
       "      <td>0</td>\n",
       "      <td>0</td>\n",
       "      <td>0</td>\n",
       "      <td>1</td>\n",
       "      <td>0</td>\n",
       "    </tr>\n",
       "    <tr>\n",
       "      <th>4</th>\n",
       "      <td>69</td>\n",
       "      <td>0.650</td>\n",
       "      <td>0.833</td>\n",
       "      <td>-4.672</td>\n",
       "      <td>0.0359</td>\n",
       "      <td>0.0803</td>\n",
       "      <td>0.000000</td>\n",
       "      <td>0.0833</td>\n",
       "      <td>0.725</td>\n",
       "      <td>123.976</td>\n",
       "      <td>...</td>\n",
       "      <td>0</td>\n",
       "      <td>0</td>\n",
       "      <td>1</td>\n",
       "      <td>0</td>\n",
       "      <td>0</td>\n",
       "      <td>0</td>\n",
       "      <td>0</td>\n",
       "      <td>0</td>\n",
       "      <td>0</td>\n",
       "      <td>0</td>\n",
       "    </tr>\n",
       "  </tbody>\n",
       "</table>\n",
       "<p>5 rows × 54 columns</p>\n",
       "</div>"
      ],
      "text/plain": [
       "    y  danceability  energy  loudness  speechiness  acousticness  \\\n",
       "0  66         0.748   0.916    -2.634       0.0583        0.1020   \n",
       "1  67         0.726   0.815    -4.969       0.0373        0.0724   \n",
       "2  70         0.675   0.931    -3.432       0.0742        0.0794   \n",
       "3  60         0.718   0.930    -3.778       0.1020        0.0287   \n",
       "4  69         0.650   0.833    -4.672       0.0359        0.0803   \n",
       "\n",
       "   instrumentalness  liveness  valence    tempo  ...  key_B  key_C  key_C#  \\\n",
       "0          0.000000    0.0653    0.518  122.036  ...      0      0       0   \n",
       "1          0.004210    0.3570    0.693   99.972  ...      1      0       0   \n",
       "2          0.000023    0.1100    0.613  124.008  ...      0      0       1   \n",
       "3          0.000009    0.2040    0.277  121.956  ...      0      0       0   \n",
       "4          0.000000    0.0833    0.725  123.976  ...      0      0       1   \n",
       "\n",
       "   key_D  key_D#  key_E  key_F  key_F#  key_G  key_G#  \n",
       "0      0       0      0      0       1      0       0  \n",
       "1      0       0      0      0       0      0       0  \n",
       "2      0       0      0      0       0      0       0  \n",
       "3      0       0      0      0       0      1       0  \n",
       "4      0       0      0      0       0      0       0  \n",
       "\n",
       "[5 rows x 54 columns]"
      ]
     },
     "execution_count": 401,
     "metadata": {},
     "output_type": "execute_result"
    }
   ],
   "source": [
    "df = pd.read_csv('spotify_30k_cleaned.csv', index_col=0)\n",
    "df.head()"
   ]
  },
  {
   "cell_type": "markdown",
   "id": "8343c827-ef3c-4c04-b50c-5c06d16f3098",
   "metadata": {},
   "source": [
    "## Train/Test Split"
   ]
  },
  {
   "cell_type": "code",
   "execution_count": 10,
   "id": "50f89882-2ea9-4761-a059-c75706281b47",
   "metadata": {},
   "outputs": [],
   "source": [
    "X = df.drop(columns='y')\n",
    "y = df.y\n",
    "\n",
    "X_train, X_test, y_train, y_test = train_test_split(X, y, test_size=0.2, random_state=42)"
   ]
  },
  {
   "cell_type": "code",
   "execution_count": 11,
   "id": "63eacadd-f014-452d-85ff-dd104de22f4e",
   "metadata": {},
   "outputs": [
    {
     "name": "stdout",
     "output_type": "stream",
     "text": [
      "Train shape: ((26266, 53), (26266,))\n",
      "Test shape: ((6567, 53), (6567,))\n"
     ]
    }
   ],
   "source": [
    "print(f'Train shape: {X_train.shape, y_train.shape}')\n",
    "print(f'Test shape: {X_test.shape, y_test.shape}')"
   ]
  },
  {
   "cell_type": "markdown",
   "id": "16b5b256-e361-4f93-a450-df5212a33e1f",
   "metadata": {},
   "source": [
    "## Cross Validation and Baseline Prediction"
   ]
  },
  {
   "cell_type": "code",
   "execution_count": 12,
   "id": "14aec8e3-42ce-4a92-a9a7-35c1c278476a",
   "metadata": {},
   "outputs": [],
   "source": [
    "# Declare function to return lowest mean absolute error of cross validated score for a model\n",
    "def cv(model):\n",
    "    kf = KFold(n_splits=5, shuffle=True, random_state=42)\n",
    "    mae = make_scorer(mean_absolute_error)\n",
    "    scores = cross_val_score(model, X_train, y_train, scoring=mae, cv=kf)\n",
    "    return np.min([np.mean(scores), np.median([scores])])"
   ]
  },
  {
   "cell_type": "code",
   "execution_count": 13,
   "id": "b45909df-bb55-4b1e-a574-0ce07a3f8d0e",
   "metadata": {},
   "outputs": [
    {
     "data": {
      "text/plain": [
       "20.910716327965822"
      ]
     },
     "execution_count": 13,
     "metadata": {},
     "output_type": "execute_result"
    }
   ],
   "source": [
    "# Set benchmark MAE by predicting the mean popularity\n",
    "dumb_reg = DummyRegressor(strategy='mean')\n",
    "cv(dumb_reg)"
   ]
  },
  {
   "cell_type": "markdown",
   "id": "0a2de261-f0bd-4df8-8581-6ad583b2cc83",
   "metadata": {},
   "source": [
    "<div class=\"alert alert-block alert-info\">If we predict by merely guessing the mean, we can expect for our predicted popularity score to be off by almost 21.</div>"
   ]
  },
  {
   "cell_type": "markdown",
   "id": "67a562e6-672b-4f36-b7eb-c0ed21b342c6",
   "metadata": {},
   "source": [
    "## Random Forest Regressor"
   ]
  },
  {
   "cell_type": "code",
   "execution_count": 50,
   "id": "536df010-a317-4656-b7d0-05e69f658b29",
   "metadata": {},
   "outputs": [
    {
     "data": {
      "text/plain": [
       "17.241453097096443"
      ]
     },
     "execution_count": 50,
     "metadata": {},
     "output_type": "execute_result"
    }
   ],
   "source": [
    "# Untuned Random Forest Regressor\n",
    "rf = RandomForestRegressor(random_state=42)\n",
    "cv(rf)"
   ]
  },
  {
   "cell_type": "code",
   "execution_count": 33,
   "id": "08a900f3-7699-42ed-bd6d-57728bdfd584",
   "metadata": {},
   "outputs": [],
   "source": [
    "#Hyperparameter tuning\n",
    "def objective(trial):\n",
    "\n",
    "    n_estimators = trial.suggest_int('n_estimators', 100, 1000, log=True)\n",
    "    max_features = trial.suggest_int('max_features', 4, 53)\n",
    "    max_depth = trial.suggest_int('max_depth', 2, 32)\n",
    "    min_samples_split = trial.suggest_int('min_samples_split', 2, 10)\n",
    "    min_samples_leaf = trial.suggest_int('min_samples_leaf', 1, 10)\n",
    "\n",
    "    model = RandomForestRegressor(\n",
    "        n_estimators=n_estimators,\n",
    "        max_features=max_features,\n",
    "        max_depth=max_depth,\n",
    "        min_samples_split=min_samples_split,\n",
    "        min_samples_leaf=min_samples_leaf,\n",
    "        random_state=42)\n",
    "\n",
    "    kf = KFold(n_splits=5, shuffle=True, random_state=42)\n",
    "    mae = make_scorer(mean_absolute_error)\n",
    "    scores = cross_val_score(model, X_train, y_train, scoring=mae, cv=kf)\n",
    "    return np.min([np.mean(scores), np.median([scores])])"
   ]
  },
  {
   "cell_type": "code",
   "execution_count": 77,
   "id": "da1dd495-78df-4f86-bc57-d47728afe431",
   "metadata": {},
   "outputs": [],
   "source": [
    "study = optuna.create_study(direction=\"minimize\")\n",
    "study.optimize(objective, n_trials=20, show_progress_bar=True)\n",
    "#Cleared output of this cell to minimize long output from progress bar (used to visualize progress during runtime)\n",
    "#Best results indicated below"
   ]
  },
  {
   "cell_type": "code",
   "execution_count": 35,
   "id": "7a54e585-af09-47e8-8d28-b1b2ab354f60",
   "metadata": {},
   "outputs": [
    {
     "name": "stdout",
     "output_type": "stream",
     "text": [
      "Best trial: FrozenTrial(number=13, state=1, values=[17.21457382311874], datetime_start=datetime.datetime(2024, 3, 30, 15, 1, 49, 358781), datetime_complete=datetime.datetime(2024, 3, 30, 15, 27, 37, 898407), params={'n_estimators': 892, 'max_features': 53, 'max_depth': 32, 'min_samples_split': 4, 'min_samples_leaf': 1}, user_attrs={}, system_attrs={}, intermediate_values={}, distributions={'n_estimators': IntDistribution(high=1000, log=True, low=100, step=1), 'max_features': IntDistribution(high=53, log=False, low=4, step=1), 'max_depth': IntDistribution(high=32, log=False, low=2, step=1), 'min_samples_split': IntDistribution(high=10, log=False, low=2, step=1), 'min_samples_leaf': IntDistribution(high=10, log=False, low=1, step=1)}, trial_id=13, value=None)\n",
      "Best hyperparameters: {'n_estimators': 892, 'max_features': 53, 'max_depth': 32, 'min_samples_split': 4, 'min_samples_leaf': 1}\n"
     ]
    }
   ],
   "source": [
    "print(\"Best trial:\", study.best_trial)\n",
    "print(\"Best hyperparameters:\", study.best_params)"
   ]
  },
  {
   "cell_type": "code",
   "execution_count": 84,
   "id": "8b7cafb0-c234-4d59-8d95-958a367be973",
   "metadata": {},
   "outputs": [
    {
     "data": {
      "text/html": [
       "<style>#sk-container-id-6 {color: black;}#sk-container-id-6 pre{padding: 0;}#sk-container-id-6 div.sk-toggleable {background-color: white;}#sk-container-id-6 label.sk-toggleable__label {cursor: pointer;display: block;width: 100%;margin-bottom: 0;padding: 0.3em;box-sizing: border-box;text-align: center;}#sk-container-id-6 label.sk-toggleable__label-arrow:before {content: \"▸\";float: left;margin-right: 0.25em;color: #696969;}#sk-container-id-6 label.sk-toggleable__label-arrow:hover:before {color: black;}#sk-container-id-6 div.sk-estimator:hover label.sk-toggleable__label-arrow:before {color: black;}#sk-container-id-6 div.sk-toggleable__content {max-height: 0;max-width: 0;overflow: hidden;text-align: left;background-color: #f0f8ff;}#sk-container-id-6 div.sk-toggleable__content pre {margin: 0.2em;color: black;border-radius: 0.25em;background-color: #f0f8ff;}#sk-container-id-6 input.sk-toggleable__control:checked~div.sk-toggleable__content {max-height: 200px;max-width: 100%;overflow: auto;}#sk-container-id-6 input.sk-toggleable__control:checked~label.sk-toggleable__label-arrow:before {content: \"▾\";}#sk-container-id-6 div.sk-estimator input.sk-toggleable__control:checked~label.sk-toggleable__label {background-color: #d4ebff;}#sk-container-id-6 div.sk-label input.sk-toggleable__control:checked~label.sk-toggleable__label {background-color: #d4ebff;}#sk-container-id-6 input.sk-hidden--visually {border: 0;clip: rect(1px 1px 1px 1px);clip: rect(1px, 1px, 1px, 1px);height: 1px;margin: -1px;overflow: hidden;padding: 0;position: absolute;width: 1px;}#sk-container-id-6 div.sk-estimator {font-family: monospace;background-color: #f0f8ff;border: 1px dotted black;border-radius: 0.25em;box-sizing: border-box;margin-bottom: 0.5em;}#sk-container-id-6 div.sk-estimator:hover {background-color: #d4ebff;}#sk-container-id-6 div.sk-parallel-item::after {content: \"\";width: 100%;border-bottom: 1px solid gray;flex-grow: 1;}#sk-container-id-6 div.sk-label:hover label.sk-toggleable__label {background-color: #d4ebff;}#sk-container-id-6 div.sk-serial::before {content: \"\";position: absolute;border-left: 1px solid gray;box-sizing: border-box;top: 0;bottom: 0;left: 50%;z-index: 0;}#sk-container-id-6 div.sk-serial {display: flex;flex-direction: column;align-items: center;background-color: white;padding-right: 0.2em;padding-left: 0.2em;position: relative;}#sk-container-id-6 div.sk-item {position: relative;z-index: 1;}#sk-container-id-6 div.sk-parallel {display: flex;align-items: stretch;justify-content: center;background-color: white;position: relative;}#sk-container-id-6 div.sk-item::before, #sk-container-id-6 div.sk-parallel-item::before {content: \"\";position: absolute;border-left: 1px solid gray;box-sizing: border-box;top: 0;bottom: 0;left: 50%;z-index: -1;}#sk-container-id-6 div.sk-parallel-item {display: flex;flex-direction: column;z-index: 1;position: relative;background-color: white;}#sk-container-id-6 div.sk-parallel-item:first-child::after {align-self: flex-end;width: 50%;}#sk-container-id-6 div.sk-parallel-item:last-child::after {align-self: flex-start;width: 50%;}#sk-container-id-6 div.sk-parallel-item:only-child::after {width: 0;}#sk-container-id-6 div.sk-dashed-wrapped {border: 1px dashed gray;margin: 0 0.4em 0.5em 0.4em;box-sizing: border-box;padding-bottom: 0.4em;background-color: white;}#sk-container-id-6 div.sk-label label {font-family: monospace;font-weight: bold;display: inline-block;line-height: 1.2em;}#sk-container-id-6 div.sk-label-container {text-align: center;}#sk-container-id-6 div.sk-container {/* jupyter's `normalize.less` sets `[hidden] { display: none; }` but bootstrap.min.css set `[hidden] { display: none !important; }` so we also need the `!important` here to be able to override the default hidden behavior on the sphinx rendered scikit-learn.org. See: https://github.com/scikit-learn/scikit-learn/issues/21755 */display: inline-block !important;position: relative;}#sk-container-id-6 div.sk-text-repr-fallback {display: none;}</style><div id=\"sk-container-id-6\" class=\"sk-top-container\"><div class=\"sk-text-repr-fallback\"><pre>RandomForestRegressor(max_depth=32, max_features=53, min_samples_split=4,\n",
       "                      n_estimators=892, random_state=42)</pre><b>In a Jupyter environment, please rerun this cell to show the HTML representation or trust the notebook. <br />On GitHub, the HTML representation is unable to render, please try loading this page with nbviewer.org.</b></div><div class=\"sk-container\" hidden><div class=\"sk-item\"><div class=\"sk-estimator sk-toggleable\"><input class=\"sk-toggleable__control sk-hidden--visually\" id=\"sk-estimator-id-6\" type=\"checkbox\" checked><label for=\"sk-estimator-id-6\" class=\"sk-toggleable__label sk-toggleable__label-arrow\">RandomForestRegressor</label><div class=\"sk-toggleable__content\"><pre>RandomForestRegressor(max_depth=32, max_features=53, min_samples_split=4,\n",
       "                      n_estimators=892, random_state=42)</pre></div></div></div></div></div>"
      ],
      "text/plain": [
       "RandomForestRegressor(max_depth=32, max_features=53, min_samples_split=4,\n",
       "                      n_estimators=892, random_state=42)"
      ]
     },
     "execution_count": 84,
     "metadata": {},
     "output_type": "execute_result"
    }
   ],
   "source": [
    "#Instantiate best model and fit to training data\n",
    "rf = RandomForestRegressor(n_estimators=892, max_features=53, max_depth=32, min_samples_split=4, min_samples_leaf=1, random_state=42)\n",
    "rf.fit(X_train, y_train)"
   ]
  },
  {
   "cell_type": "code",
   "execution_count": 85,
   "id": "380a4110-2ee0-475a-bd1e-e563f77be067",
   "metadata": {},
   "outputs": [
    {
     "data": {
      "text/html": [
       "<div>\n",
       "<style scoped>\n",
       "    .dataframe tbody tr th:only-of-type {\n",
       "        vertical-align: middle;\n",
       "    }\n",
       "\n",
       "    .dataframe tbody tr th {\n",
       "        vertical-align: top;\n",
       "    }\n",
       "\n",
       "    .dataframe thead th {\n",
       "        text-align: right;\n",
       "    }\n",
       "</style>\n",
       "<table border=\"1\" class=\"dataframe\">\n",
       "  <thead>\n",
       "    <tr style=\"text-align: right;\">\n",
       "      <th></th>\n",
       "      <th>Feature</th>\n",
       "      <th>Importance</th>\n",
       "    </tr>\n",
       "  </thead>\n",
       "  <tbody>\n",
       "    <tr>\n",
       "      <th>0</th>\n",
       "      <td>duration</td>\n",
       "      <td>0.088262</td>\n",
       "    </tr>\n",
       "    <tr>\n",
       "      <th>1</th>\n",
       "      <td>loudness</td>\n",
       "      <td>0.087503</td>\n",
       "    </tr>\n",
       "    <tr>\n",
       "      <th>2</th>\n",
       "      <td>energy</td>\n",
       "      <td>0.085908</td>\n",
       "    </tr>\n",
       "    <tr>\n",
       "      <th>3</th>\n",
       "      <td>tempo</td>\n",
       "      <td>0.081525</td>\n",
       "    </tr>\n",
       "    <tr>\n",
       "      <th>4</th>\n",
       "      <td>instrumentalness</td>\n",
       "      <td>0.081167</td>\n",
       "    </tr>\n",
       "    <tr>\n",
       "      <th>5</th>\n",
       "      <td>speechiness</td>\n",
       "      <td>0.075896</td>\n",
       "    </tr>\n",
       "    <tr>\n",
       "      <th>6</th>\n",
       "      <td>danceability</td>\n",
       "      <td>0.075640</td>\n",
       "    </tr>\n",
       "    <tr>\n",
       "      <th>7</th>\n",
       "      <td>valence</td>\n",
       "      <td>0.074692</td>\n",
       "    </tr>\n",
       "    <tr>\n",
       "      <th>8</th>\n",
       "      <td>acousticness</td>\n",
       "      <td>0.073575</td>\n",
       "    </tr>\n",
       "    <tr>\n",
       "      <th>9</th>\n",
       "      <td>liveness</td>\n",
       "      <td>0.072445</td>\n",
       "    </tr>\n",
       "    <tr>\n",
       "      <th>10</th>\n",
       "      <td>subgenre_new jack swing</td>\n",
       "      <td>0.015318</td>\n",
       "    </tr>\n",
       "    <tr>\n",
       "      <th>11</th>\n",
       "      <td>subgenre_neo soul</td>\n",
       "      <td>0.013360</td>\n",
       "    </tr>\n",
       "    <tr>\n",
       "      <th>12</th>\n",
       "      <td>genre_edm</td>\n",
       "      <td>0.011816</td>\n",
       "    </tr>\n",
       "    <tr>\n",
       "      <th>13</th>\n",
       "      <td>subgenre_gangster rap</td>\n",
       "      <td>0.010920</td>\n",
       "    </tr>\n",
       "    <tr>\n",
       "      <th>14</th>\n",
       "      <td>subgenre_southern hip hop</td>\n",
       "      <td>0.010373</td>\n",
       "    </tr>\n",
       "  </tbody>\n",
       "</table>\n",
       "</div>"
      ],
      "text/plain": [
       "                      Feature  Importance\n",
       "0                    duration    0.088262\n",
       "1                    loudness    0.087503\n",
       "2                      energy    0.085908\n",
       "3                       tempo    0.081525\n",
       "4            instrumentalness    0.081167\n",
       "5                 speechiness    0.075896\n",
       "6                danceability    0.075640\n",
       "7                     valence    0.074692\n",
       "8                acousticness    0.073575\n",
       "9                    liveness    0.072445\n",
       "10    subgenre_new jack swing    0.015318\n",
       "11          subgenre_neo soul    0.013360\n",
       "12                  genre_edm    0.011816\n",
       "13      subgenre_gangster rap    0.010920\n",
       "14  subgenre_southern hip hop    0.010373"
      ]
     },
     "execution_count": 85,
     "metadata": {},
     "output_type": "execute_result"
    }
   ],
   "source": [
    "#Evaluate feature importances\n",
    "rf_fi = pd.DataFrame({'Feature':X_train.columns, 'Importance':rf.feature_importances_}).sort_values(\n",
    "                    'Importance', ascending=False).reset_index(drop=True)\n",
    "rf_fi.head(15)"
   ]
  },
  {
   "cell_type": "code",
   "execution_count": 86,
   "id": "430fff39-39be-4915-90fa-43c637ad5aa5",
   "metadata": {},
   "outputs": [
    {
     "data": {
      "image/png": "[encoded data removed]",
      "text/plain": [
       "<Figure size 1500x500 with 1 Axes>"
      ]
     },
     "metadata": {},
     "output_type": "display_data"
    }
   ],
   "source": [
    "plt.subplots(figsize=(15,5));\n",
    "sns.barplot(rf_fi, x='Feature', y='Importance');\n",
    "plt.xticks(rotation=90);"
   ]
  },
  {
   "cell_type": "markdown",
   "id": "0b03924e-85fe-4a75-beb3-85605c01e317",
   "metadata": {},
   "source": [
    "<div class=\"alert alert-block alert-info\">All of the numerical music features are significantly more important than any of the categorical music features. Additionally, duration and loudness are the two most important features. This confirms that we are likely to have stronger predictive ability working with a dataset that includes these features. We will therefore proceed in our analysis with this dataset, rather than our prior set that excludes duration and loudness. Also, given the drop in importance of categorical features, we will compare the mean absolute error of a prediction that only uses numerical features. If the result is similar, we will drop categorical features from the training set and proceed to only use the numerical features. </div>"
   ]
  },
  {
   "cell_type": "code",
   "execution_count": 15,
   "id": "e150825d-f76e-464f-8a89-9d3a856e39d0",
   "metadata": {},
   "outputs": [],
   "source": [
    "#Compare model performance only using most relevant features\n",
    "df_num = df[['duration', 'loudness', 'energy', 'tempo', 'instrumentalness', \n",
    "             'speechiness', 'danceability', 'valence', 'acousticness', 'liveness']]\n",
    "\n",
    "X_train, X_test, y_train, y_test = train_test_split(df_num, y, test_size=0.2, random_state=42)"
   ]
  },
  {
   "cell_type": "code",
   "execution_count": 88,
   "id": "006f3e02-5ec2-4284-8549-409f88c956c4",
   "metadata": {},
   "outputs": [
    {
     "data": {
      "text/plain": [
       "16.948918804828406"
      ]
     },
     "execution_count": 88,
     "metadata": {},
     "output_type": "execute_result"
    }
   ],
   "source": [
    "cv(rf)"
   ]
  },
  {
   "cell_type": "markdown",
   "id": "bc52bffd-cc57-4620-be4e-07eafd3a2568",
   "metadata": {},
   "source": [
    "<div class=\"alert alert-block alert-info\">Indeed, the prediction actually improved when we only used the numerical features. To speed up compute time and simplify the necessary feature selection for our models, we will continue to use the refined dataset that only considers numerical features. If we had a longer timeline for this project, we could test the comparative performance of the model with the inclusion of each categorical variable, running a new simulation for each new variable added, but given our current timeline we will opt to expedite by working with only the numerical variables. Future analysis might consider a more robust examination of key's and genre's potential influence on song popularity.</div>"
   ]
  },
  {
   "cell_type": "code",
   "execution_count": 73,
   "id": "e15bc89f-e531-4a06-bb5c-9ba527f14ea0",
   "metadata": {},
   "outputs": [
    {
     "data": {
      "text/plain": [
       "16.938028596828854"
      ]
     },
     "execution_count": 73,
     "metadata": {},
     "output_type": "execute_result"
    }
   ],
   "source": [
    "#Compare with untuned model on new train set\n",
    "rf = RandomForestRegressor(random_state=42)\n",
    "cv(rf)"
   ]
  },
  {
   "cell_type": "markdown",
   "id": "eb7d6990-1ad7-4f0a-b6c1-535157942952",
   "metadata": {},
   "source": [
    "__[Additional Random Forest hyperparameter tuning.](https://github.com/david92russell/Drifting_Upstream/blob/main/Notebooks/Hyperparameter_Tuning/hpt_rf.ipynb)__"
   ]
  },
  {
   "cell_type": "code",
   "execution_count": 16,
   "id": "3f5f202e-2341-44ee-8207-b321aaa8df4d",
   "metadata": {},
   "outputs": [
    {
     "data": {
      "text/html": [
       "<style>#sk-container-id-1 {color: black;}#sk-container-id-1 pre{padding: 0;}#sk-container-id-1 div.sk-toggleable {background-color: white;}#sk-container-id-1 label.sk-toggleable__label {cursor: pointer;display: block;width: 100%;margin-bottom: 0;padding: 0.3em;box-sizing: border-box;text-align: center;}#sk-container-id-1 label.sk-toggleable__label-arrow:before {content: \"▸\";float: left;margin-right: 0.25em;color: #696969;}#sk-container-id-1 label.sk-toggleable__label-arrow:hover:before {color: black;}#sk-container-id-1 div.sk-estimator:hover label.sk-toggleable__label-arrow:before {color: black;}#sk-container-id-1 div.sk-toggleable__content {max-height: 0;max-width: 0;overflow: hidden;text-align: left;background-color: #f0f8ff;}#sk-container-id-1 div.sk-toggleable__content pre {margin: 0.2em;color: black;border-radius: 0.25em;background-color: #f0f8ff;}#sk-container-id-1 input.sk-toggleable__control:checked~div.sk-toggleable__content {max-height: 200px;max-width: 100%;overflow: auto;}#sk-container-id-1 input.sk-toggleable__control:checked~label.sk-toggleable__label-arrow:before {content: \"▾\";}#sk-container-id-1 div.sk-estimator input.sk-toggleable__control:checked~label.sk-toggleable__label {background-color: #d4ebff;}#sk-container-id-1 div.sk-label input.sk-toggleable__control:checked~label.sk-toggleable__label {background-color: #d4ebff;}#sk-container-id-1 input.sk-hidden--visually {border: 0;clip: rect(1px 1px 1px 1px);clip: rect(1px, 1px, 1px, 1px);height: 1px;margin: -1px;overflow: hidden;padding: 0;position: absolute;width: 1px;}#sk-container-id-1 div.sk-estimator {font-family: monospace;background-color: #f0f8ff;border: 1px dotted black;border-radius: 0.25em;box-sizing: border-box;margin-bottom: 0.5em;}#sk-container-id-1 div.sk-estimator:hover {background-color: #d4ebff;}#sk-container-id-1 div.sk-parallel-item::after {content: \"\";width: 100%;border-bottom: 1px solid gray;flex-grow: 1;}#sk-container-id-1 div.sk-label:hover label.sk-toggleable__label {background-color: #d4ebff;}#sk-container-id-1 div.sk-serial::before {content: \"\";position: absolute;border-left: 1px solid gray;box-sizing: border-box;top: 0;bottom: 0;left: 50%;z-index: 0;}#sk-container-id-1 div.sk-serial {display: flex;flex-direction: column;align-items: center;background-color: white;padding-right: 0.2em;padding-left: 0.2em;position: relative;}#sk-container-id-1 div.sk-item {position: relative;z-index: 1;}#sk-container-id-1 div.sk-parallel {display: flex;align-items: stretch;justify-content: center;background-color: white;position: relative;}#sk-container-id-1 div.sk-item::before, #sk-container-id-1 div.sk-parallel-item::before {content: \"\";position: absolute;border-left: 1px solid gray;box-sizing: border-box;top: 0;bottom: 0;left: 50%;z-index: -1;}#sk-container-id-1 div.sk-parallel-item {display: flex;flex-direction: column;z-index: 1;position: relative;background-color: white;}#sk-container-id-1 div.sk-parallel-item:first-child::after {align-self: flex-end;width: 50%;}#sk-container-id-1 div.sk-parallel-item:last-child::after {align-self: flex-start;width: 50%;}#sk-container-id-1 div.sk-parallel-item:only-child::after {width: 0;}#sk-container-id-1 div.sk-dashed-wrapped {border: 1px dashed gray;margin: 0 0.4em 0.5em 0.4em;box-sizing: border-box;padding-bottom: 0.4em;background-color: white;}#sk-container-id-1 div.sk-label label {font-family: monospace;font-weight: bold;display: inline-block;line-height: 1.2em;}#sk-container-id-1 div.sk-label-container {text-align: center;}#sk-container-id-1 div.sk-container {/* jupyter's `normalize.less` sets `[hidden] { display: none; }` but bootstrap.min.css set `[hidden] { display: none !important; }` so we also need the `!important` here to be able to override the default hidden behavior on the sphinx rendered scikit-learn.org. See: https://github.com/scikit-learn/scikit-learn/issues/21755 */display: inline-block !important;position: relative;}#sk-container-id-1 div.sk-text-repr-fallback {display: none;}</style><div id=\"sk-container-id-1\" class=\"sk-top-container\"><div class=\"sk-text-repr-fallback\"><pre>RandomForestRegressor(max_depth=39, n_estimators=1554, n_jobs=-1,\n",
       "                      random_state=42)</pre><b>In a Jupyter environment, please rerun this cell to show the HTML representation or trust the notebook. <br />On GitHub, the HTML representation is unable to render, please try loading this page with nbviewer.org.</b></div><div class=\"sk-container\" hidden><div class=\"sk-item\"><div class=\"sk-estimator sk-toggleable\"><input class=\"sk-toggleable__control sk-hidden--visually\" id=\"sk-estimator-id-1\" type=\"checkbox\" checked><label for=\"sk-estimator-id-1\" class=\"sk-toggleable__label sk-toggleable__label-arrow\">RandomForestRegressor</label><div class=\"sk-toggleable__content\"><pre>RandomForestRegressor(max_depth=39, n_estimators=1554, n_jobs=-1,\n",
       "                      random_state=42)</pre></div></div></div></div></div>"
      ],
      "text/plain": [
       "RandomForestRegressor(max_depth=39, n_estimators=1554, n_jobs=-1,\n",
       "                      random_state=42)"
      ]
     },
     "execution_count": 16,
     "metadata": {},
     "output_type": "execute_result"
    }
   ],
   "source": [
    "#Best model\n",
    "rf = RandomForestRegressor(n_estimators=1554, max_depth=39, random_state=42, n_jobs=-1)\n",
    "\n",
    "#Scale features and fit best model\n",
    "scaler = StandardScaler()\n",
    "scaler.fit(X_train, y_train)\n",
    "X_train_scaled = scaler.transform(X_train)\n",
    "X_test_scaled = scaler.transform(X_test)\n",
    "rf.fit(X_train_scaled, y_train)"
   ]
  },
  {
   "cell_type": "code",
   "execution_count": 17,
   "id": "82abceb2-de74-439b-8187-f78ebf071528",
   "metadata": {},
   "outputs": [
    {
     "data": {
      "text/html": [
       "<div>\n",
       "<style scoped>\n",
       "    .dataframe tbody tr th:only-of-type {\n",
       "        vertical-align: middle;\n",
       "    }\n",
       "\n",
       "    .dataframe tbody tr th {\n",
       "        vertical-align: top;\n",
       "    }\n",
       "\n",
       "    .dataframe thead th {\n",
       "        text-align: right;\n",
       "    }\n",
       "</style>\n",
       "<table border=\"1\" class=\"dataframe\">\n",
       "  <thead>\n",
       "    <tr style=\"text-align: right;\">\n",
       "      <th></th>\n",
       "      <th>Feature</th>\n",
       "      <th>Importance</th>\n",
       "    </tr>\n",
       "  </thead>\n",
       "  <tbody>\n",
       "    <tr>\n",
       "      <th>0</th>\n",
       "      <td>duration</td>\n",
       "      <td>0.113663</td>\n",
       "    </tr>\n",
       "    <tr>\n",
       "      <th>1</th>\n",
       "      <td>loudness</td>\n",
       "      <td>0.110351</td>\n",
       "    </tr>\n",
       "    <tr>\n",
       "      <th>2</th>\n",
       "      <td>tempo</td>\n",
       "      <td>0.105200</td>\n",
       "    </tr>\n",
       "    <tr>\n",
       "      <th>3</th>\n",
       "      <td>energy</td>\n",
       "      <td>0.101374</td>\n",
       "    </tr>\n",
       "    <tr>\n",
       "      <th>4</th>\n",
       "      <td>speechiness</td>\n",
       "      <td>0.098280</td>\n",
       "    </tr>\n",
       "    <tr>\n",
       "      <th>5</th>\n",
       "      <td>acousticness</td>\n",
       "      <td>0.096916</td>\n",
       "    </tr>\n",
       "    <tr>\n",
       "      <th>6</th>\n",
       "      <td>valence</td>\n",
       "      <td>0.095318</td>\n",
       "    </tr>\n",
       "    <tr>\n",
       "      <th>7</th>\n",
       "      <td>danceability</td>\n",
       "      <td>0.094463</td>\n",
       "    </tr>\n",
       "    <tr>\n",
       "      <th>8</th>\n",
       "      <td>instrumentalness</td>\n",
       "      <td>0.092700</td>\n",
       "    </tr>\n",
       "    <tr>\n",
       "      <th>9</th>\n",
       "      <td>liveness</td>\n",
       "      <td>0.091735</td>\n",
       "    </tr>\n",
       "  </tbody>\n",
       "</table>\n",
       "</div>"
      ],
      "text/plain": [
       "            Feature  Importance\n",
       "0          duration    0.113663\n",
       "1          loudness    0.110351\n",
       "2             tempo    0.105200\n",
       "3            energy    0.101374\n",
       "4       speechiness    0.098280\n",
       "5      acousticness    0.096916\n",
       "6           valence    0.095318\n",
       "7      danceability    0.094463\n",
       "8  instrumentalness    0.092700\n",
       "9          liveness    0.091735"
      ]
     },
     "execution_count": 17,
     "metadata": {},
     "output_type": "execute_result"
    }
   ],
   "source": [
    "#Feature importance dataframe\n",
    "rf_fi = pd.DataFrame({'Feature':X_train.columns, 'Importance':rf.feature_importances_}).sort_values(\n",
    "                    'Importance', ascending=False).reset_index(drop=True)\n",
    "rf_fi"
   ]
  },
  {
   "cell_type": "code",
   "execution_count": 18,
   "id": "ebbcf14a-e470-4178-8d07-fee4709a5b02",
   "metadata": {},
   "outputs": [
    {
     "data": {
      "image/png": "[encoded data removed]",
      "text/plain": [
       "<Figure size 1000x500 with 1 Axes>"
      ]
     },
     "metadata": {},
     "output_type": "display_data"
    }
   ],
   "source": [
    "#Feature importance plot\n",
    "plt.subplots(figsize=(10,5));\n",
    "sns.barplot(rf_fi, x='Feature', y='Importance');\n",
    "plt.xticks(rotation=90);"
   ]
  },
  {
   "cell_type": "code",
   "execution_count": 19,
   "id": "72c31d73-33f7-4dcf-b143-749d1d5f6b61",
   "metadata": {},
   "outputs": [],
   "source": [
    "#CV scores\n",
    "kf = KFold(n_splits=5, shuffle=True, random_state=42)\n",
    "mae = make_scorer(mean_absolute_error)\n",
    "rf_scores = cross_val_score(rf, X_train_scaled, y_train, scoring=mae, cv=kf, n_jobs=-1)\n",
    "rf_score_mean = np.mean(rf_scores)\n",
    "rf_score_std = np.std(rf_scores)\n",
    "\n",
    "#Test prediction score\n",
    "rf_pred = rf.predict(X_test_scaled)\n",
    "rf_pred_score = mean_absolute_error(y_test, rf_pred)"
   ]
  },
  {
   "cell_type": "code",
   "execution_count": 22,
   "id": "45f4a3ef-b7db-4214-8402-98bed040b730",
   "metadata": {},
   "outputs": [
    {
     "name": "stdout",
     "output_type": "stream",
     "text": [
      "Random Forest MAE\n",
      "\n",
      "CV Mean: 16.86023393955105\n",
      "CV Std: 0.09942792642775837\n",
      "Test Pred: 16.313471746006556\n"
     ]
    }
   ],
   "source": [
    "print(f'Random Forest MAE\\n\\nCV Mean: {rf_score_mean}\\nCV Std: {rf_score_std}\\nTest Pred: {rf_pred_score}')"
   ]
  },
  {
   "cell_type": "markdown",
   "id": "2786cdba-8f03-4d94-b3fb-9872d6d02397",
   "metadata": {},
   "source": [
    "## Extra Trees Regressor"
   ]
  },
  {
   "cell_type": "code",
   "execution_count": 63,
   "id": "b91ccefa-44d4-4fa5-a177-3db5fc430d07",
   "metadata": {},
   "outputs": [
    {
     "data": {
      "text/plain": [
       "15.982976444299402"
      ]
     },
     "execution_count": 63,
     "metadata": {},
     "output_type": "execute_result"
    }
   ],
   "source": [
    "# Untuned Extra Trees Regressor\n",
    "et = ExtraTreesRegressor(random_state=42)\n",
    "cv(et)"
   ]
  },
  {
   "cell_type": "markdown",
   "id": "66b4395c-0997-4ba1-b473-3345ba249a50",
   "metadata": {},
   "source": [
    "__[Additional Extra Trees hyperparameter tuning.](https://github.com/david92russell/Drifting_Upstream/blob/main/Notebooks/Hyperparameter_Tuning/hpt_et.ipynb)__"
   ]
  },
  {
   "cell_type": "code",
   "execution_count": 23,
   "id": "d7920444-c86f-4855-a84c-e5b1c5835501",
   "metadata": {},
   "outputs": [
    {
     "data": {
      "text/html": [
       "<style>#sk-container-id-2 {color: black;}#sk-container-id-2 pre{padding: 0;}#sk-container-id-2 div.sk-toggleable {background-color: white;}#sk-container-id-2 label.sk-toggleable__label {cursor: pointer;display: block;width: 100%;margin-bottom: 0;padding: 0.3em;box-sizing: border-box;text-align: center;}#sk-container-id-2 label.sk-toggleable__label-arrow:before {content: \"▸\";float: left;margin-right: 0.25em;color: #696969;}#sk-container-id-2 label.sk-toggleable__label-arrow:hover:before {color: black;}#sk-container-id-2 div.sk-estimator:hover label.sk-toggleable__label-arrow:before {color: black;}#sk-container-id-2 div.sk-toggleable__content {max-height: 0;max-width: 0;overflow: hidden;text-align: left;background-color: #f0f8ff;}#sk-container-id-2 div.sk-toggleable__content pre {margin: 0.2em;color: black;border-radius: 0.25em;background-color: #f0f8ff;}#sk-container-id-2 input.sk-toggleable__control:checked~div.sk-toggleable__content {max-height: 200px;max-width: 100%;overflow: auto;}#sk-container-id-2 input.sk-toggleable__control:checked~label.sk-toggleable__label-arrow:before {content: \"▾\";}#sk-container-id-2 div.sk-estimator input.sk-toggleable__control:checked~label.sk-toggleable__label {background-color: #d4ebff;}#sk-container-id-2 div.sk-label input.sk-toggleable__control:checked~label.sk-toggleable__label {background-color: #d4ebff;}#sk-container-id-2 input.sk-hidden--visually {border: 0;clip: rect(1px 1px 1px 1px);clip: rect(1px, 1px, 1px, 1px);height: 1px;margin: -1px;overflow: hidden;padding: 0;position: absolute;width: 1px;}#sk-container-id-2 div.sk-estimator {font-family: monospace;background-color: #f0f8ff;border: 1px dotted black;border-radius: 0.25em;box-sizing: border-box;margin-bottom: 0.5em;}#sk-container-id-2 div.sk-estimator:hover {background-color: #d4ebff;}#sk-container-id-2 div.sk-parallel-item::after {content: \"\";width: 100%;border-bottom: 1px solid gray;flex-grow: 1;}#sk-container-id-2 div.sk-label:hover label.sk-toggleable__label {background-color: #d4ebff;}#sk-container-id-2 div.sk-serial::before {content: \"\";position: absolute;border-left: 1px solid gray;box-sizing: border-box;top: 0;bottom: 0;left: 50%;z-index: 0;}#sk-container-id-2 div.sk-serial {display: flex;flex-direction: column;align-items: center;background-color: white;padding-right: 0.2em;padding-left: 0.2em;position: relative;}#sk-container-id-2 div.sk-item {position: relative;z-index: 1;}#sk-container-id-2 div.sk-parallel {display: flex;align-items: stretch;justify-content: center;background-color: white;position: relative;}#sk-container-id-2 div.sk-item::before, #sk-container-id-2 div.sk-parallel-item::before {content: \"\";position: absolute;border-left: 1px solid gray;box-sizing: border-box;top: 0;bottom: 0;left: 50%;z-index: -1;}#sk-container-id-2 div.sk-parallel-item {display: flex;flex-direction: column;z-index: 1;position: relative;background-color: white;}#sk-container-id-2 div.sk-parallel-item:first-child::after {align-self: flex-end;width: 50%;}#sk-container-id-2 div.sk-parallel-item:last-child::after {align-self: flex-start;width: 50%;}#sk-container-id-2 div.sk-parallel-item:only-child::after {width: 0;}#sk-container-id-2 div.sk-dashed-wrapped {border: 1px dashed gray;margin: 0 0.4em 0.5em 0.4em;box-sizing: border-box;padding-bottom: 0.4em;background-color: white;}#sk-container-id-2 div.sk-label label {font-family: monospace;font-weight: bold;display: inline-block;line-height: 1.2em;}#sk-container-id-2 div.sk-label-container {text-align: center;}#sk-container-id-2 div.sk-container {/* jupyter's `normalize.less` sets `[hidden] { display: none; }` but bootstrap.min.css set `[hidden] { display: none !important; }` so we also need the `!important` here to be able to override the default hidden behavior on the sphinx rendered scikit-learn.org. See: https://github.com/scikit-learn/scikit-learn/issues/21755 */display: inline-block !important;position: relative;}#sk-container-id-2 div.sk-text-repr-fallback {display: none;}</style><div id=\"sk-container-id-2\" class=\"sk-top-container\"><div class=\"sk-text-repr-fallback\"><pre>ExtraTreesRegressor(max_depth=46, n_estimators=1458, n_jobs=-1, random_state=42)</pre><b>In a Jupyter environment, please rerun this cell to show the HTML representation or trust the notebook. <br />On GitHub, the HTML representation is unable to render, please try loading this page with nbviewer.org.</b></div><div class=\"sk-container\" hidden><div class=\"sk-item\"><div class=\"sk-estimator sk-toggleable\"><input class=\"sk-toggleable__control sk-hidden--visually\" id=\"sk-estimator-id-2\" type=\"checkbox\" checked><label for=\"sk-estimator-id-2\" class=\"sk-toggleable__label sk-toggleable__label-arrow\">ExtraTreesRegressor</label><div class=\"sk-toggleable__content\"><pre>ExtraTreesRegressor(max_depth=46, n_estimators=1458, n_jobs=-1, random_state=42)</pre></div></div></div></div></div>"
      ],
      "text/plain": [
       "ExtraTreesRegressor(max_depth=46, n_estimators=1458, n_jobs=-1, random_state=42)"
      ]
     },
     "execution_count": 23,
     "metadata": {},
     "output_type": "execute_result"
    }
   ],
   "source": [
    "#Best model\n",
    "et = ExtraTreesRegressor(n_estimators=1458, max_depth=46, random_state=42, n_jobs=-1)\n",
    "\n",
    "#Scale features and fit best model\n",
    "scaler = PowerTransformer()\n",
    "scaler.fit(X_train, y_train)\n",
    "X_train_scaled = scaler.transform(X_train)\n",
    "X_test_scaled = scaler.transform(X_test)\n",
    "et.fit(X_train_scaled, y_train)"
   ]
  },
  {
   "cell_type": "code",
   "execution_count": 24,
   "id": "1d96185d-3997-45b2-8f31-daff1eaf61be",
   "metadata": {},
   "outputs": [
    {
     "data": {
      "text/html": [
       "<div>\n",
       "<style scoped>\n",
       "    .dataframe tbody tr th:only-of-type {\n",
       "        vertical-align: middle;\n",
       "    }\n",
       "\n",
       "    .dataframe tbody tr th {\n",
       "        vertical-align: top;\n",
       "    }\n",
       "\n",
       "    .dataframe thead th {\n",
       "        text-align: right;\n",
       "    }\n",
       "</style>\n",
       "<table border=\"1\" class=\"dataframe\">\n",
       "  <thead>\n",
       "    <tr style=\"text-align: right;\">\n",
       "      <th></th>\n",
       "      <th>Feature</th>\n",
       "      <th>Importance</th>\n",
       "    </tr>\n",
       "  </thead>\n",
       "  <tbody>\n",
       "    <tr>\n",
       "      <th>0</th>\n",
       "      <td>duration</td>\n",
       "      <td>0.106840</td>\n",
       "    </tr>\n",
       "    <tr>\n",
       "      <th>1</th>\n",
       "      <td>instrumentalness</td>\n",
       "      <td>0.106628</td>\n",
       "    </tr>\n",
       "    <tr>\n",
       "      <th>2</th>\n",
       "      <td>loudness</td>\n",
       "      <td>0.105952</td>\n",
       "    </tr>\n",
       "    <tr>\n",
       "      <th>3</th>\n",
       "      <td>energy</td>\n",
       "      <td>0.104153</td>\n",
       "    </tr>\n",
       "    <tr>\n",
       "      <th>4</th>\n",
       "      <td>acousticness</td>\n",
       "      <td>0.099422</td>\n",
       "    </tr>\n",
       "    <tr>\n",
       "      <th>5</th>\n",
       "      <td>tempo</td>\n",
       "      <td>0.095905</td>\n",
       "    </tr>\n",
       "    <tr>\n",
       "      <th>6</th>\n",
       "      <td>valence</td>\n",
       "      <td>0.095804</td>\n",
       "    </tr>\n",
       "    <tr>\n",
       "      <th>7</th>\n",
       "      <td>speechiness</td>\n",
       "      <td>0.095739</td>\n",
       "    </tr>\n",
       "    <tr>\n",
       "      <th>8</th>\n",
       "      <td>danceability</td>\n",
       "      <td>0.095383</td>\n",
       "    </tr>\n",
       "    <tr>\n",
       "      <th>9</th>\n",
       "      <td>liveness</td>\n",
       "      <td>0.094174</td>\n",
       "    </tr>\n",
       "  </tbody>\n",
       "</table>\n",
       "</div>"
      ],
      "text/plain": [
       "            Feature  Importance\n",
       "0          duration    0.106840\n",
       "1  instrumentalness    0.106628\n",
       "2          loudness    0.105952\n",
       "3            energy    0.104153\n",
       "4      acousticness    0.099422\n",
       "5             tempo    0.095905\n",
       "6           valence    0.095804\n",
       "7       speechiness    0.095739\n",
       "8      danceability    0.095383\n",
       "9          liveness    0.094174"
      ]
     },
     "execution_count": 24,
     "metadata": {},
     "output_type": "execute_result"
    }
   ],
   "source": [
    "#Feature importance dataframe\n",
    "et_fi = pd.DataFrame({'Feature':X_train.columns, 'Importance':et.feature_importances_}).sort_values(\n",
    "                    'Importance', ascending=False).reset_index(drop=True)\n",
    "et_fi"
   ]
  },
  {
   "cell_type": "code",
   "execution_count": 25,
   "id": "27e33c45-fb5a-41a2-bccd-c9fec857e48d",
   "metadata": {},
   "outputs": [
    {
     "data": {
      "image/png": "[encoded data removed]",
      "text/plain": [
       "<Figure size 1000x500 with 1 Axes>"
      ]
     },
     "metadata": {},
     "output_type": "display_data"
    }
   ],
   "source": [
    "#Feature importance plot\n",
    "plt.subplots(figsize=(10,5));\n",
    "sns.barplot(et_fi, x='Feature', y='Importance');\n",
    "plt.xticks(rotation=90);"
   ]
  },
  {
   "cell_type": "code",
   "execution_count": 26,
   "id": "cc0159d0-2e69-413f-ad11-dba03ecffcb7",
   "metadata": {},
   "outputs": [],
   "source": [
    "#CV scores\n",
    "et_scores = cross_val_score(et, X_train_scaled, y_train, scoring=mae, cv=kf, n_jobs=-1)\n",
    "et_score_mean = np.mean(et_scores)\n",
    "et_score_std = np.std(et_scores)\n",
    "\n",
    "#Test prediction score\n",
    "et_pred = et.predict(X_test_scaled)\n",
    "et_pred_score = mean_absolute_error(y_test, et_pred)"
   ]
  },
  {
   "cell_type": "code",
   "execution_count": 27,
   "id": "44940a97-2e21-4956-93a7-19633711f874",
   "metadata": {},
   "outputs": [
    {
     "name": "stdout",
     "output_type": "stream",
     "text": [
      "Extra Trees MAE\n",
      "\n",
      "CV Mean: 15.936575985093796\n",
      "CV Std: 0.08829270949863222\n",
      "Test Pred: 15.30191608911115\n"
     ]
    }
   ],
   "source": [
    "print(f'Extra Trees MAE\\n\\nCV Mean: {et_score_mean}\\nCV Std: {et_score_std}\\nTest Pred: {et_pred_score}')"
   ]
  },
  {
   "cell_type": "markdown",
   "id": "421ac1d0-d48a-488a-af58-2d521e4c48bb",
   "metadata": {},
   "source": [
    "## Gradient Boosting Regressor"
   ]
  },
  {
   "cell_type": "code",
   "execution_count": 9,
   "id": "7f0b816f-27cd-4200-b269-a6a34644d70c",
   "metadata": {},
   "outputs": [
    {
     "data": {
      "text/plain": [
       "19.592463083023425"
      ]
     },
     "execution_count": 9,
     "metadata": {},
     "output_type": "execute_result"
    }
   ],
   "source": [
    "#Untuned Gradient Boosing Regressor\n",
    "gb = GradientBoostingRegressor(random_state=42)\n",
    "cv(gb)"
   ]
  },
  {
   "cell_type": "markdown",
   "id": "f904e96e-cfe5-44d0-aa3d-28532e9a2ae7",
   "metadata": {},
   "source": [
    "__[Additional Gradient Boosting hyperparameter tuning.](https://github.com/david92russell/Drifting_Upstream/blob/main/Notebooks/Hyperparameter_Tuning/hpt_gb.ipynb)__"
   ]
  },
  {
   "cell_type": "code",
   "execution_count": 28,
   "id": "f61acc59-0ad6-497c-a45b-dc28a5a73dc6",
   "metadata": {},
   "outputs": [
    {
     "data": {
      "text/html": [
       "<style>#sk-container-id-3 {color: black;}#sk-container-id-3 pre{padding: 0;}#sk-container-id-3 div.sk-toggleable {background-color: white;}#sk-container-id-3 label.sk-toggleable__label {cursor: pointer;display: block;width: 100%;margin-bottom: 0;padding: 0.3em;box-sizing: border-box;text-align: center;}#sk-container-id-3 label.sk-toggleable__label-arrow:before {content: \"▸\";float: left;margin-right: 0.25em;color: #696969;}#sk-container-id-3 label.sk-toggleable__label-arrow:hover:before {color: black;}#sk-container-id-3 div.sk-estimator:hover label.sk-toggleable__label-arrow:before {color: black;}#sk-container-id-3 div.sk-toggleable__content {max-height: 0;max-width: 0;overflow: hidden;text-align: left;background-color: #f0f8ff;}#sk-container-id-3 div.sk-toggleable__content pre {margin: 0.2em;color: black;border-radius: 0.25em;background-color: #f0f8ff;}#sk-container-id-3 input.sk-toggleable__control:checked~div.sk-toggleable__content {max-height: 200px;max-width: 100%;overflow: auto;}#sk-container-id-3 input.sk-toggleable__control:checked~label.sk-toggleable__label-arrow:before {content: \"▾\";}#sk-container-id-3 div.sk-estimator input.sk-toggleable__control:checked~label.sk-toggleable__label {background-color: #d4ebff;}#sk-container-id-3 div.sk-label input.sk-toggleable__control:checked~label.sk-toggleable__label {background-color: #d4ebff;}#sk-container-id-3 input.sk-hidden--visually {border: 0;clip: rect(1px 1px 1px 1px);clip: rect(1px, 1px, 1px, 1px);height: 1px;margin: -1px;overflow: hidden;padding: 0;position: absolute;width: 1px;}#sk-container-id-3 div.sk-estimator {font-family: monospace;background-color: #f0f8ff;border: 1px dotted black;border-radius: 0.25em;box-sizing: border-box;margin-bottom: 0.5em;}#sk-container-id-3 div.sk-estimator:hover {background-color: #d4ebff;}#sk-container-id-3 div.sk-parallel-item::after {content: \"\";width: 100%;border-bottom: 1px solid gray;flex-grow: 1;}#sk-container-id-3 div.sk-label:hover label.sk-toggleable__label {background-color: #d4ebff;}#sk-container-id-3 div.sk-serial::before {content: \"\";position: absolute;border-left: 1px solid gray;box-sizing: border-box;top: 0;bottom: 0;left: 50%;z-index: 0;}#sk-container-id-3 div.sk-serial {display: flex;flex-direction: column;align-items: center;background-color: white;padding-right: 0.2em;padding-left: 0.2em;position: relative;}#sk-container-id-3 div.sk-item {position: relative;z-index: 1;}#sk-container-id-3 div.sk-parallel {display: flex;align-items: stretch;justify-content: center;background-color: white;position: relative;}#sk-container-id-3 div.sk-item::before, #sk-container-id-3 div.sk-parallel-item::before {content: \"\";position: absolute;border-left: 1px solid gray;box-sizing: border-box;top: 0;bottom: 0;left: 50%;z-index: -1;}#sk-container-id-3 div.sk-parallel-item {display: flex;flex-direction: column;z-index: 1;position: relative;background-color: white;}#sk-container-id-3 div.sk-parallel-item:first-child::after {align-self: flex-end;width: 50%;}#sk-container-id-3 div.sk-parallel-item:last-child::after {align-self: flex-start;width: 50%;}#sk-container-id-3 div.sk-parallel-item:only-child::after {width: 0;}#sk-container-id-3 div.sk-dashed-wrapped {border: 1px dashed gray;margin: 0 0.4em 0.5em 0.4em;box-sizing: border-box;padding-bottom: 0.4em;background-color: white;}#sk-container-id-3 div.sk-label label {font-family: monospace;font-weight: bold;display: inline-block;line-height: 1.2em;}#sk-container-id-3 div.sk-label-container {text-align: center;}#sk-container-id-3 div.sk-container {/* jupyter's `normalize.less` sets `[hidden] { display: none; }` but bootstrap.min.css set `[hidden] { display: none !important; }` so we also need the `!important` here to be able to override the default hidden behavior on the sphinx rendered scikit-learn.org. See: https://github.com/scikit-learn/scikit-learn/issues/21755 */display: inline-block !important;position: relative;}#sk-container-id-3 div.sk-text-repr-fallback {display: none;}</style><div id=\"sk-container-id-3\" class=\"sk-top-container\"><div class=\"sk-text-repr-fallback\"><pre>GradientBoostingRegressor(learning_rate=0.17213162542313915, max_depth=16,\n",
       "                          min_samples_leaf=19, min_samples_split=6,\n",
       "                          n_estimators=657, random_state=42)</pre><b>In a Jupyter environment, please rerun this cell to show the HTML representation or trust the notebook. <br />On GitHub, the HTML representation is unable to render, please try loading this page with nbviewer.org.</b></div><div class=\"sk-container\" hidden><div class=\"sk-item\"><div class=\"sk-estimator sk-toggleable\"><input class=\"sk-toggleable__control sk-hidden--visually\" id=\"sk-estimator-id-3\" type=\"checkbox\" checked><label for=\"sk-estimator-id-3\" class=\"sk-toggleable__label sk-toggleable__label-arrow\">GradientBoostingRegressor</label><div class=\"sk-toggleable__content\"><pre>GradientBoostingRegressor(learning_rate=0.17213162542313915, max_depth=16,\n",
       "                          min_samples_leaf=19, min_samples_split=6,\n",
       "                          n_estimators=657, random_state=42)</pre></div></div></div></div></div>"
      ],
      "text/plain": [
       "GradientBoostingRegressor(learning_rate=0.17213162542313915, max_depth=16,\n",
       "                          min_samples_leaf=19, min_samples_split=6,\n",
       "                          n_estimators=657, random_state=42)"
      ]
     },
     "execution_count": 28,
     "metadata": {},
     "output_type": "execute_result"
    }
   ],
   "source": [
    "#Best model\n",
    "gb = GradientBoostingRegressor(n_estimators=657, learning_rate=0.17213162542313915, max_depth=16, \n",
    "                               min_samples_split=6, min_samples_leaf=19, random_state=42)\n",
    "\n",
    "#Scale features and fit best model\n",
    "scaler = MinMaxScaler()\n",
    "scaler.fit(X_train, y_train)\n",
    "X_train_scaled = scaler.transform(X_train)\n",
    "X_test_scaled = scaler.transform(X_test)\n",
    "gb.fit(X_train_scaled, y_train)"
   ]
  },
  {
   "cell_type": "code",
   "execution_count": 29,
   "id": "f22f1f74-c98b-4b53-961b-19b9cd7c34fc",
   "metadata": {},
   "outputs": [
    {
     "data": {
      "text/html": [
       "<div>\n",
       "<style scoped>\n",
       "    .dataframe tbody tr th:only-of-type {\n",
       "        vertical-align: middle;\n",
       "    }\n",
       "\n",
       "    .dataframe tbody tr th {\n",
       "        vertical-align: top;\n",
       "    }\n",
       "\n",
       "    .dataframe thead th {\n",
       "        text-align: right;\n",
       "    }\n",
       "</style>\n",
       "<table border=\"1\" class=\"dataframe\">\n",
       "  <thead>\n",
       "    <tr style=\"text-align: right;\">\n",
       "      <th></th>\n",
       "      <th>Feature</th>\n",
       "      <th>Importance</th>\n",
       "    </tr>\n",
       "  </thead>\n",
       "  <tbody>\n",
       "    <tr>\n",
       "      <th>0</th>\n",
       "      <td>duration</td>\n",
       "      <td>0.115055</td>\n",
       "    </tr>\n",
       "    <tr>\n",
       "      <th>1</th>\n",
       "      <td>tempo</td>\n",
       "      <td>0.114567</td>\n",
       "    </tr>\n",
       "    <tr>\n",
       "      <th>2</th>\n",
       "      <td>loudness</td>\n",
       "      <td>0.113379</td>\n",
       "    </tr>\n",
       "    <tr>\n",
       "      <th>3</th>\n",
       "      <td>speechiness</td>\n",
       "      <td>0.097661</td>\n",
       "    </tr>\n",
       "    <tr>\n",
       "      <th>4</th>\n",
       "      <td>acousticness</td>\n",
       "      <td>0.096410</td>\n",
       "    </tr>\n",
       "    <tr>\n",
       "      <th>5</th>\n",
       "      <td>energy</td>\n",
       "      <td>0.093515</td>\n",
       "    </tr>\n",
       "    <tr>\n",
       "      <th>6</th>\n",
       "      <td>valence</td>\n",
       "      <td>0.093406</td>\n",
       "    </tr>\n",
       "    <tr>\n",
       "      <th>7</th>\n",
       "      <td>instrumentalness</td>\n",
       "      <td>0.092583</td>\n",
       "    </tr>\n",
       "    <tr>\n",
       "      <th>8</th>\n",
       "      <td>danceability</td>\n",
       "      <td>0.091888</td>\n",
       "    </tr>\n",
       "    <tr>\n",
       "      <th>9</th>\n",
       "      <td>liveness</td>\n",
       "      <td>0.091535</td>\n",
       "    </tr>\n",
       "  </tbody>\n",
       "</table>\n",
       "</div>"
      ],
      "text/plain": [
       "            Feature  Importance\n",
       "0          duration    0.115055\n",
       "1             tempo    0.114567\n",
       "2          loudness    0.113379\n",
       "3       speechiness    0.097661\n",
       "4      acousticness    0.096410\n",
       "5            energy    0.093515\n",
       "6           valence    0.093406\n",
       "7  instrumentalness    0.092583\n",
       "8      danceability    0.091888\n",
       "9          liveness    0.091535"
      ]
     },
     "execution_count": 29,
     "metadata": {},
     "output_type": "execute_result"
    }
   ],
   "source": [
    "#Feature importance dataframe\n",
    "gb_fi = pd.DataFrame({'Feature':X_train.columns, 'Importance':gb.feature_importances_}).sort_values(\n",
    "                    'Importance', ascending=False).reset_index(drop=True)\n",
    "gb_fi"
   ]
  },
  {
   "cell_type": "code",
   "execution_count": 30,
   "id": "a9553505-e582-4421-9751-5a4d159f4fb8",
   "metadata": {},
   "outputs": [
    {
     "data": {
      "image/png": "[encoded data removed]",
      "text/plain": [
       "<Figure size 1000x500 with 1 Axes>"
      ]
     },
     "metadata": {},
     "output_type": "display_data"
    }
   ],
   "source": [
    "#Feature importance plot\n",
    "plt.subplots(figsize=(10,5));\n",
    "sns.barplot(gb_fi, x='Feature', y='Importance');\n",
    "plt.xticks(rotation=90);"
   ]
  },
  {
   "cell_type": "code",
   "execution_count": 31,
   "id": "70d9d4d9-7bcb-4ca2-b263-5b21122fb6a2",
   "metadata": {},
   "outputs": [],
   "source": [
    "#CV scores\n",
    "gb_scores = cross_val_score(gb, X_train_scaled, y_train, scoring=mae, cv=kf, n_jobs=-1)\n",
    "gb_score_mean = np.mean(gb_scores)\n",
    "gb_score_std = np.std(gb_scores)\n",
    "\n",
    "#Test prediction score\n",
    "gb_pred = gb.predict(X_test_scaled)\n",
    "gb_pred_score = mean_absolute_error(y_test, gb_pred)"
   ]
  },
  {
   "cell_type": "code",
   "execution_count": 32,
   "id": "d1796027-3b16-47a0-984b-08002e816d97",
   "metadata": {},
   "outputs": [
    {
     "name": "stdout",
     "output_type": "stream",
     "text": [
      "Gradient Boosting MAE\n",
      "\n",
      "CV Mean: 16.826025658963506\n",
      "CV Std: 0.11903234927704118\n",
      "Test Pred: 16.00320005435396\n"
     ]
    }
   ],
   "source": [
    "print(f'Gradient Boosting MAE\\n\\nCV Mean: {gb_score_mean}\\nCV Std: {gb_score_std}\\nTest Pred: {gb_pred_score}')"
   ]
  },
  {
   "cell_type": "markdown",
   "id": "089178a1-1098-4a0c-b4e9-829423aa126b",
   "metadata": {},
   "source": [
    "## Hist Gradient Boosting Regressor"
   ]
  },
  {
   "cell_type": "code",
   "execution_count": 10,
   "id": "482f5696-e52c-4c0a-884d-0459dbb17c80",
   "metadata": {},
   "outputs": [
    {
     "data": {
      "text/plain": [
       "19.148164650154964"
      ]
     },
     "execution_count": 10,
     "metadata": {},
     "output_type": "execute_result"
    }
   ],
   "source": [
    "#Untuned Hist Gradient Boosting Regressor\n",
    "hgb = HistGradientBoostingRegressor(random_state=42)\n",
    "cv(hgb)"
   ]
  },
  {
   "cell_type": "markdown",
   "id": "b37c5bac-a6ac-4462-bfee-6d0a0dc8916c",
   "metadata": {},
   "source": [
    "__[Additional Hist Gradient Boosting hyperparameter tuning.](https://github.com/david92russell/Drifting_Upstream/blob/main/Notebooks/Hyperparameter_Tuning/hpt_hgb.ipynb)__"
   ]
  },
  {
   "cell_type": "code",
   "execution_count": 34,
   "id": "e1275aab-c243-4bc7-881e-b85f37893983",
   "metadata": {},
   "outputs": [
    {
     "data": {
      "text/html": [
       "<style>#sk-container-id-4 {color: black;}#sk-container-id-4 pre{padding: 0;}#sk-container-id-4 div.sk-toggleable {background-color: white;}#sk-container-id-4 label.sk-toggleable__label {cursor: pointer;display: block;width: 100%;margin-bottom: 0;padding: 0.3em;box-sizing: border-box;text-align: center;}#sk-container-id-4 label.sk-toggleable__label-arrow:before {content: \"▸\";float: left;margin-right: 0.25em;color: #696969;}#sk-container-id-4 label.sk-toggleable__label-arrow:hover:before {color: black;}#sk-container-id-4 div.sk-estimator:hover label.sk-toggleable__label-arrow:before {color: black;}#sk-container-id-4 div.sk-toggleable__content {max-height: 0;max-width: 0;overflow: hidden;text-align: left;background-color: #f0f8ff;}#sk-container-id-4 div.sk-toggleable__content pre {margin: 0.2em;color: black;border-radius: 0.25em;background-color: #f0f8ff;}#sk-container-id-4 input.sk-toggleable__control:checked~div.sk-toggleable__content {max-height: 200px;max-width: 100%;overflow: auto;}#sk-container-id-4 input.sk-toggleable__control:checked~label.sk-toggleable__label-arrow:before {content: \"▾\";}#sk-container-id-4 div.sk-estimator input.sk-toggleable__control:checked~label.sk-toggleable__label {background-color: #d4ebff;}#sk-container-id-4 div.sk-label input.sk-toggleable__control:checked~label.sk-toggleable__label {background-color: #d4ebff;}#sk-container-id-4 input.sk-hidden--visually {border: 0;clip: rect(1px 1px 1px 1px);clip: rect(1px, 1px, 1px, 1px);height: 1px;margin: -1px;overflow: hidden;padding: 0;position: absolute;width: 1px;}#sk-container-id-4 div.sk-estimator {font-family: monospace;background-color: #f0f8ff;border: 1px dotted black;border-radius: 0.25em;box-sizing: border-box;margin-bottom: 0.5em;}#sk-container-id-4 div.sk-estimator:hover {background-color: #d4ebff;}#sk-container-id-4 div.sk-parallel-item::after {content: \"\";width: 100%;border-bottom: 1px solid gray;flex-grow: 1;}#sk-container-id-4 div.sk-label:hover label.sk-toggleable__label {background-color: #d4ebff;}#sk-container-id-4 div.sk-serial::before {content: \"\";position: absolute;border-left: 1px solid gray;box-sizing: border-box;top: 0;bottom: 0;left: 50%;z-index: 0;}#sk-container-id-4 div.sk-serial {display: flex;flex-direction: column;align-items: center;background-color: white;padding-right: 0.2em;padding-left: 0.2em;position: relative;}#sk-container-id-4 div.sk-item {position: relative;z-index: 1;}#sk-container-id-4 div.sk-parallel {display: flex;align-items: stretch;justify-content: center;background-color: white;position: relative;}#sk-container-id-4 div.sk-item::before, #sk-container-id-4 div.sk-parallel-item::before {content: \"\";position: absolute;border-left: 1px solid gray;box-sizing: border-box;top: 0;bottom: 0;left: 50%;z-index: -1;}#sk-container-id-4 div.sk-parallel-item {display: flex;flex-direction: column;z-index: 1;position: relative;background-color: white;}#sk-container-id-4 div.sk-parallel-item:first-child::after {align-self: flex-end;width: 50%;}#sk-container-id-4 div.sk-parallel-item:last-child::after {align-self: flex-start;width: 50%;}#sk-container-id-4 div.sk-parallel-item:only-child::after {width: 0;}#sk-container-id-4 div.sk-dashed-wrapped {border: 1px dashed gray;margin: 0 0.4em 0.5em 0.4em;box-sizing: border-box;padding-bottom: 0.4em;background-color: white;}#sk-container-id-4 div.sk-label label {font-family: monospace;font-weight: bold;display: inline-block;line-height: 1.2em;}#sk-container-id-4 div.sk-label-container {text-align: center;}#sk-container-id-4 div.sk-container {/* jupyter's `normalize.less` sets `[hidden] { display: none; }` but bootstrap.min.css set `[hidden] { display: none !important; }` so we also need the `!important` here to be able to override the default hidden behavior on the sphinx rendered scikit-learn.org. See: https://github.com/scikit-learn/scikit-learn/issues/21755 */display: inline-block !important;position: relative;}#sk-container-id-4 div.sk-text-repr-fallback {display: none;}</style><div id=\"sk-container-id-4\" class=\"sk-top-container\"><div class=\"sk-text-repr-fallback\"><pre>HistGradientBoostingRegressor(l2_regularization=0.044204117745388065,\n",
       "                              learning_rate=0.05210537299041002, max_depth=27,\n",
       "                              max_iter=1253, max_leaf_nodes=148,\n",
       "                              min_samples_leaf=31, random_state=42)</pre><b>In a Jupyter environment, please rerun this cell to show the HTML representation or trust the notebook. <br />On GitHub, the HTML representation is unable to render, please try loading this page with nbviewer.org.</b></div><div class=\"sk-container\" hidden><div class=\"sk-item\"><div class=\"sk-estimator sk-toggleable\"><input class=\"sk-toggleable__control sk-hidden--visually\" id=\"sk-estimator-id-4\" type=\"checkbox\" checked><label for=\"sk-estimator-id-4\" class=\"sk-toggleable__label sk-toggleable__label-arrow\">HistGradientBoostingRegressor</label><div class=\"sk-toggleable__content\"><pre>HistGradientBoostingRegressor(l2_regularization=0.044204117745388065,\n",
       "                              learning_rate=0.05210537299041002, max_depth=27,\n",
       "                              max_iter=1253, max_leaf_nodes=148,\n",
       "                              min_samples_leaf=31, random_state=42)</pre></div></div></div></div></div>"
      ],
      "text/plain": [
       "HistGradientBoostingRegressor(l2_regularization=0.044204117745388065,\n",
       "                              learning_rate=0.05210537299041002, max_depth=27,\n",
       "                              max_iter=1253, max_leaf_nodes=148,\n",
       "                              min_samples_leaf=31, random_state=42)"
      ]
     },
     "execution_count": 34,
     "metadata": {},
     "output_type": "execute_result"
    }
   ],
   "source": [
    "#Best model\n",
    "hgb = HistGradientBoostingRegressor(learning_rate=0.05210537299041002, max_iter=1253, max_depth=27, min_samples_leaf=31, \n",
    "                                    max_leaf_nodes=148, l2_regularization=0.044204117745388065, random_state=42)\n",
    "\n",
    "#Scale features and fit best model\n",
    "scaler = RobustScaler()\n",
    "scaler.fit(X_train, y_train)\n",
    "X_train_scaled = scaler.transform(X_train)\n",
    "X_test_scaled = scaler.transform(X_test)\n",
    "hgb.fit(X_train_scaled, y_train)"
   ]
  },
  {
   "cell_type": "code",
   "execution_count": 36,
   "id": "a3e5be10-6489-441a-accd-1dbb663ade57",
   "metadata": {},
   "outputs": [],
   "source": [
    "# Hist Gradient Booster has no feature importance attribute"
   ]
  },
  {
   "cell_type": "code",
   "execution_count": 37,
   "id": "d656c80d-d2af-44f4-a1c1-cf9d9dc9b486",
   "metadata": {},
   "outputs": [],
   "source": [
    "#CV scores\n",
    "hgb_scores = cross_val_score(hgb, X_train_scaled, y_train, scoring=mae, cv=kf, n_jobs=-1)\n",
    "hgb_score_mean = np.mean(hgb_scores)\n",
    "hgb_score_std = np.std(hgb_scores)\n",
    "\n",
    "#Test prediction score\n",
    "hgb_pred = hgb.predict(X_test_scaled)\n",
    "hgb_pred_score = mean_absolute_error(y_test, hgb_pred)"
   ]
  },
  {
   "cell_type": "code",
   "execution_count": 38,
   "id": "838ad414-9344-411a-9168-99d2fc8fb099",
   "metadata": {},
   "outputs": [
    {
     "name": "stdout",
     "output_type": "stream",
     "text": [
      "Hist Gradient Boosting MAE\n",
      "\n",
      "CV Mean: 18.241643068804468\n",
      "CV Std: 0.19786301962386998\n",
      "Test Pred: 17.683754450810966\n"
     ]
    }
   ],
   "source": [
    "print(f'Hist Gradient Boosting MAE\\n\\nCV Mean: {hgb_score_mean}\\nCV Std: {hgb_score_std}\\nTest Pred: {hgb_pred_score}')"
   ]
  },
  {
   "cell_type": "markdown",
   "id": "c930bd64-16b2-4f21-a3cc-4f4dfe97715d",
   "metadata": {},
   "source": [
    "## XGBoost Regressor"
   ]
  },
  {
   "cell_type": "code",
   "execution_count": 14,
   "id": "1691d38a-1f56-4fc2-bbea-e8e70b56cbbd",
   "metadata": {},
   "outputs": [
    {
     "data": {
      "text/plain": [
       "18.869175368861864"
      ]
     },
     "execution_count": 14,
     "metadata": {},
     "output_type": "execute_result"
    }
   ],
   "source": [
    "#Untuned XGBoost Regressor\n",
    "xgb = XGBRegressor(random_state=42)\n",
    "cv(xgb)"
   ]
  },
  {
   "cell_type": "markdown",
   "id": "cecf44eb-e3c4-4e9e-b8eb-608ee17d1f5e",
   "metadata": {},
   "source": [
    "__[Additional XGBoost hyperparameter tuning.](https://github.com/david92russell/Drifting_Upstream/blob/main/Notebooks/Hyperparameter_Tuning/hpt_xgb.ipynb)__"
   ]
  },
  {
   "cell_type": "code",
   "execution_count": 39,
   "id": "1f70212c-08f2-4235-b3bb-89f4e0dd9f1b",
   "metadata": {},
   "outputs": [
    {
     "data": {
      "text/html": [
       "<style>#sk-container-id-5 {color: black;}#sk-container-id-5 pre{padding: 0;}#sk-container-id-5 div.sk-toggleable {background-color: white;}#sk-container-id-5 label.sk-toggleable__label {cursor: pointer;display: block;width: 100%;margin-bottom: 0;padding: 0.3em;box-sizing: border-box;text-align: center;}#sk-container-id-5 label.sk-toggleable__label-arrow:before {content: \"▸\";float: left;margin-right: 0.25em;color: #696969;}#sk-container-id-5 label.sk-toggleable__label-arrow:hover:before {color: black;}#sk-container-id-5 div.sk-estimator:hover label.sk-toggleable__label-arrow:before {color: black;}#sk-container-id-5 div.sk-toggleable__content {max-height: 0;max-width: 0;overflow: hidden;text-align: left;background-color: #f0f8ff;}#sk-container-id-5 div.sk-toggleable__content pre {margin: 0.2em;color: black;border-radius: 0.25em;background-color: #f0f8ff;}#sk-container-id-5 input.sk-toggleable__control:checked~div.sk-toggleable__content {max-height: 200px;max-width: 100%;overflow: auto;}#sk-container-id-5 input.sk-toggleable__control:checked~label.sk-toggleable__label-arrow:before {content: \"▾\";}#sk-container-id-5 div.sk-estimator input.sk-toggleable__control:checked~label.sk-toggleable__label {background-color: #d4ebff;}#sk-container-id-5 div.sk-label input.sk-toggleable__control:checked~label.sk-toggleable__label {background-color: #d4ebff;}#sk-container-id-5 input.sk-hidden--visually {border: 0;clip: rect(1px 1px 1px 1px);clip: rect(1px, 1px, 1px, 1px);height: 1px;margin: -1px;overflow: hidden;padding: 0;position: absolute;width: 1px;}#sk-container-id-5 div.sk-estimator {font-family: monospace;background-color: #f0f8ff;border: 1px dotted black;border-radius: 0.25em;box-sizing: border-box;margin-bottom: 0.5em;}#sk-container-id-5 div.sk-estimator:hover {background-color: #d4ebff;}#sk-container-id-5 div.sk-parallel-item::after {content: \"\";width: 100%;border-bottom: 1px solid gray;flex-grow: 1;}#sk-container-id-5 div.sk-label:hover label.sk-toggleable__label {background-color: #d4ebff;}#sk-container-id-5 div.sk-serial::before {content: \"\";position: absolute;border-left: 1px solid gray;box-sizing: border-box;top: 0;bottom: 0;left: 50%;z-index: 0;}#sk-container-id-5 div.sk-serial {display: flex;flex-direction: column;align-items: center;background-color: white;padding-right: 0.2em;padding-left: 0.2em;position: relative;}#sk-container-id-5 div.sk-item {position: relative;z-index: 1;}#sk-container-id-5 div.sk-parallel {display: flex;align-items: stretch;justify-content: center;background-color: white;position: relative;}#sk-container-id-5 div.sk-item::before, #sk-container-id-5 div.sk-parallel-item::before {content: \"\";position: absolute;border-left: 1px solid gray;box-sizing: border-box;top: 0;bottom: 0;left: 50%;z-index: -1;}#sk-container-id-5 div.sk-parallel-item {display: flex;flex-direction: column;z-index: 1;position: relative;background-color: white;}#sk-container-id-5 div.sk-parallel-item:first-child::after {align-self: flex-end;width: 50%;}#sk-container-id-5 div.sk-parallel-item:last-child::after {align-self: flex-start;width: 50%;}#sk-container-id-5 div.sk-parallel-item:only-child::after {width: 0;}#sk-container-id-5 div.sk-dashed-wrapped {border: 1px dashed gray;margin: 0 0.4em 0.5em 0.4em;box-sizing: border-box;padding-bottom: 0.4em;background-color: white;}#sk-container-id-5 div.sk-label label {font-family: monospace;font-weight: bold;display: inline-block;line-height: 1.2em;}#sk-container-id-5 div.sk-label-container {text-align: center;}#sk-container-id-5 div.sk-container {/* jupyter's `normalize.less` sets `[hidden] { display: none; }` but bootstrap.min.css set `[hidden] { display: none !important; }` so we also need the `!important` here to be able to override the default hidden behavior on the sphinx rendered scikit-learn.org. See: https://github.com/scikit-learn/scikit-learn/issues/21755 */display: inline-block !important;position: relative;}#sk-container-id-5 div.sk-text-repr-fallback {display: none;}</style><div id=\"sk-container-id-5\" class=\"sk-top-container\"><div class=\"sk-text-repr-fallback\"><pre>XGBRegressor(base_score=None, booster=None, callbacks=None,\n",
       "             colsample_bylevel=None, colsample_bynode=None,\n",
       "             colsample_bytree=0.8521107556733699, early_stopping_rounds=None,\n",
       "             enable_categorical=False, eval_metric=None, feature_types=None,\n",
       "             gamma=0.4918595690664665, gpu_id=None, grow_policy=None,\n",
       "             importance_type=None, interaction_constraints=None,\n",
       "             learning_rate=0.22104387821944305, max_bin=None,\n",
       "             max_cat_threshold=None, max_cat_to_onehot=None,\n",
       "             max_delta_step=None, max_depth=10, max_leaves=None,\n",
       "             min_child_weight=2, missing=nan, monotone_constraints=None,\n",
       "             n_estimators=100, n_jobs=None, num_parallel_tree=None,\n",
       "             predictor=None, random_state=42, ...)</pre><b>In a Jupyter environment, please rerun this cell to show the HTML representation or trust the notebook. <br />On GitHub, the HTML representation is unable to render, please try loading this page with nbviewer.org.</b></div><div class=\"sk-container\" hidden><div class=\"sk-item\"><div class=\"sk-estimator sk-toggleable\"><input class=\"sk-toggleable__control sk-hidden--visually\" id=\"sk-estimator-id-5\" type=\"checkbox\" checked><label for=\"sk-estimator-id-5\" class=\"sk-toggleable__label sk-toggleable__label-arrow\">XGBRegressor</label><div class=\"sk-toggleable__content\"><pre>XGBRegressor(base_score=None, booster=None, callbacks=None,\n",
       "             colsample_bylevel=None, colsample_bynode=None,\n",
       "             colsample_bytree=0.8521107556733699, early_stopping_rounds=None,\n",
       "             enable_categorical=False, eval_metric=None, feature_types=None,\n",
       "             gamma=0.4918595690664665, gpu_id=None, grow_policy=None,\n",
       "             importance_type=None, interaction_constraints=None,\n",
       "             learning_rate=0.22104387821944305, max_bin=None,\n",
       "             max_cat_threshold=None, max_cat_to_onehot=None,\n",
       "             max_delta_step=None, max_depth=10, max_leaves=None,\n",
       "             min_child_weight=2, missing=nan, monotone_constraints=None,\n",
       "             n_estimators=100, n_jobs=None, num_parallel_tree=None,\n",
       "             predictor=None, random_state=42, ...)</pre></div></div></div></div></div>"
      ],
      "text/plain": [
       "XGBRegressor(base_score=None, booster=None, callbacks=None,\n",
       "             colsample_bylevel=None, colsample_bynode=None,\n",
       "             colsample_bytree=0.8521107556733699, early_stopping_rounds=None,\n",
       "             enable_categorical=False, eval_metric=None, feature_types=None,\n",
       "             gamma=0.4918595690664665, gpu_id=None, grow_policy=None,\n",
       "             importance_type=None, interaction_constraints=None,\n",
       "             learning_rate=0.22104387821944305, max_bin=None,\n",
       "             max_cat_threshold=None, max_cat_to_onehot=None,\n",
       "             max_delta_step=None, max_depth=10, max_leaves=None,\n",
       "             min_child_weight=2, missing=nan, monotone_constraints=None,\n",
       "             n_estimators=100, n_jobs=None, num_parallel_tree=None,\n",
       "             predictor=None, random_state=42, ...)"
      ]
     },
     "execution_count": 39,
     "metadata": {},
     "output_type": "execute_result"
    }
   ],
   "source": [
    "#Best model\n",
    "xgb = XGBRegressor(learning_rate=0.22104387821944305, gamma=0.4918595690664665, max_depth=10, min_child_weight=2, \n",
    "                   subsample=0.9280489884605818, colsample_bytree=0.8521107556733699, random_state=42)\n",
    "\n",
    "#Scale features and fit best model\n",
    "scaler = PowerTransformer()\n",
    "scaler.fit(X_train, y_train)\n",
    "X_train_scaled = scaler.transform(X_train)\n",
    "X_test_scaled = scaler.transform(X_test)\n",
    "xgb.fit(X_train_scaled, y_train)"
   ]
  },
  {
   "cell_type": "code",
   "execution_count": 40,
   "id": "91058ce6-67e7-4e96-ba0e-4e9c0c75c794",
   "metadata": {},
   "outputs": [
    {
     "data": {
      "text/html": [
       "<div>\n",
       "<style scoped>\n",
       "    .dataframe tbody tr th:only-of-type {\n",
       "        vertical-align: middle;\n",
       "    }\n",
       "\n",
       "    .dataframe tbody tr th {\n",
       "        vertical-align: top;\n",
       "    }\n",
       "\n",
       "    .dataframe thead th {\n",
       "        text-align: right;\n",
       "    }\n",
       "</style>\n",
       "<table border=\"1\" class=\"dataframe\">\n",
       "  <thead>\n",
       "    <tr style=\"text-align: right;\">\n",
       "      <th></th>\n",
       "      <th>Feature</th>\n",
       "      <th>Importance</th>\n",
       "    </tr>\n",
       "  </thead>\n",
       "  <tbody>\n",
       "    <tr>\n",
       "      <th>0</th>\n",
       "      <td>instrumentalness</td>\n",
       "      <td>0.118265</td>\n",
       "    </tr>\n",
       "    <tr>\n",
       "      <th>1</th>\n",
       "      <td>tempo</td>\n",
       "      <td>0.111191</td>\n",
       "    </tr>\n",
       "    <tr>\n",
       "      <th>2</th>\n",
       "      <td>energy</td>\n",
       "      <td>0.102951</td>\n",
       "    </tr>\n",
       "    <tr>\n",
       "      <th>3</th>\n",
       "      <td>liveness</td>\n",
       "      <td>0.102194</td>\n",
       "    </tr>\n",
       "    <tr>\n",
       "      <th>4</th>\n",
       "      <td>loudness</td>\n",
       "      <td>0.099779</td>\n",
       "    </tr>\n",
       "    <tr>\n",
       "      <th>5</th>\n",
       "      <td>acousticness</td>\n",
       "      <td>0.098913</td>\n",
       "    </tr>\n",
       "    <tr>\n",
       "      <th>6</th>\n",
       "      <td>valence</td>\n",
       "      <td>0.094582</td>\n",
       "    </tr>\n",
       "    <tr>\n",
       "      <th>7</th>\n",
       "      <td>speechiness</td>\n",
       "      <td>0.093796</td>\n",
       "    </tr>\n",
       "    <tr>\n",
       "      <th>8</th>\n",
       "      <td>danceability</td>\n",
       "      <td>0.091276</td>\n",
       "    </tr>\n",
       "    <tr>\n",
       "      <th>9</th>\n",
       "      <td>duration</td>\n",
       "      <td>0.087051</td>\n",
       "    </tr>\n",
       "  </tbody>\n",
       "</table>\n",
       "</div>"
      ],
      "text/plain": [
       "            Feature  Importance\n",
       "0  instrumentalness    0.118265\n",
       "1             tempo    0.111191\n",
       "2            energy    0.102951\n",
       "3          liveness    0.102194\n",
       "4          loudness    0.099779\n",
       "5      acousticness    0.098913\n",
       "6           valence    0.094582\n",
       "7       speechiness    0.093796\n",
       "8      danceability    0.091276\n",
       "9          duration    0.087051"
      ]
     },
     "execution_count": 40,
     "metadata": {},
     "output_type": "execute_result"
    }
   ],
   "source": [
    "#Feature importance dataframe\n",
    "xgb_fi = pd.DataFrame({'Feature':X_train.columns, 'Importance':xgb.feature_importances_}).sort_values(\n",
    "                    'Importance', ascending=False).reset_index(drop=True)\n",
    "xgb_fi"
   ]
  },
  {
   "cell_type": "code",
   "execution_count": 41,
   "id": "d12e23c7-3596-4f76-96d5-4506ce4b7705",
   "metadata": {},
   "outputs": [
    {
     "data": {
      "image/png": "[encoded data removed]",
      "text/plain": [
       "<Figure size 1000x500 with 1 Axes>"
      ]
     },
     "metadata": {},
     "output_type": "display_data"
    }
   ],
   "source": [
    "#Feature importance plot\n",
    "plt.subplots(figsize=(10,5));\n",
    "sns.barplot(xgb_fi, x='Feature', y='Importance');\n",
    "plt.xticks(rotation=90);"
   ]
  },
  {
   "cell_type": "code",
   "execution_count": 42,
   "id": "95533d5c-a866-48f0-adf1-0c953ca3f160",
   "metadata": {},
   "outputs": [],
   "source": [
    "#CV scores\n",
    "xgb_scores = cross_val_score(xgb, X_train_scaled, y_train, scoring=mae, cv=kf, n_jobs=-1)\n",
    "xgb_score_mean = np.mean(xgb_scores)\n",
    "xgb_score_std = np.std(xgb_scores)\n",
    "\n",
    "#Test prediction score\n",
    "xgb_pred = xgb.predict(X_test_scaled)\n",
    "xgb_pred_score = mean_absolute_error(y_test, xgb_pred)"
   ]
  },
  {
   "cell_type": "code",
   "execution_count": 43,
   "id": "50c6f43b-91fb-4393-8761-4a9a5b7e566f",
   "metadata": {},
   "outputs": [
    {
     "name": "stdout",
     "output_type": "stream",
     "text": [
      "XGBoost MAE\n",
      "\n",
      "CV Mean: 17.622566481974907\n",
      "CV Std: 0.13984994917622798\n",
      "Test Pred: 17.28861440812625\n"
     ]
    }
   ],
   "source": [
    "print(f'XGBoost MAE\\n\\nCV Mean: {xgb_score_mean}\\nCV Std: {xgb_score_std}\\nTest Pred: {xgb_pred_score}')"
   ]
  },
  {
   "cell_type": "markdown",
   "id": "bcad5859-91b1-4795-a3a9-183d94626133",
   "metadata": {},
   "source": [
    "## Model Comparison: Feature Importance"
   ]
  },
  {
   "cell_type": "code",
   "execution_count": 151,
   "id": "c0ba8273-4205-4a73-8516-cc8ec5a42966",
   "metadata": {},
   "outputs": [
    {
     "data": {
      "text/html": [
       "<div>\n",
       "<style scoped>\n",
       "    .dataframe tbody tr th:only-of-type {\n",
       "        vertical-align: middle;\n",
       "    }\n",
       "\n",
       "    .dataframe tbody tr th {\n",
       "        vertical-align: top;\n",
       "    }\n",
       "\n",
       "    .dataframe thead th {\n",
       "        text-align: right;\n",
       "    }\n",
       "</style>\n",
       "<table border=\"1\" class=\"dataframe\">\n",
       "  <thead>\n",
       "    <tr style=\"text-align: right;\">\n",
       "      <th></th>\n",
       "      <th>Feature</th>\n",
       "      <th>rf</th>\n",
       "      <th>et</th>\n",
       "      <th>gb</th>\n",
       "      <th>xgb</th>\n",
       "    </tr>\n",
       "  </thead>\n",
       "  <tbody>\n",
       "    <tr>\n",
       "      <th>0</th>\n",
       "      <td>duration</td>\n",
       "      <td>0.113663</td>\n",
       "      <td>0.106840</td>\n",
       "      <td>0.115055</td>\n",
       "      <td>0.087051</td>\n",
       "    </tr>\n",
       "    <tr>\n",
       "      <th>1</th>\n",
       "      <td>loudness</td>\n",
       "      <td>0.110351</td>\n",
       "      <td>0.105952</td>\n",
       "      <td>0.113379</td>\n",
       "      <td>0.099779</td>\n",
       "    </tr>\n",
       "    <tr>\n",
       "      <th>2</th>\n",
       "      <td>tempo</td>\n",
       "      <td>0.105200</td>\n",
       "      <td>0.095905</td>\n",
       "      <td>0.114567</td>\n",
       "      <td>0.111191</td>\n",
       "    </tr>\n",
       "    <tr>\n",
       "      <th>3</th>\n",
       "      <td>energy</td>\n",
       "      <td>0.101374</td>\n",
       "      <td>0.104153</td>\n",
       "      <td>0.093515</td>\n",
       "      <td>0.102951</td>\n",
       "    </tr>\n",
       "    <tr>\n",
       "      <th>4</th>\n",
       "      <td>speechiness</td>\n",
       "      <td>0.098280</td>\n",
       "      <td>0.095739</td>\n",
       "      <td>0.097661</td>\n",
       "      <td>0.093796</td>\n",
       "    </tr>\n",
       "    <tr>\n",
       "      <th>5</th>\n",
       "      <td>acousticness</td>\n",
       "      <td>0.096916</td>\n",
       "      <td>0.099422</td>\n",
       "      <td>0.096410</td>\n",
       "      <td>0.098913</td>\n",
       "    </tr>\n",
       "    <tr>\n",
       "      <th>6</th>\n",
       "      <td>valence</td>\n",
       "      <td>0.095318</td>\n",
       "      <td>0.095804</td>\n",
       "      <td>0.093406</td>\n",
       "      <td>0.094582</td>\n",
       "    </tr>\n",
       "    <tr>\n",
       "      <th>7</th>\n",
       "      <td>danceability</td>\n",
       "      <td>0.094463</td>\n",
       "      <td>0.095383</td>\n",
       "      <td>0.091888</td>\n",
       "      <td>0.091276</td>\n",
       "    </tr>\n",
       "    <tr>\n",
       "      <th>8</th>\n",
       "      <td>instrumentalness</td>\n",
       "      <td>0.092700</td>\n",
       "      <td>0.106628</td>\n",
       "      <td>0.092583</td>\n",
       "      <td>0.118265</td>\n",
       "    </tr>\n",
       "    <tr>\n",
       "      <th>9</th>\n",
       "      <td>liveness</td>\n",
       "      <td>0.091735</td>\n",
       "      <td>0.094174</td>\n",
       "      <td>0.091535</td>\n",
       "      <td>0.102194</td>\n",
       "    </tr>\n",
       "  </tbody>\n",
       "</table>\n",
       "</div>"
      ],
      "text/plain": [
       "            Feature        rf        et        gb       xgb\n",
       "0          duration  0.113663  0.106840  0.115055  0.087051\n",
       "1          loudness  0.110351  0.105952  0.113379  0.099779\n",
       "2             tempo  0.105200  0.095905  0.114567  0.111191\n",
       "3            energy  0.101374  0.104153  0.093515  0.102951\n",
       "4       speechiness  0.098280  0.095739  0.097661  0.093796\n",
       "5      acousticness  0.096916  0.099422  0.096410  0.098913\n",
       "6           valence  0.095318  0.095804  0.093406  0.094582\n",
       "7      danceability  0.094463  0.095383  0.091888  0.091276\n",
       "8  instrumentalness  0.092700  0.106628  0.092583  0.118265\n",
       "9          liveness  0.091735  0.094174  0.091535  0.102194"
      ]
     },
     "execution_count": 151,
     "metadata": {},
     "output_type": "execute_result"
    }
   ],
   "source": [
    "#Datafrrame comparing feature importance per model\n",
    "df_fi = rf_fi.merge(et_fi, on='Feature', suffixes=['_rf', '_et'])\n",
    "df_fi = df_fi.merge(gb_fi, on='Feature')\n",
    "df_fi = df_fi.merge(xgb_fi, on='Feature')\n",
    "df_fi = df_fi.rename(columns={'Importance_rf': 'rf', 'Importance_et': 'et', 'Importance_x': 'gb', 'Importance_y': 'xgb'})\n",
    "df_fi"
   ]
  },
  {
   "cell_type": "code",
   "execution_count": 152,
   "id": "f7073ca2-d362-4cd8-9a18-4f6bd938de96",
   "metadata": {},
   "outputs": [
    {
     "data": {
      "text/html": [
       "<div>\n",
       "<style scoped>\n",
       "    .dataframe tbody tr th:only-of-type {\n",
       "        vertical-align: middle;\n",
       "    }\n",
       "\n",
       "    .dataframe tbody tr th {\n",
       "        vertical-align: top;\n",
       "    }\n",
       "\n",
       "    .dataframe thead th {\n",
       "        text-align: right;\n",
       "    }\n",
       "</style>\n",
       "<table border=\"1\" class=\"dataframe\">\n",
       "  <thead>\n",
       "    <tr style=\"text-align: right;\">\n",
       "      <th></th>\n",
       "      <th>Feature</th>\n",
       "      <th>Model</th>\n",
       "      <th>Importance</th>\n",
       "    </tr>\n",
       "  </thead>\n",
       "  <tbody>\n",
       "    <tr>\n",
       "      <th>0</th>\n",
       "      <td>duration</td>\n",
       "      <td>rf</td>\n",
       "      <td>0.113663</td>\n",
       "    </tr>\n",
       "    <tr>\n",
       "      <th>1</th>\n",
       "      <td>loudness</td>\n",
       "      <td>rf</td>\n",
       "      <td>0.110351</td>\n",
       "    </tr>\n",
       "    <tr>\n",
       "      <th>2</th>\n",
       "      <td>tempo</td>\n",
       "      <td>rf</td>\n",
       "      <td>0.105200</td>\n",
       "    </tr>\n",
       "    <tr>\n",
       "      <th>3</th>\n",
       "      <td>energy</td>\n",
       "      <td>rf</td>\n",
       "      <td>0.101374</td>\n",
       "    </tr>\n",
       "    <tr>\n",
       "      <th>4</th>\n",
       "      <td>speechiness</td>\n",
       "      <td>rf</td>\n",
       "      <td>0.098280</td>\n",
       "    </tr>\n",
       "    <tr>\n",
       "      <th>5</th>\n",
       "      <td>acousticness</td>\n",
       "      <td>rf</td>\n",
       "      <td>0.096916</td>\n",
       "    </tr>\n",
       "    <tr>\n",
       "      <th>6</th>\n",
       "      <td>valence</td>\n",
       "      <td>rf</td>\n",
       "      <td>0.095318</td>\n",
       "    </tr>\n",
       "    <tr>\n",
       "      <th>7</th>\n",
       "      <td>danceability</td>\n",
       "      <td>rf</td>\n",
       "      <td>0.094463</td>\n",
       "    </tr>\n",
       "    <tr>\n",
       "      <th>8</th>\n",
       "      <td>instrumentalness</td>\n",
       "      <td>rf</td>\n",
       "      <td>0.092700</td>\n",
       "    </tr>\n",
       "    <tr>\n",
       "      <th>9</th>\n",
       "      <td>liveness</td>\n",
       "      <td>rf</td>\n",
       "      <td>0.091735</td>\n",
       "    </tr>\n",
       "    <tr>\n",
       "      <th>10</th>\n",
       "      <td>duration</td>\n",
       "      <td>et</td>\n",
       "      <td>0.106840</td>\n",
       "    </tr>\n",
       "    <tr>\n",
       "      <th>11</th>\n",
       "      <td>loudness</td>\n",
       "      <td>et</td>\n",
       "      <td>0.105952</td>\n",
       "    </tr>\n",
       "    <tr>\n",
       "      <th>12</th>\n",
       "      <td>tempo</td>\n",
       "      <td>et</td>\n",
       "      <td>0.095905</td>\n",
       "    </tr>\n",
       "    <tr>\n",
       "      <th>13</th>\n",
       "      <td>energy</td>\n",
       "      <td>et</td>\n",
       "      <td>0.104153</td>\n",
       "    </tr>\n",
       "    <tr>\n",
       "      <th>14</th>\n",
       "      <td>speechiness</td>\n",
       "      <td>et</td>\n",
       "      <td>0.095739</td>\n",
       "    </tr>\n",
       "  </tbody>\n",
       "</table>\n",
       "</div>"
      ],
      "text/plain": [
       "             Feature Model  Importance\n",
       "0           duration    rf    0.113663\n",
       "1           loudness    rf    0.110351\n",
       "2              tempo    rf    0.105200\n",
       "3             energy    rf    0.101374\n",
       "4        speechiness    rf    0.098280\n",
       "5       acousticness    rf    0.096916\n",
       "6            valence    rf    0.095318\n",
       "7       danceability    rf    0.094463\n",
       "8   instrumentalness    rf    0.092700\n",
       "9           liveness    rf    0.091735\n",
       "10          duration    et    0.106840\n",
       "11          loudness    et    0.105952\n",
       "12             tempo    et    0.095905\n",
       "13            energy    et    0.104153\n",
       "14       speechiness    et    0.095739"
      ]
     },
     "execution_count": 152,
     "metadata": {},
     "output_type": "execute_result"
    }
   ],
   "source": [
    "#Melt dataframe for plotting\n",
    "df_fi_m = pd.melt(df_fi, id_vars='Feature', var_name='Model', value_name='Importance')\n",
    "df_fi_m.head(15)"
   ]
  },
  {
   "cell_type": "code",
   "execution_count": 163,
   "id": "733766d3-1471-4dbe-9e4e-2841212c45a9",
   "metadata": {},
   "outputs": [
    {
     "data": {
      "text/plain": [
       "[0.10565249412446674,\n",
       " 0.10736510990381527,\n",
       " 0.10671598265847332,\n",
       " 0.10049820420290129,\n",
       " 0.09636900852396778,\n",
       " 0.09791528636868525,\n",
       " 0.09477751852546978,\n",
       " 0.09325267113838145,\n",
       " 0.10254401826380924,\n",
       " 0.09490971374061036]"
      ]
     },
     "execution_count": 163,
     "metadata": {},
     "output_type": "execute_result"
    }
   ],
   "source": [
    "#Average importance of each feature across models\n",
    "fi_means = [x for x in df_fi.iloc[:,1:].mean(axis=1)]\n",
    "fi_means"
   ]
  },
  {
   "cell_type": "code",
   "execution_count": 160,
   "id": "8d77a797-124a-4e01-a719-96c38d9ec6a3",
   "metadata": {},
   "outputs": [
    {
     "data": {
      "image/png": "[encoded data removed]",
      "text/plain": [
       "<Figure size 1200x600 with 1 Axes>"
      ]
     },
     "metadata": {},
     "output_type": "display_data"
    }
   ],
   "source": [
    "#Grouped barplot showing feature importance for each model; horizontal lines indicate mean of each feature's importance across models\n",
    "plt.subplots(figsize=(12, 6));\n",
    "ax = sns.barplot(data=df_fi_m, x='Feature', y='Importance', hue='Model');\n",
    "plt.xticks(rotation=90);\n",
    "sns.move_legend(ax, 'upper left', bbox_to_anchor=(1, 1));\n",
    "for x in range(10):\n",
    "    plt.axhline(y=fi_means[x], xmin=x*0.1, xmax=x*0.1+0.1, c='black', alpha=0.5);"
   ]
  },
  {
   "cell_type": "markdown",
   "id": "726f0dd5-8472-47f3-89aa-0a3b6660f605",
   "metadata": {},
   "source": [
    "<div class=\"alert alert-block alert-info\">We can see that models demonstrated greater consistency in the feature importance of speechiness, acousticness, valence, and danceability, and greater variability in the importance of duration, loudness, tempo, energy, instrumentalness, and liveness. In general, XGBoost seemed to rank feature importance more differently than the other models relative to one another, with it placing a noticeably higher importance on instrumentalness and a lower importance on duration than the other models. By looking at the average importance of features across models (as indicated by the black horizontal lines), we see that duration, loudness, tempo, and instrumentalness are overall the most important features. (We note that this doesn't include the Hist Gradient Boosting model, as this model doesn't have a feature importance attribute). Let's now examine the relative performance of all five models that we tested.</div>"
   ]
  },
  {
   "cell_type": "markdown",
   "id": "c687b17d-91a8-4d54-9d6a-c7453e27da69",
   "metadata": {},
   "source": [
    "## Model Comparison: Predictive Performance"
   ]
  },
  {
   "cell_type": "code",
   "execution_count": 203,
   "id": "21f1da2d-af61-4be9-99d2-af5970ad633d",
   "metadata": {},
   "outputs": [
    {
     "data": {
      "text/html": [
       "<div>\n",
       "<style scoped>\n",
       "    .dataframe tbody tr th:only-of-type {\n",
       "        vertical-align: middle;\n",
       "    }\n",
       "\n",
       "    .dataframe tbody tr th {\n",
       "        vertical-align: top;\n",
       "    }\n",
       "\n",
       "    .dataframe thead th {\n",
       "        text-align: right;\n",
       "    }\n",
       "</style>\n",
       "<table border=\"1\" class=\"dataframe\">\n",
       "  <thead>\n",
       "    <tr style=\"text-align: right;\">\n",
       "      <th></th>\n",
       "      <th>Model</th>\n",
       "      <th>CV MAE Mean</th>\n",
       "      <th>Test MAE</th>\n",
       "    </tr>\n",
       "  </thead>\n",
       "  <tbody>\n",
       "    <tr>\n",
       "      <th>0</th>\n",
       "      <td>rf</td>\n",
       "      <td>16.860234</td>\n",
       "      <td>16.313472</td>\n",
       "    </tr>\n",
       "    <tr>\n",
       "      <th>1</th>\n",
       "      <td>et</td>\n",
       "      <td>15.936576</td>\n",
       "      <td>15.301916</td>\n",
       "    </tr>\n",
       "    <tr>\n",
       "      <th>2</th>\n",
       "      <td>gb</td>\n",
       "      <td>16.826026</td>\n",
       "      <td>16.003200</td>\n",
       "    </tr>\n",
       "    <tr>\n",
       "      <th>3</th>\n",
       "      <td>hgb</td>\n",
       "      <td>18.241643</td>\n",
       "      <td>17.683754</td>\n",
       "    </tr>\n",
       "    <tr>\n",
       "      <th>4</th>\n",
       "      <td>xgb</td>\n",
       "      <td>17.622566</td>\n",
       "      <td>17.288614</td>\n",
       "    </tr>\n",
       "  </tbody>\n",
       "</table>\n",
       "</div>"
      ],
      "text/plain": [
       "  Model  CV MAE Mean   Test MAE\n",
       "0    rf    16.860234  16.313472\n",
       "1    et    15.936576  15.301916\n",
       "2    gb    16.826026  16.003200\n",
       "3   hgb    18.241643  17.683754\n",
       "4   xgb    17.622566  17.288614"
      ]
     },
     "execution_count": 203,
     "metadata": {},
     "output_type": "execute_result"
    }
   ],
   "source": [
    "#Dataframe of models and their respective CV and test mean absolute errors\n",
    "df_mp = pd.DataFrame({\n",
    "    'Model': ['rf', 'et', 'gb', 'hgb', 'xgb'],\n",
    "    'CV MAE Mean': [rf_score_mean, et_score_mean, gb_score_mean, hgb_score_mean, xgb_score_mean],\n",
    "    'Test MAE': [rf_pred_score, et_pred_score, gb_pred_score, hgb_pred_score, xgb_pred_score]\n",
    "})\n",
    "df_mp"
   ]
  },
  {
   "cell_type": "code",
   "execution_count": 204,
   "id": "ffc5da0f-33ae-48fa-bf71-bf03c6ff8bda",
   "metadata": {},
   "outputs": [
    {
     "data": {
      "text/html": [
       "<div>\n",
       "<style scoped>\n",
       "    .dataframe tbody tr th:only-of-type {\n",
       "        vertical-align: middle;\n",
       "    }\n",
       "\n",
       "    .dataframe tbody tr th {\n",
       "        vertical-align: top;\n",
       "    }\n",
       "\n",
       "    .dataframe thead th {\n",
       "        text-align: right;\n",
       "    }\n",
       "</style>\n",
       "<table border=\"1\" class=\"dataframe\">\n",
       "  <thead>\n",
       "    <tr style=\"text-align: right;\">\n",
       "      <th></th>\n",
       "      <th>Model</th>\n",
       "      <th>Metric</th>\n",
       "      <th>Score</th>\n",
       "    </tr>\n",
       "  </thead>\n",
       "  <tbody>\n",
       "    <tr>\n",
       "      <th>0</th>\n",
       "      <td>rf</td>\n",
       "      <td>CV MAE Mean</td>\n",
       "      <td>16.860234</td>\n",
       "    </tr>\n",
       "    <tr>\n",
       "      <th>1</th>\n",
       "      <td>et</td>\n",
       "      <td>CV MAE Mean</td>\n",
       "      <td>15.936576</td>\n",
       "    </tr>\n",
       "    <tr>\n",
       "      <th>2</th>\n",
       "      <td>gb</td>\n",
       "      <td>CV MAE Mean</td>\n",
       "      <td>16.826026</td>\n",
       "    </tr>\n",
       "    <tr>\n",
       "      <th>3</th>\n",
       "      <td>hgb</td>\n",
       "      <td>CV MAE Mean</td>\n",
       "      <td>18.241643</td>\n",
       "    </tr>\n",
       "    <tr>\n",
       "      <th>4</th>\n",
       "      <td>xgb</td>\n",
       "      <td>CV MAE Mean</td>\n",
       "      <td>17.622566</td>\n",
       "    </tr>\n",
       "    <tr>\n",
       "      <th>5</th>\n",
       "      <td>rf</td>\n",
       "      <td>Test MAE</td>\n",
       "      <td>16.313472</td>\n",
       "    </tr>\n",
       "    <tr>\n",
       "      <th>6</th>\n",
       "      <td>et</td>\n",
       "      <td>Test MAE</td>\n",
       "      <td>15.301916</td>\n",
       "    </tr>\n",
       "    <tr>\n",
       "      <th>7</th>\n",
       "      <td>gb</td>\n",
       "      <td>Test MAE</td>\n",
       "      <td>16.003200</td>\n",
       "    </tr>\n",
       "    <tr>\n",
       "      <th>8</th>\n",
       "      <td>hgb</td>\n",
       "      <td>Test MAE</td>\n",
       "      <td>17.683754</td>\n",
       "    </tr>\n",
       "    <tr>\n",
       "      <th>9</th>\n",
       "      <td>xgb</td>\n",
       "      <td>Test MAE</td>\n",
       "      <td>17.288614</td>\n",
       "    </tr>\n",
       "  </tbody>\n",
       "</table>\n",
       "</div>"
      ],
      "text/plain": [
       "  Model       Metric      Score\n",
       "0    rf  CV MAE Mean  16.860234\n",
       "1    et  CV MAE Mean  15.936576\n",
       "2    gb  CV MAE Mean  16.826026\n",
       "3   hgb  CV MAE Mean  18.241643\n",
       "4   xgb  CV MAE Mean  17.622566\n",
       "5    rf     Test MAE  16.313472\n",
       "6    et     Test MAE  15.301916\n",
       "7    gb     Test MAE  16.003200\n",
       "8   hgb     Test MAE  17.683754\n",
       "9   xgb     Test MAE  17.288614"
      ]
     },
     "execution_count": 204,
     "metadata": {},
     "output_type": "execute_result"
    }
   ],
   "source": [
    "#Melted dataframe for plotting\n",
    "df_mp_m = pd.melt(df_mp, id_vars='Model', var_name='Metric', value_name='Score')\n",
    "df_mp_m"
   ]
  },
  {
   "cell_type": "code",
   "execution_count": 193,
   "id": "d8d781b3-06e2-48f5-bec4-d8edb02d9e22",
   "metadata": {},
   "outputs": [
    {
     "data": {
      "text/plain": [
       "[0.09942792642775837,\n",
       " 0.08829270949863222,\n",
       " 0.11903234927704118,\n",
       " 0.19786301962386998,\n",
       " 0.13984994917622798]"
      ]
     },
     "execution_count": 193,
     "metadata": {},
     "output_type": "execute_result"
    }
   ],
   "source": [
    "#Standard Deviations for CV Scores across models\n",
    "stds = [rf_score_std, et_score_std, gb_score_std, hgb_score_std, xgb_score_std]\n",
    "stds"
   ]
  },
  {
   "cell_type": "code",
   "execution_count": 207,
   "id": "b53ced94-e57d-43b7-9852-6fd2e66c6d6e",
   "metadata": {},
   "outputs": [
    {
     "data": {
      "image/png": "[encoded data removed]",
      "text/plain": [
       "<Figure size 1000x600 with 1 Axes>"
      ]
     },
     "metadata": {},
     "output_type": "display_data"
    }
   ],
   "source": [
    "#Grouped barplot showing average cross validated mean absolute error and test MAE per model; error bar indicates standard deviation\n",
    "plt.subplots(figsize=(10, 6));\n",
    "ax = sns.barplot(data=df_mp_m, x='Model', y='Score', hue='Metric');\n",
    "sns.move_legend(ax, 'upper left', bbox_to_anchor=(1, 1));\n",
    "for s in range(5):\n",
    "    plt.errorbar(x=s-0.2, y=df_mp['CV MAE Mean'][s], yerr=stds[s], c='black');"
   ]
  },
  {
   "cell_type": "markdown",
   "id": "0143b826-c507-45e4-8bce-b4277b9a7d2f",
   "metadata": {},
   "source": [
    "<div class=\"alert alert-block alert-info\">As we want for the mean absolute error to be lower, the shorter bars indicate better results. It is clear that the Extra Trees Regressor is our best model. It has both the smallest cross validated mean absolute error on the train set, and the smallest mean absolute error on the test set predictions, as well as the smallest standard deviation, ensuring more reliability in the model's reproducibility. Interestingly, the test set performance is better than the averaged results from the cross validated train set. This is likely due to a greater outlier in the train set, making predictions with those data more variable than the those of the test set. This works to our favor though, as the lower MAE for the test set indicates that our models are not overfit to the training data.</div>"
   ]
  },
  {
   "cell_type": "markdown",
   "id": "74ca17a9-9c7b-47dc-b3f1-8bc3ed236e8f",
   "metadata": {},
   "source": [
    "## Quantifying Target Variable"
   ]
  },
  {
   "cell_type": "code",
   "execution_count": 396,
   "id": "c295930a-8709-499d-aca2-fc6cdd08b268",
   "metadata": {},
   "outputs": [
    {
     "data": {
      "text/html": [
       "<div>\n",
       "<style scoped>\n",
       "    .dataframe tbody tr th:only-of-type {\n",
       "        vertical-align: middle;\n",
       "    }\n",
       "\n",
       "    .dataframe tbody tr th {\n",
       "        vertical-align: top;\n",
       "    }\n",
       "\n",
       "    .dataframe thead th {\n",
       "        text-align: right;\n",
       "    }\n",
       "</style>\n",
       "<table border=\"1\" class=\"dataframe\">\n",
       "  <thead>\n",
       "    <tr style=\"text-align: right;\">\n",
       "      <th></th>\n",
       "      <th>track_id</th>\n",
       "      <th>track_name</th>\n",
       "      <th>track_artist</th>\n",
       "      <th>track_popularity</th>\n",
       "      <th>track_album_id</th>\n",
       "      <th>track_album_name</th>\n",
       "      <th>track_album_release_date</th>\n",
       "      <th>playlist_name</th>\n",
       "      <th>playlist_id</th>\n",
       "      <th>playlist_genre</th>\n",
       "      <th>...</th>\n",
       "      <th>key</th>\n",
       "      <th>loudness</th>\n",
       "      <th>mode</th>\n",
       "      <th>speechiness</th>\n",
       "      <th>acousticness</th>\n",
       "      <th>instrumentalness</th>\n",
       "      <th>liveness</th>\n",
       "      <th>valence</th>\n",
       "      <th>tempo</th>\n",
       "      <th>duration_ms</th>\n",
       "    </tr>\n",
       "  </thead>\n",
       "  <tbody>\n",
       "    <tr>\n",
       "      <th>0</th>\n",
       "      <td>6f807x0ima9a1j3VPbc7VN</td>\n",
       "      <td>I Don't Care (with Justin Bieber) - Loud Luxur...</td>\n",
       "      <td>Ed Sheeran</td>\n",
       "      <td>66</td>\n",
       "      <td>2oCs0DGTsRO98Gh5ZSl2Cx</td>\n",
       "      <td>I Don't Care (with Justin Bieber) [Loud Luxury...</td>\n",
       "      <td>2019-06-14</td>\n",
       "      <td>Pop Remix</td>\n",
       "      <td>37i9dQZF1DXcZDD7cfEKhW</td>\n",
       "      <td>pop</td>\n",
       "      <td>...</td>\n",
       "      <td>6</td>\n",
       "      <td>-2.634</td>\n",
       "      <td>1</td>\n",
       "      <td>0.0583</td>\n",
       "      <td>0.1020</td>\n",
       "      <td>0.000000</td>\n",
       "      <td>0.0653</td>\n",
       "      <td>0.518</td>\n",
       "      <td>122.036</td>\n",
       "      <td>194754</td>\n",
       "    </tr>\n",
       "    <tr>\n",
       "      <th>1</th>\n",
       "      <td>0r7CVbZTWZgbTCYdfa2P31</td>\n",
       "      <td>Memories - Dillon Francis Remix</td>\n",
       "      <td>Maroon 5</td>\n",
       "      <td>67</td>\n",
       "      <td>63rPSO264uRjW1X5E6cWv6</td>\n",
       "      <td>Memories (Dillon Francis Remix)</td>\n",
       "      <td>2019-12-13</td>\n",
       "      <td>Pop Remix</td>\n",
       "      <td>37i9dQZF1DXcZDD7cfEKhW</td>\n",
       "      <td>pop</td>\n",
       "      <td>...</td>\n",
       "      <td>11</td>\n",
       "      <td>-4.969</td>\n",
       "      <td>1</td>\n",
       "      <td>0.0373</td>\n",
       "      <td>0.0724</td>\n",
       "      <td>0.004210</td>\n",
       "      <td>0.3570</td>\n",
       "      <td>0.693</td>\n",
       "      <td>99.972</td>\n",
       "      <td>162600</td>\n",
       "    </tr>\n",
       "    <tr>\n",
       "      <th>2</th>\n",
       "      <td>1z1Hg7Vb0AhHDiEmnDE79l</td>\n",
       "      <td>All the Time - Don Diablo Remix</td>\n",
       "      <td>Zara Larsson</td>\n",
       "      <td>70</td>\n",
       "      <td>1HoSmj2eLcsrR0vE9gThr4</td>\n",
       "      <td>All the Time (Don Diablo Remix)</td>\n",
       "      <td>2019-07-05</td>\n",
       "      <td>Pop Remix</td>\n",
       "      <td>37i9dQZF1DXcZDD7cfEKhW</td>\n",
       "      <td>pop</td>\n",
       "      <td>...</td>\n",
       "      <td>1</td>\n",
       "      <td>-3.432</td>\n",
       "      <td>0</td>\n",
       "      <td>0.0742</td>\n",
       "      <td>0.0794</td>\n",
       "      <td>0.000023</td>\n",
       "      <td>0.1100</td>\n",
       "      <td>0.613</td>\n",
       "      <td>124.008</td>\n",
       "      <td>176616</td>\n",
       "    </tr>\n",
       "    <tr>\n",
       "      <th>3</th>\n",
       "      <td>75FpbthrwQmzHlBJLuGdC7</td>\n",
       "      <td>Call You Mine - Keanu Silva Remix</td>\n",
       "      <td>The Chainsmokers</td>\n",
       "      <td>60</td>\n",
       "      <td>1nqYsOef1yKKuGOVchbsk6</td>\n",
       "      <td>Call You Mine - The Remixes</td>\n",
       "      <td>2019-07-19</td>\n",
       "      <td>Pop Remix</td>\n",
       "      <td>37i9dQZF1DXcZDD7cfEKhW</td>\n",
       "      <td>pop</td>\n",
       "      <td>...</td>\n",
       "      <td>7</td>\n",
       "      <td>-3.778</td>\n",
       "      <td>1</td>\n",
       "      <td>0.1020</td>\n",
       "      <td>0.0287</td>\n",
       "      <td>0.000009</td>\n",
       "      <td>0.2040</td>\n",
       "      <td>0.277</td>\n",
       "      <td>121.956</td>\n",
       "      <td>169093</td>\n",
       "    </tr>\n",
       "    <tr>\n",
       "      <th>4</th>\n",
       "      <td>1e8PAfcKUYoKkxPhrHqw4x</td>\n",
       "      <td>Someone You Loved - Future Humans Remix</td>\n",
       "      <td>Lewis Capaldi</td>\n",
       "      <td>69</td>\n",
       "      <td>7m7vv9wlQ4i0LFuJiE2zsQ</td>\n",
       "      <td>Someone You Loved (Future Humans Remix)</td>\n",
       "      <td>2019-03-05</td>\n",
       "      <td>Pop Remix</td>\n",
       "      <td>37i9dQZF1DXcZDD7cfEKhW</td>\n",
       "      <td>pop</td>\n",
       "      <td>...</td>\n",
       "      <td>1</td>\n",
       "      <td>-4.672</td>\n",
       "      <td>1</td>\n",
       "      <td>0.0359</td>\n",
       "      <td>0.0803</td>\n",
       "      <td>0.000000</td>\n",
       "      <td>0.0833</td>\n",
       "      <td>0.725</td>\n",
       "      <td>123.976</td>\n",
       "      <td>189052</td>\n",
       "    </tr>\n",
       "  </tbody>\n",
       "</table>\n",
       "<p>5 rows × 23 columns</p>\n",
       "</div>"
      ],
      "text/plain": [
       "                 track_id                                         track_name  \\\n",
       "0  6f807x0ima9a1j3VPbc7VN  I Don't Care (with Justin Bieber) - Loud Luxur...   \n",
       "1  0r7CVbZTWZgbTCYdfa2P31                    Memories - Dillon Francis Remix   \n",
       "2  1z1Hg7Vb0AhHDiEmnDE79l                    All the Time - Don Diablo Remix   \n",
       "3  75FpbthrwQmzHlBJLuGdC7                  Call You Mine - Keanu Silva Remix   \n",
       "4  1e8PAfcKUYoKkxPhrHqw4x            Someone You Loved - Future Humans Remix   \n",
       "\n",
       "       track_artist  track_popularity          track_album_id  \\\n",
       "0        Ed Sheeran                66  2oCs0DGTsRO98Gh5ZSl2Cx   \n",
       "1          Maroon 5                67  63rPSO264uRjW1X5E6cWv6   \n",
       "2      Zara Larsson                70  1HoSmj2eLcsrR0vE9gThr4   \n",
       "3  The Chainsmokers                60  1nqYsOef1yKKuGOVchbsk6   \n",
       "4     Lewis Capaldi                69  7m7vv9wlQ4i0LFuJiE2zsQ   \n",
       "\n",
       "                                    track_album_name track_album_release_date  \\\n",
       "0  I Don't Care (with Justin Bieber) [Loud Luxury...               2019-06-14   \n",
       "1                    Memories (Dillon Francis Remix)               2019-12-13   \n",
       "2                    All the Time (Don Diablo Remix)               2019-07-05   \n",
       "3                        Call You Mine - The Remixes               2019-07-19   \n",
       "4            Someone You Loved (Future Humans Remix)               2019-03-05   \n",
       "\n",
       "  playlist_name             playlist_id playlist_genre  ... key  loudness  \\\n",
       "0     Pop Remix  37i9dQZF1DXcZDD7cfEKhW            pop  ...   6    -2.634   \n",
       "1     Pop Remix  37i9dQZF1DXcZDD7cfEKhW            pop  ...  11    -4.969   \n",
       "2     Pop Remix  37i9dQZF1DXcZDD7cfEKhW            pop  ...   1    -3.432   \n",
       "3     Pop Remix  37i9dQZF1DXcZDD7cfEKhW            pop  ...   7    -3.778   \n",
       "4     Pop Remix  37i9dQZF1DXcZDD7cfEKhW            pop  ...   1    -4.672   \n",
       "\n",
       "   mode  speechiness  acousticness  instrumentalness  liveness  valence  \\\n",
       "0     1       0.0583        0.1020          0.000000    0.0653    0.518   \n",
       "1     1       0.0373        0.0724          0.004210    0.3570    0.693   \n",
       "2     0       0.0742        0.0794          0.000023    0.1100    0.613   \n",
       "3     1       0.1020        0.0287          0.000009    0.2040    0.277   \n",
       "4     1       0.0359        0.0803          0.000000    0.0833    0.725   \n",
       "\n",
       "     tempo  duration_ms  \n",
       "0  122.036       194754  \n",
       "1   99.972       162600  \n",
       "2  124.008       176616  \n",
       "3  121.956       169093  \n",
       "4  123.976       189052  \n",
       "\n",
       "[5 rows x 23 columns]"
      ]
     },
     "execution_count": 396,
     "metadata": {},
     "output_type": "execute_result"
    }
   ],
   "source": [
    "#Look at original dataframe before cleaning and EDA to reference track info\n",
    "df_info = pd.read_csv('spotify_30k.csv')\n",
    "df_info.head()"
   ]
  },
  {
   "cell_type": "code",
   "execution_count": 397,
   "id": "b527c7a5-5459-4d2b-b070-d7358870aec5",
   "metadata": {},
   "outputs": [
    {
     "data": {
      "text/plain": [
       "Index(['track_id', 'track_name', 'track_artist', 'track_popularity',\n",
       "       'track_album_id', 'track_album_name', 'track_album_release_date',\n",
       "       'playlist_name', 'playlist_id', 'playlist_genre', 'playlist_subgenre',\n",
       "       'danceability', 'energy', 'key', 'loudness', 'mode', 'speechiness',\n",
       "       'acousticness', 'instrumentalness', 'liveness', 'valence', 'tempo',\n",
       "       'duration_ms'],\n",
       "      dtype='object')"
      ]
     },
     "execution_count": 397,
     "metadata": {},
     "output_type": "execute_result"
    }
   ],
   "source": [
    "df_info.columns"
   ]
  },
  {
   "cell_type": "code",
   "execution_count": 380,
   "id": "bbf173eb-bb90-4842-b12e-9cf61d25c0ab",
   "metadata": {},
   "outputs": [
    {
     "data": {
      "text/html": [
       "<div>\n",
       "<style scoped>\n",
       "    .dataframe tbody tr th:only-of-type {\n",
       "        vertical-align: middle;\n",
       "    }\n",
       "\n",
       "    .dataframe tbody tr th {\n",
       "        vertical-align: top;\n",
       "    }\n",
       "\n",
       "    .dataframe thead th {\n",
       "        text-align: right;\n",
       "    }\n",
       "</style>\n",
       "<table border=\"1\" class=\"dataframe\">\n",
       "  <thead>\n",
       "    <tr style=\"text-align: right;\">\n",
       "      <th></th>\n",
       "      <th>track_name</th>\n",
       "      <th>track_artist</th>\n",
       "      <th>track_popularity</th>\n",
       "    </tr>\n",
       "  </thead>\n",
       "  <tbody>\n",
       "    <tr>\n",
       "      <th>18072</th>\n",
       "      <td>Ojitos Cafe</td>\n",
       "      <td>18 Kilates</td>\n",
       "      <td>0</td>\n",
       "    </tr>\n",
       "    <tr>\n",
       "      <th>22700</th>\n",
       "      <td>At Seventeen</td>\n",
       "      <td>Janis Ian</td>\n",
       "      <td>5</td>\n",
       "    </tr>\n",
       "    <tr>\n",
       "      <th>11927</th>\n",
       "      <td>Everybody's Talkin' - From \"Midnight Cowboy\"</td>\n",
       "      <td>Harry Nilsson</td>\n",
       "      <td>10</td>\n",
       "    </tr>\n",
       "    <tr>\n",
       "      <th>2135</th>\n",
       "      <td>Umbrella</td>\n",
       "      <td>Rihanna</td>\n",
       "      <td>15</td>\n",
       "    </tr>\n",
       "    <tr>\n",
       "      <th>28190</th>\n",
       "      <td>One Night of Karma</td>\n",
       "      <td>Tetengo</td>\n",
       "      <td>20</td>\n",
       "    </tr>\n",
       "    <tr>\n",
       "      <th>31553</th>\n",
       "      <td>Existence</td>\n",
       "      <td>Deorro</td>\n",
       "      <td>25</td>\n",
       "    </tr>\n",
       "    <tr>\n",
       "      <th>28777</th>\n",
       "      <td>Arcadia</td>\n",
       "      <td>Hardwell</td>\n",
       "      <td>30</td>\n",
       "    </tr>\n",
       "    <tr>\n",
       "      <th>13171</th>\n",
       "      <td>Awa adounia</td>\n",
       "      <td>Liya Ag Ablil</td>\n",
       "      <td>35</td>\n",
       "    </tr>\n",
       "    <tr>\n",
       "      <th>24887</th>\n",
       "      <td>Things We Do For Love</td>\n",
       "      <td>Horace Brown</td>\n",
       "      <td>40</td>\n",
       "    </tr>\n",
       "    <tr>\n",
       "      <th>7501</th>\n",
       "      <td>Medicine Man</td>\n",
       "      <td>Dorothy</td>\n",
       "      <td>45</td>\n",
       "    </tr>\n",
       "    <tr>\n",
       "      <th>9248</th>\n",
       "      <td>Echte Berliner</td>\n",
       "      <td>AK Ausserkontrolle</td>\n",
       "      <td>50</td>\n",
       "    </tr>\n",
       "    <tr>\n",
       "      <th>1071</th>\n",
       "      <td>Video Games - Remastered</td>\n",
       "      <td>Lana Del Rey</td>\n",
       "      <td>55</td>\n",
       "    </tr>\n",
       "    <tr>\n",
       "      <th>30636</th>\n",
       "      <td>Diamonds</td>\n",
       "      <td>Rihanna</td>\n",
       "      <td>60</td>\n",
       "    </tr>\n",
       "    <tr>\n",
       "      <th>24144</th>\n",
       "      <td>That's The Way Love Goes</td>\n",
       "      <td>Janet Jackson</td>\n",
       "      <td>65</td>\n",
       "    </tr>\n",
       "    <tr>\n",
       "      <th>13419</th>\n",
       "      <td>Hey Joe</td>\n",
       "      <td>Jimi Hendrix</td>\n",
       "      <td>70</td>\n",
       "    </tr>\n",
       "    <tr>\n",
       "      <th>18468</th>\n",
       "      <td>Danza Kuduro</td>\n",
       "      <td>Don Omar</td>\n",
       "      <td>75</td>\n",
       "    </tr>\n",
       "    <tr>\n",
       "      <th>22956</th>\n",
       "      <td>Vulnerable</td>\n",
       "      <td>Selena Gomez</td>\n",
       "      <td>80</td>\n",
       "    </tr>\n",
       "    <tr>\n",
       "      <th>21898</th>\n",
       "      <td>Going Bad (feat. Drake)</td>\n",
       "      <td>Meek Mill</td>\n",
       "      <td>85</td>\n",
       "    </tr>\n",
       "    <tr>\n",
       "      <th>1345</th>\n",
       "      <td>Que Tire Pa Lante</td>\n",
       "      <td>Daddy Yankee</td>\n",
       "      <td>90</td>\n",
       "    </tr>\n",
       "    <tr>\n",
       "      <th>30223</th>\n",
       "      <td>bad guy</td>\n",
       "      <td>Billie Eilish</td>\n",
       "      <td>95</td>\n",
       "    </tr>\n",
       "    <tr>\n",
       "      <th>1551</th>\n",
       "      <td>Dance Monkey</td>\n",
       "      <td>Tones and I</td>\n",
       "      <td>100</td>\n",
       "    </tr>\n",
       "  </tbody>\n",
       "</table>\n",
       "</div>"
      ],
      "text/plain": [
       "                                         track_name        track_artist  \\\n",
       "18072                                   Ojitos Cafe          18 Kilates   \n",
       "22700                                  At Seventeen           Janis Ian   \n",
       "11927  Everybody's Talkin' - From \"Midnight Cowboy\"       Harry Nilsson   \n",
       "2135                                       Umbrella             Rihanna   \n",
       "28190                            One Night of Karma             Tetengo   \n",
       "31553                                     Existence              Deorro   \n",
       "28777                                       Arcadia            Hardwell   \n",
       "13171                                   Awa adounia       Liya Ag Ablil   \n",
       "24887                         Things We Do For Love        Horace Brown   \n",
       "7501                                   Medicine Man             Dorothy   \n",
       "9248                                 Echte Berliner  AK Ausserkontrolle   \n",
       "1071                       Video Games - Remastered        Lana Del Rey   \n",
       "30636                                      Diamonds             Rihanna   \n",
       "24144                      That's The Way Love Goes       Janet Jackson   \n",
       "13419                                       Hey Joe        Jimi Hendrix   \n",
       "18468                                  Danza Kuduro            Don Omar   \n",
       "22956                                    Vulnerable        Selena Gomez   \n",
       "21898                       Going Bad (feat. Drake)           Meek Mill   \n",
       "1345                              Que Tire Pa Lante        Daddy Yankee   \n",
       "30223                                       bad guy       Billie Eilish   \n",
       "1551                                   Dance Monkey         Tones and I   \n",
       "\n",
       "       track_popularity  \n",
       "18072                 0  \n",
       "22700                 5  \n",
       "11927                10  \n",
       "2135                 15  \n",
       "28190                20  \n",
       "31553                25  \n",
       "28777                30  \n",
       "13171                35  \n",
       "24887                40  \n",
       "7501                 45  \n",
       "9248                 50  \n",
       "1071                 55  \n",
       "30636                60  \n",
       "24144                65  \n",
       "13419                70  \n",
       "18468                75  \n",
       "22956                80  \n",
       "21898                85  \n",
       "1345                 90  \n",
       "30223                95  \n",
       "1551                100  "
      ]
     },
     "execution_count": 380,
     "metadata": {},
     "output_type": "execute_result"
    }
   ],
   "source": [
    "#Take 21 random samples with popularity scores in incriments of 5\n",
    "df_q = pd.DataFrame()\n",
    "\n",
    "for i in range(0, 105, 5):\n",
    "    df_q = pd.concat([df_q, df_info[df_info['track_popularity'] == i].sample(random_state=21)], axis=0)\n",
    "\n",
    "df_q = df_q[['track_name', 'track_artist', 'track_popularity']]\n",
    "df_q"
   ]
  },
  {
   "cell_type": "code",
   "execution_count": 381,
   "id": "bf0f8a16-3901-4dbd-a81d-c68551dc7be3",
   "metadata": {},
   "outputs": [],
   "source": [
    "#Look up Spotify stream counts for each of these songs\n",
    "stream_counts_1 = [\n",
    "    203_298, 35_110_396, 146_352_375,\n",
    "    1_475_006_835, 69_275, 3_610_236,\n",
    "    11_717_492, 3_356_144, 7_861_543,\n",
    "    8_145_877, 13_422_026, 869_826_917,\n",
    "    1_369_018_712, 140_383_528, 294_057_696,\n",
    "    1_566_959_620, 62_823_171, 1_164_649_355,\n",
    "    372_038_304, 2_475_759_804, 3_026_456_716]"
   ]
  },
  {
   "cell_type": "code",
   "execution_count": 382,
   "id": "10b0af70-9b4c-4941-948e-1c1fa4cfa9c6",
   "metadata": {},
   "outputs": [],
   "source": [
    "#Add a new column with stream counts for corresponding songs from sample\n",
    "df_q['streams_1'] = stream_counts_1\n",
    "df_q = df_q.drop(columns=['track_name', 'track_artist']).reset_index(drop=True)"
   ]
  },
  {
   "cell_type": "code",
   "execution_count": 383,
   "id": "babde1b3-df49-432e-a13c-f9d4458c9567",
   "metadata": {},
   "outputs": [
    {
     "data": {
      "text/html": [
       "<div>\n",
       "<style scoped>\n",
       "    .dataframe tbody tr th:only-of-type {\n",
       "        vertical-align: middle;\n",
       "    }\n",
       "\n",
       "    .dataframe tbody tr th {\n",
       "        vertical-align: top;\n",
       "    }\n",
       "\n",
       "    .dataframe thead th {\n",
       "        text-align: right;\n",
       "    }\n",
       "</style>\n",
       "<table border=\"1\" class=\"dataframe\">\n",
       "  <thead>\n",
       "    <tr style=\"text-align: right;\">\n",
       "      <th></th>\n",
       "      <th>track_name</th>\n",
       "      <th>track_artist</th>\n",
       "      <th>track_popularity</th>\n",
       "    </tr>\n",
       "  </thead>\n",
       "  <tbody>\n",
       "    <tr>\n",
       "      <th>13315</th>\n",
       "      <td>Hysteria 2013 (Re-Recorded Version) - Single</td>\n",
       "      <td>Def Leppard</td>\n",
       "      <td>0</td>\n",
       "    </tr>\n",
       "    <tr>\n",
       "      <th>3897</th>\n",
       "      <td>Beautiful Girl - Radio Edit</td>\n",
       "      <td>Junge Junge</td>\n",
       "      <td>5</td>\n",
       "    </tr>\n",
       "    <tr>\n",
       "      <th>29372</th>\n",
       "      <td>Shots &amp; Squats</td>\n",
       "      <td>Vigiland</td>\n",
       "      <td>10</td>\n",
       "    </tr>\n",
       "    <tr>\n",
       "      <th>31708</th>\n",
       "      <td>Bailar la Soca</td>\n",
       "      <td>Cuba Trinidad</td>\n",
       "      <td>15</td>\n",
       "    </tr>\n",
       "    <tr>\n",
       "      <th>5483</th>\n",
       "      <td>Get Weird</td>\n",
       "      <td>Liimo</td>\n",
       "      <td>20</td>\n",
       "    </tr>\n",
       "    <tr>\n",
       "      <th>5239</th>\n",
       "      <td>Crawl</td>\n",
       "      <td>TENDER</td>\n",
       "      <td>25</td>\n",
       "    </tr>\n",
       "    <tr>\n",
       "      <th>21618</th>\n",
       "      <td>get away</td>\n",
       "      <td>una schram</td>\n",
       "      <td>30</td>\n",
       "    </tr>\n",
       "    <tr>\n",
       "      <th>32244</th>\n",
       "      <td>Colourblind - Radio Edit</td>\n",
       "      <td>Thomas Gold</td>\n",
       "      <td>35</td>\n",
       "    </tr>\n",
       "    <tr>\n",
       "      <th>28625</th>\n",
       "      <td>Feelings - Spada Remix</td>\n",
       "      <td>Deep Chills</td>\n",
       "      <td>40</td>\n",
       "    </tr>\n",
       "    <tr>\n",
       "      <th>11099</th>\n",
       "      <td>CHAT</td>\n",
       "      <td>Young Cister</td>\n",
       "      <td>45</td>\n",
       "    </tr>\n",
       "    <tr>\n",
       "      <th>32422</th>\n",
       "      <td>Grip - Jay Pryor Remix</td>\n",
       "      <td>Seeb</td>\n",
       "      <td>50</td>\n",
       "    </tr>\n",
       "    <tr>\n",
       "      <th>4381</th>\n",
       "      <td>Numb</td>\n",
       "      <td>Carlie Hanson</td>\n",
       "      <td>55</td>\n",
       "    </tr>\n",
       "    <tr>\n",
       "      <th>16810</th>\n",
       "      <td>A Place For Us (feat. Ynnox)</td>\n",
       "      <td>Dualities</td>\n",
       "      <td>60</td>\n",
       "    </tr>\n",
       "    <tr>\n",
       "      <th>13959</th>\n",
       "      <td>Absolutely (Story of a Girl) - Radio Mix</td>\n",
       "      <td>Nine Days</td>\n",
       "      <td>65</td>\n",
       "    </tr>\n",
       "    <tr>\n",
       "      <th>12199</th>\n",
       "      <td>Runnin' with the Devil - 2015 Remaster</td>\n",
       "      <td>Van Halen</td>\n",
       "      <td>70</td>\n",
       "    </tr>\n",
       "    <tr>\n",
       "      <th>17801</th>\n",
       "      <td>Dime tú</td>\n",
       "      <td>Danny Ocean</td>\n",
       "      <td>75</td>\n",
       "    </tr>\n",
       "    <tr>\n",
       "      <th>9531</th>\n",
       "      <td>The Real Slim Shady</td>\n",
       "      <td>Eminem</td>\n",
       "      <td>80</td>\n",
       "    </tr>\n",
       "    <tr>\n",
       "      <th>9586</th>\n",
       "      <td>Murder On My Mind</td>\n",
       "      <td>YNW Melly</td>\n",
       "      <td>85</td>\n",
       "    </tr>\n",
       "    <tr>\n",
       "      <th>695</th>\n",
       "      <td>Que Tire Pa Lante</td>\n",
       "      <td>Daddy Yankee</td>\n",
       "      <td>90</td>\n",
       "    </tr>\n",
       "    <tr>\n",
       "      <th>21573</th>\n",
       "      <td>Yummy</td>\n",
       "      <td>Justin Bieber</td>\n",
       "      <td>95</td>\n",
       "    </tr>\n",
       "    <tr>\n",
       "      <th>20091</th>\n",
       "      <td>Dance Monkey</td>\n",
       "      <td>Tones and I</td>\n",
       "      <td>100</td>\n",
       "    </tr>\n",
       "  </tbody>\n",
       "</table>\n",
       "</div>"
      ],
      "text/plain": [
       "                                         track_name   track_artist  \\\n",
       "13315  Hysteria 2013 (Re-Recorded Version) - Single    Def Leppard   \n",
       "3897                    Beautiful Girl - Radio Edit    Junge Junge   \n",
       "29372                                Shots & Squats       Vigiland   \n",
       "31708                                Bailar la Soca  Cuba Trinidad   \n",
       "5483                                      Get Weird          Liimo   \n",
       "5239                                          Crawl         TENDER   \n",
       "21618                                      get away     una schram   \n",
       "32244                      Colourblind - Radio Edit    Thomas Gold   \n",
       "28625                        Feelings - Spada Remix    Deep Chills   \n",
       "11099                                          CHAT   Young Cister   \n",
       "32422                        Grip - Jay Pryor Remix           Seeb   \n",
       "4381                                           Numb  Carlie Hanson   \n",
       "16810                  A Place For Us (feat. Ynnox)      Dualities   \n",
       "13959      Absolutely (Story of a Girl) - Radio Mix      Nine Days   \n",
       "12199        Runnin' with the Devil - 2015 Remaster      Van Halen   \n",
       "17801                                       Dime tú    Danny Ocean   \n",
       "9531                            The Real Slim Shady         Eminem   \n",
       "9586                              Murder On My Mind      YNW Melly   \n",
       "695                               Que Tire Pa Lante   Daddy Yankee   \n",
       "21573                                         Yummy  Justin Bieber   \n",
       "20091                                  Dance Monkey    Tones and I   \n",
       "\n",
       "       track_popularity  \n",
       "13315                 0  \n",
       "3897                  5  \n",
       "29372                10  \n",
       "31708                15  \n",
       "5483                 20  \n",
       "5239                 25  \n",
       "21618                30  \n",
       "32244                35  \n",
       "28625                40  \n",
       "11099                45  \n",
       "32422                50  \n",
       "4381                 55  \n",
       "16810                60  \n",
       "13959                65  \n",
       "12199                70  \n",
       "17801                75  \n",
       "9531                 80  \n",
       "9586                 85  \n",
       "695                  90  \n",
       "21573                95  \n",
       "20091               100  "
      ]
     },
     "execution_count": 383,
     "metadata": {},
     "output_type": "execute_result"
    }
   ],
   "source": [
    "#Given that we have some large fluctuations in our sample that challenge its reliability, we'll repeat the process two more times\n",
    "df_q2 = pd.DataFrame()\n",
    "\n",
    "for i in range(0, 105, 5):\n",
    "    df_q2 = pd.concat([df_q2, df_info[df_info['track_popularity'] == i].sample(random_state=42)], axis=0)\n",
    "\n",
    "df_q2 = df_q2[['track_name', 'track_artist', 'track_popularity']]\n",
    "df_q2"
   ]
  },
  {
   "cell_type": "code",
   "execution_count": 384,
   "id": "ac1e6d6e-e853-4a75-82eb-1c23877da3a7",
   "metadata": {},
   "outputs": [],
   "source": [
    "stream_counts_2 = [\n",
    "    187_690_733, 27_590_280, 235_631_318,\n",
    "    91_546, 539_657, 1_283_621, \n",
    "    89_999, 3_169_839, 894_175, \n",
    "    3_316_378, 8_418_762, 24_372_578, \n",
    "    11_669_047, 148_803_010, 233_024_054, \n",
    "    120_992_346, 1_727_367_830, 1_034_507_823,\n",
    "    372_038_304, 783_493_692, 3_026_456_716]"
   ]
  },
  {
   "cell_type": "code",
   "execution_count": 385,
   "id": "97775e59-0ced-45ee-9d2c-83d5b0286870",
   "metadata": {},
   "outputs": [],
   "source": [
    "df_q2['streams_2'] = stream_counts_2\n",
    "df_q2 = df_q2.drop(columns=['track_name', 'track_artist']).reset_index(drop=True)"
   ]
  },
  {
   "cell_type": "code",
   "execution_count": 386,
   "id": "585e54aa-2d28-4c9b-b385-854144b9d290",
   "metadata": {},
   "outputs": [
    {
     "data": {
      "text/html": [
       "<div>\n",
       "<style scoped>\n",
       "    .dataframe tbody tr th:only-of-type {\n",
       "        vertical-align: middle;\n",
       "    }\n",
       "\n",
       "    .dataframe tbody tr th {\n",
       "        vertical-align: top;\n",
       "    }\n",
       "\n",
       "    .dataframe thead th {\n",
       "        text-align: right;\n",
       "    }\n",
       "</style>\n",
       "<table border=\"1\" class=\"dataframe\">\n",
       "  <thead>\n",
       "    <tr style=\"text-align: right;\">\n",
       "      <th></th>\n",
       "      <th>track_name</th>\n",
       "      <th>track_artist</th>\n",
       "      <th>track_popularity</th>\n",
       "    </tr>\n",
       "  </thead>\n",
       "  <tbody>\n",
       "    <tr>\n",
       "      <th>8247</th>\n",
       "      <td>Amsterdam</td>\n",
       "      <td>Rick Ross</td>\n",
       "      <td>0</td>\n",
       "    </tr>\n",
       "    <tr>\n",
       "      <th>8154</th>\n",
       "      <td>Ginza</td>\n",
       "      <td>J Balvin</td>\n",
       "      <td>5</td>\n",
       "    </tr>\n",
       "    <tr>\n",
       "      <th>13077</th>\n",
       "      <td>Hit Me With Your Best Shot - 1999 Digital Rema...</td>\n",
       "      <td>Pat Benatar</td>\n",
       "      <td>10</td>\n",
       "    </tr>\n",
       "    <tr>\n",
       "      <th>2921</th>\n",
       "      <td>Don't Wanna Know</td>\n",
       "      <td>Maroon 5</td>\n",
       "      <td>15</td>\n",
       "    </tr>\n",
       "    <tr>\n",
       "      <th>32648</th>\n",
       "      <td>Kaleidoscope Clouds</td>\n",
       "      <td>E-Mantra</td>\n",
       "      <td>20</td>\n",
       "    </tr>\n",
       "    <tr>\n",
       "      <th>28294</th>\n",
       "      <td>Batshit - Ilkay Sencan Remix</td>\n",
       "      <td>Sofi Tukker</td>\n",
       "      <td>25</td>\n",
       "    </tr>\n",
       "    <tr>\n",
       "      <th>15810</th>\n",
       "      <td>Exit Human</td>\n",
       "      <td>Dyne Side</td>\n",
       "      <td>30</td>\n",
       "    </tr>\n",
       "    <tr>\n",
       "      <th>5372</th>\n",
       "      <td>Grasshopper</td>\n",
       "      <td>Agnes Obel</td>\n",
       "      <td>35</td>\n",
       "    </tr>\n",
       "    <tr>\n",
       "      <th>25220</th>\n",
       "      <td>Stop the World</td>\n",
       "      <td>Maxwell</td>\n",
       "      <td>40</td>\n",
       "    </tr>\n",
       "    <tr>\n",
       "      <th>7298</th>\n",
       "      <td>Glocks &amp; Drums</td>\n",
       "      <td>Lil Mexico</td>\n",
       "      <td>45</td>\n",
       "    </tr>\n",
       "    <tr>\n",
       "      <th>12634</th>\n",
       "      <td>Magpakailanman</td>\n",
       "      <td>Rocksteddy</td>\n",
       "      <td>50</td>\n",
       "    </tr>\n",
       "    <tr>\n",
       "      <th>20860</th>\n",
       "      <td>Bangalang</td>\n",
       "      <td>Yung Felix</td>\n",
       "      <td>55</td>\n",
       "    </tr>\n",
       "    <tr>\n",
       "      <th>3365</th>\n",
       "      <td>Amor De Papel</td>\n",
       "      <td>Sentidos Opuestos</td>\n",
       "      <td>60</td>\n",
       "    </tr>\n",
       "    <tr>\n",
       "      <th>17578</th>\n",
       "      <td>Volví a Nacer</td>\n",
       "      <td>Carlos Vives</td>\n",
       "      <td>65</td>\n",
       "    </tr>\n",
       "    <tr>\n",
       "      <th>22588</th>\n",
       "      <td>Who Dat Boy (feat. A$AP Rocky)</td>\n",
       "      <td>Tyler, The Creator</td>\n",
       "      <td>70</td>\n",
       "    </tr>\n",
       "    <tr>\n",
       "      <th>7327</th>\n",
       "      <td>Bitch Better Have My Money</td>\n",
       "      <td>Rihanna</td>\n",
       "      <td>75</td>\n",
       "    </tr>\n",
       "    <tr>\n",
       "      <th>20809</th>\n",
       "      <td>Loco Contigo (with J. Balvin &amp; Ozuna feat. Nic...</td>\n",
       "      <td>DJ Snake</td>\n",
       "      <td>80</td>\n",
       "    </tr>\n",
       "    <tr>\n",
       "      <th>18859</th>\n",
       "      <td>Fantasía</td>\n",
       "      <td>Ozuna</td>\n",
       "      <td>85</td>\n",
       "    </tr>\n",
       "    <tr>\n",
       "      <th>18816</th>\n",
       "      <td>Callaita</td>\n",
       "      <td>Bad Bunny</td>\n",
       "      <td>90</td>\n",
       "    </tr>\n",
       "    <tr>\n",
       "      <th>13900</th>\n",
       "      <td>bad guy</td>\n",
       "      <td>Billie Eilish</td>\n",
       "      <td>95</td>\n",
       "    </tr>\n",
       "    <tr>\n",
       "      <th>20091</th>\n",
       "      <td>Dance Monkey</td>\n",
       "      <td>Tones and I</td>\n",
       "      <td>100</td>\n",
       "    </tr>\n",
       "  </tbody>\n",
       "</table>\n",
       "</div>"
      ],
      "text/plain": [
       "                                              track_name        track_artist  \\\n",
       "8247                                           Amsterdam           Rick Ross   \n",
       "8154                                               Ginza            J Balvin   \n",
       "13077  Hit Me With Your Best Shot - 1999 Digital Rema...         Pat Benatar   \n",
       "2921                                    Don't Wanna Know            Maroon 5   \n",
       "32648                                Kaleidoscope Clouds            E-Mantra   \n",
       "28294                       Batshit - Ilkay Sencan Remix         Sofi Tukker   \n",
       "15810                                         Exit Human           Dyne Side   \n",
       "5372                                         Grasshopper          Agnes Obel   \n",
       "25220                                     Stop the World             Maxwell   \n",
       "7298                                      Glocks & Drums          Lil Mexico   \n",
       "12634                                     Magpakailanman          Rocksteddy   \n",
       "20860                                          Bangalang          Yung Felix   \n",
       "3365                                       Amor De Papel   Sentidos Opuestos   \n",
       "17578                                      Volví a Nacer        Carlos Vives   \n",
       "22588                     Who Dat Boy (feat. A$AP Rocky)  Tyler, The Creator   \n",
       "7327                          Bitch Better Have My Money             Rihanna   \n",
       "20809  Loco Contigo (with J. Balvin & Ozuna feat. Nic...            DJ Snake   \n",
       "18859                                           Fantasía               Ozuna   \n",
       "18816                                           Callaita           Bad Bunny   \n",
       "13900                                            bad guy       Billie Eilish   \n",
       "20091                                       Dance Monkey         Tones and I   \n",
       "\n",
       "       track_popularity  \n",
       "8247                  0  \n",
       "8154                  5  \n",
       "13077                10  \n",
       "2921                 15  \n",
       "32648                20  \n",
       "28294                25  \n",
       "15810                30  \n",
       "5372                 35  \n",
       "25220                40  \n",
       "7298                 45  \n",
       "12634                50  \n",
       "20860                55  \n",
       "3365                 60  \n",
       "17578                65  \n",
       "22588                70  \n",
       "7327                 75  \n",
       "20809                80  \n",
       "18859                85  \n",
       "18816                90  \n",
       "13900                95  \n",
       "20091               100  "
      ]
     },
     "execution_count": 386,
     "metadata": {},
     "output_type": "execute_result"
    }
   ],
   "source": [
    "df_q3 = pd.DataFrame()\n",
    "\n",
    "for i in range(0, 105, 5):\n",
    "    df_q3 = pd.concat([df_q3, df_info[df_info['track_popularity'] == i].sample(random_state=63)], axis=0)\n",
    "\n",
    "df_q3 = df_q3[['track_name', 'track_artist', 'track_popularity']]\n",
    "df_q3"
   ]
  },
  {
   "cell_type": "code",
   "execution_count": 387,
   "id": "cb33e789-3c38-42fa-bb46-32737fcb68a4",
   "metadata": {},
   "outputs": [],
   "source": [
    "stream_counts_3 = [\n",
    "    7_298_423, 502_615_278, 268_795_496,\n",
    "    935_159_428, 203_347, 1_296_555,\n",
    "    53_881, 2_754_220, 5_394_528,\n",
    "    545_932, 19_881_710, 8_246_361,\n",
    "    58_752_110, 108_464_309, 243_084_915,\n",
    "    834_036_618, 106_635_133, 116_191_060,\n",
    "    1_416_981_341, 2_475_759_804, 3_026_456_716]"
   ]
  },
  {
   "cell_type": "code",
   "execution_count": 388,
   "id": "aa38ccd2-40bc-40de-9cc4-17c65be1506b",
   "metadata": {},
   "outputs": [],
   "source": [
    "df_q3['streams_3'] = stream_counts_3\n",
    "df_q3 = df_q3.drop(columns=['track_name', 'track_artist']).reset_index(drop=True)"
   ]
  },
  {
   "cell_type": "code",
   "execution_count": 389,
   "id": "90f3d07a-4340-4899-a5f7-f806dfcc8220",
   "metadata": {},
   "outputs": [
    {
     "data": {
      "text/html": [
       "<div>\n",
       "<style scoped>\n",
       "    .dataframe tbody tr th:only-of-type {\n",
       "        vertical-align: middle;\n",
       "    }\n",
       "\n",
       "    .dataframe tbody tr th {\n",
       "        vertical-align: top;\n",
       "    }\n",
       "\n",
       "    .dataframe thead th {\n",
       "        text-align: right;\n",
       "    }\n",
       "</style>\n",
       "<table border=\"1\" class=\"dataframe\">\n",
       "  <thead>\n",
       "    <tr style=\"text-align: right;\">\n",
       "      <th></th>\n",
       "      <th>track_popularity</th>\n",
       "      <th>streams_1</th>\n",
       "      <th>streams_2</th>\n",
       "      <th>streams_3</th>\n",
       "    </tr>\n",
       "  </thead>\n",
       "  <tbody>\n",
       "    <tr>\n",
       "      <th>0</th>\n",
       "      <td>0</td>\n",
       "      <td>203298</td>\n",
       "      <td>187690733</td>\n",
       "      <td>7298423</td>\n",
       "    </tr>\n",
       "    <tr>\n",
       "      <th>1</th>\n",
       "      <td>5</td>\n",
       "      <td>35110396</td>\n",
       "      <td>27590280</td>\n",
       "      <td>502615278</td>\n",
       "    </tr>\n",
       "    <tr>\n",
       "      <th>2</th>\n",
       "      <td>10</td>\n",
       "      <td>146352375</td>\n",
       "      <td>235631318</td>\n",
       "      <td>268795496</td>\n",
       "    </tr>\n",
       "    <tr>\n",
       "      <th>3</th>\n",
       "      <td>15</td>\n",
       "      <td>1475006835</td>\n",
       "      <td>91546</td>\n",
       "      <td>935159428</td>\n",
       "    </tr>\n",
       "    <tr>\n",
       "      <th>4</th>\n",
       "      <td>20</td>\n",
       "      <td>69275</td>\n",
       "      <td>539657</td>\n",
       "      <td>203347</td>\n",
       "    </tr>\n",
       "  </tbody>\n",
       "</table>\n",
       "</div>"
      ],
      "text/plain": [
       "   track_popularity   streams_1  streams_2  streams_3\n",
       "0                 0      203298  187690733    7298423\n",
       "1                 5    35110396   27590280  502615278\n",
       "2                10   146352375  235631318  268795496\n",
       "3                15  1475006835      91546  935159428\n",
       "4                20       69275     539657     203347"
      ]
     },
     "execution_count": 389,
     "metadata": {},
     "output_type": "execute_result"
    }
   ],
   "source": [
    "#Combine samples\n",
    "df_q = df_q.merge(df_q2, on='track_popularity')\n",
    "df_q = df_q.merge(df_q3, on='track_popularity')\n",
    "df_q.head()"
   ]
  },
  {
   "cell_type": "code",
   "execution_count": 390,
   "id": "d9a339bf-1ae7-4ece-adee-a4a9c46a85c2",
   "metadata": {},
   "outputs": [
    {
     "data": {
      "text/html": [
       "<div>\n",
       "<style scoped>\n",
       "    .dataframe tbody tr th:only-of-type {\n",
       "        vertical-align: middle;\n",
       "    }\n",
       "\n",
       "    .dataframe tbody tr th {\n",
       "        vertical-align: top;\n",
       "    }\n",
       "\n",
       "    .dataframe thead th {\n",
       "        text-align: right;\n",
       "    }\n",
       "</style>\n",
       "<table border=\"1\" class=\"dataframe\">\n",
       "  <thead>\n",
       "    <tr style=\"text-align: right;\">\n",
       "      <th></th>\n",
       "      <th>track_popularity</th>\n",
       "      <th>streams_1</th>\n",
       "      <th>streams_2</th>\n",
       "      <th>streams_3</th>\n",
       "      <th>streams_avg</th>\n",
       "    </tr>\n",
       "  </thead>\n",
       "  <tbody>\n",
       "    <tr>\n",
       "      <th>0</th>\n",
       "      <td>0</td>\n",
       "      <td>203298</td>\n",
       "      <td>187690733</td>\n",
       "      <td>7298423</td>\n",
       "      <td>6.506415e+07</td>\n",
       "    </tr>\n",
       "    <tr>\n",
       "      <th>1</th>\n",
       "      <td>5</td>\n",
       "      <td>35110396</td>\n",
       "      <td>27590280</td>\n",
       "      <td>502615278</td>\n",
       "      <td>1.884387e+08</td>\n",
       "    </tr>\n",
       "    <tr>\n",
       "      <th>2</th>\n",
       "      <td>10</td>\n",
       "      <td>146352375</td>\n",
       "      <td>235631318</td>\n",
       "      <td>268795496</td>\n",
       "      <td>2.169264e+08</td>\n",
       "    </tr>\n",
       "    <tr>\n",
       "      <th>3</th>\n",
       "      <td>15</td>\n",
       "      <td>1475006835</td>\n",
       "      <td>91546</td>\n",
       "      <td>935159428</td>\n",
       "      <td>8.034193e+08</td>\n",
       "    </tr>\n",
       "    <tr>\n",
       "      <th>4</th>\n",
       "      <td>20</td>\n",
       "      <td>69275</td>\n",
       "      <td>539657</td>\n",
       "      <td>203347</td>\n",
       "      <td>2.707597e+05</td>\n",
       "    </tr>\n",
       "  </tbody>\n",
       "</table>\n",
       "</div>"
      ],
      "text/plain": [
       "   track_popularity   streams_1  streams_2  streams_3   streams_avg\n",
       "0                 0      203298  187690733    7298423  6.506415e+07\n",
       "1                 5    35110396   27590280  502615278  1.884387e+08\n",
       "2                10   146352375  235631318  268795496  2.169264e+08\n",
       "3                15  1475006835      91546  935159428  8.034193e+08\n",
       "4                20       69275     539657     203347  2.707597e+05"
      ]
     },
     "execution_count": 390,
     "metadata": {},
     "output_type": "execute_result"
    }
   ],
   "source": [
    "#Take average of stream samples\n",
    "df_q['streams_avg'] = df_q.iloc[:,1:].mean(axis=1)\n",
    "df_q.head()"
   ]
  },
  {
   "cell_type": "code",
   "execution_count": 391,
   "id": "98f85bfe-ee4b-48dc-b7c2-22fd9d552e6e",
   "metadata": {},
   "outputs": [
    {
     "data": {
      "text/html": [
       "<div>\n",
       "<style scoped>\n",
       "    .dataframe tbody tr th:only-of-type {\n",
       "        vertical-align: middle;\n",
       "    }\n",
       "\n",
       "    .dataframe tbody tr th {\n",
       "        vertical-align: top;\n",
       "    }\n",
       "\n",
       "    .dataframe thead th {\n",
       "        text-align: right;\n",
       "    }\n",
       "</style>\n",
       "<table border=\"1\" class=\"dataframe\">\n",
       "  <thead>\n",
       "    <tr style=\"text-align: right;\">\n",
       "      <th></th>\n",
       "      <th>track_popularity</th>\n",
       "      <th>streams_1</th>\n",
       "      <th>streams_2</th>\n",
       "      <th>streams_3</th>\n",
       "      <th>streams_avg</th>\n",
       "    </tr>\n",
       "  </thead>\n",
       "  <tbody>\n",
       "    <tr>\n",
       "      <th>10</th>\n",
       "      <td>50</td>\n",
       "      <td>13422026</td>\n",
       "      <td>8418762</td>\n",
       "      <td>19881710</td>\n",
       "      <td>1.390750e+07</td>\n",
       "    </tr>\n",
       "  </tbody>\n",
       "</table>\n",
       "</div>"
      ],
      "text/plain": [
       "    track_popularity  streams_1  streams_2  streams_3   streams_avg\n",
       "10                50   13422026    8418762   19881710  1.390750e+07"
      ]
     },
     "execution_count": 391,
     "metadata": {},
     "output_type": "execute_result"
    }
   ],
   "source": [
    "#Check how many streams represent the average of our few samples from the middle line of popularity score\n",
    "df_q[df_q['track_popularity'] == 50]"
   ]
  },
  {
   "cell_type": "code",
   "execution_count": 392,
   "id": "2c426514-45f5-473b-aedb-fb146c90085f",
   "metadata": {},
   "outputs": [
    {
     "data": {
      "image/png": "[encoded data removed]",
      "text/plain": [
       "<Figure size 640x480 with 1 Axes>"
      ]
     },
     "metadata": {},
     "output_type": "display_data"
    }
   ],
   "source": [
    "#Plot streams average agains popularity; the horizontal line represents 300M streams\n",
    "ax = sns.lineplot(data=df_q, x='track_popularity', y='streams_avg');\n",
    "plt.axhline(y=300_000_000, c='r', alpha=0.5);"
   ]
  },
  {
   "cell_type": "markdown",
   "id": "3805aa36-5db7-427f-80c3-37225c7bea08",
   "metadata": {},
   "source": [
    "<div class=\"alert alert-block alert-info\">Though there are some clear outliers in our samples, we can see that songs with a popularity score of ~70 and above consistently have over 300M streams. With our mean absolute error of ~15, we can notify Regression Records that based on this small sample, we ought to choose songs with a predicted popularity score of 85 or higher. This sample clearly reflects some odd variablity though and may not accurately reflect the overall stream counts of songs with a given popularity score. To make a more sound prediction, we would need to address a much larger sample.</div>"
   ]
  },
  {
   "cell_type": "code",
   "execution_count": 393,
   "id": "4b7c5097-a347-4022-8510-38f4876271e2",
   "metadata": {},
   "outputs": [
    {
     "data": {
      "text/html": [
       "<div>\n",
       "<style scoped>\n",
       "    .dataframe tbody tr th:only-of-type {\n",
       "        vertical-align: middle;\n",
       "    }\n",
       "\n",
       "    .dataframe tbody tr th {\n",
       "        vertical-align: top;\n",
       "    }\n",
       "\n",
       "    .dataframe thead th {\n",
       "        text-align: right;\n",
       "    }\n",
       "</style>\n",
       "<table border=\"1\" class=\"dataframe\">\n",
       "  <thead>\n",
       "    <tr style=\"text-align: right;\">\n",
       "      <th></th>\n",
       "      <th>track_popularity</th>\n",
       "      <th>streams_1</th>\n",
       "      <th>streams_2</th>\n",
       "      <th>streams_3</th>\n",
       "      <th>streams_avg</th>\n",
       "      <th>prev</th>\n",
       "      <th>diff</th>\n",
       "    </tr>\n",
       "  </thead>\n",
       "  <tbody>\n",
       "    <tr>\n",
       "      <th>0</th>\n",
       "      <td>0</td>\n",
       "      <td>203298</td>\n",
       "      <td>187690733</td>\n",
       "      <td>7298423</td>\n",
       "      <td>6.506415e+07</td>\n",
       "      <td>NaN</td>\n",
       "      <td>NaN</td>\n",
       "    </tr>\n",
       "    <tr>\n",
       "      <th>1</th>\n",
       "      <td>5</td>\n",
       "      <td>35110396</td>\n",
       "      <td>27590280</td>\n",
       "      <td>502615278</td>\n",
       "      <td>1.884387e+08</td>\n",
       "      <td>6.506415e+07</td>\n",
       "      <td>1.233745e+08</td>\n",
       "    </tr>\n",
       "    <tr>\n",
       "      <th>2</th>\n",
       "      <td>10</td>\n",
       "      <td>146352375</td>\n",
       "      <td>235631318</td>\n",
       "      <td>268795496</td>\n",
       "      <td>2.169264e+08</td>\n",
       "      <td>1.884387e+08</td>\n",
       "      <td>2.848774e+07</td>\n",
       "    </tr>\n",
       "    <tr>\n",
       "      <th>3</th>\n",
       "      <td>15</td>\n",
       "      <td>1475006835</td>\n",
       "      <td>91546</td>\n",
       "      <td>935159428</td>\n",
       "      <td>8.034193e+08</td>\n",
       "      <td>2.169264e+08</td>\n",
       "      <td>5.864929e+08</td>\n",
       "    </tr>\n",
       "    <tr>\n",
       "      <th>4</th>\n",
       "      <td>20</td>\n",
       "      <td>69275</td>\n",
       "      <td>539657</td>\n",
       "      <td>203347</td>\n",
       "      <td>2.707597e+05</td>\n",
       "      <td>8.034193e+08</td>\n",
       "      <td>-8.031485e+08</td>\n",
       "    </tr>\n",
       "  </tbody>\n",
       "</table>\n",
       "</div>"
      ],
      "text/plain": [
       "   track_popularity   streams_1  streams_2  streams_3   streams_avg  \\\n",
       "0                 0      203298  187690733    7298423  6.506415e+07   \n",
       "1                 5    35110396   27590280  502615278  1.884387e+08   \n",
       "2                10   146352375  235631318  268795496  2.169264e+08   \n",
       "3                15  1475006835      91546  935159428  8.034193e+08   \n",
       "4                20       69275     539657     203347  2.707597e+05   \n",
       "\n",
       "           prev          diff  \n",
       "0           NaN           NaN  \n",
       "1  6.506415e+07  1.233745e+08  \n",
       "2  1.884387e+08  2.848774e+07  \n",
       "3  2.169264e+08  5.864929e+08  \n",
       "4  8.034193e+08 -8.031485e+08  "
      ]
     },
     "execution_count": 393,
     "metadata": {},
     "output_type": "execute_result"
    }
   ],
   "source": [
    "#Evaluate difference in stream counts across popularity score increments\n",
    "df_q['prev'] = df_q['streams_avg'].shift()\n",
    "df_q['diff'] = df_q['streams_avg'] - df_q['prev']\n",
    "df_q.head()"
   ]
  },
  {
   "cell_type": "code",
   "execution_count": 395,
   "id": "a9dc21cd-b0be-46e1-b464-851e1d124a6d",
   "metadata": {},
   "outputs": [
    {
     "name": "stdout",
     "output_type": "stream",
     "text": [
      "Average MAE in streams based on sample (equivalent to popularity score MAE of 15): \n",
      "\n",
      "Full sample: 444208884\n",
      "Excluding lower/upper 5%: 428870436\n",
      "Excluding lower/upper 25%: 182711007\n"
     ]
    }
   ],
   "source": [
    "#Average streams difference per popularity score difference of 5\n",
    "avg_all = round(np.mean(df_q['diff']))\n",
    "\n",
    "#Excluding lower and upper 5% to reduce outliers\n",
    "q1 = df_q['diff'].quantile(0.05)\n",
    "q3 = df_q['diff'].quantile(0.95)\n",
    "avg_5 = round(np.mean(df_q['diff'][(df_q['diff'] > q1) & (df_q['diff'] < q3)]))\n",
    "\n",
    "#Excluding lower and upper 25% to significantly reduce outliers\n",
    "q25 = df_q['diff'].quantile(0.25)\n",
    "q75 = df_q['diff'].quantile(0.75)\n",
    "avg_25 = round(np.mean(df_q['diff'][(df_q['diff'] > q25) & (df_q['diff'] < q75)]))\n",
    "\n",
    "print(f'Average MAE in streams based on sample (equivalent to popularity score MAE of 15): \\\n",
    "\\n\\nFull sample: {avg_all*3}\\nExcluding lower/upper 5%: {avg_5*3}\\nExcluding lower/upper 25%: {avg_25*3}')"
   ]
  },
  {
   "cell_type": "markdown",
   "id": "17fd7037-250e-478d-aeb9-3593d5ac15e2",
   "metadata": {},
   "source": [
    "<div class=\"alert alert-block alert-info\">By looking at the difference between the average sample stream counts per popularity score increments, we can see that a MAE of 15 for popularity score equals about 444M streams according to this sample. This is further off than the original predictions from our old dataset! The inconsistency of the scoring (some songs with a higher stream count were given a low popularity score, and vice versa) could indicate several things. It could mean that the 'popularity score' metric is based on other factors besides stream count. It could also reflect that these data are out of date, as they represent songs that were released through 2020 but not after. They could also (begrudgingly) indicate a lack of veracity in this dataset's target variable. We shouldn't try to predict a score based on unreliable training data. If this is the case we need to further examine other datasets and find an accurate target variable. That said, we should keep in mind that we only sampled 3 songs per popularity score across increments of 5. Different songs might yield quite different results. In order to better estimate stream count from popularity score, we would need to look at a much larger sample of songs at given score increments to get a more reliable representation. The fact that an MAE of 15 equivalates with about 183M streams when only regarding the innerquartile range, further highlights the extreme variance in this sample. Moreover we see that converting a popularity score from 1-100 to stream counts in the thousands, millions, or even billions, goes to show the relative magnitude of mere decimal places in our popularity score.</div>"
   ]
  },
  {
   "cell_type": "markdown",
   "id": "4f861a97-b25a-4ba5-8520-1f223f39f45d",
   "metadata": {},
   "source": [
    "## Summary"
   ]
  },
  {
   "cell_type": "markdown",
   "id": "26eacf50-cfc4-4684-bc33-432c384cdef0",
   "metadata": {},
   "source": [
    "The modeling stage of our data pipeline led us to a pivot in approach. As we sought to garner data with features that would provide more predictive ability, we switched to a new dataset. Advantages of this new dataset include:\n",
    "- Over 30 times as many observations as our original dataset\n",
    "- Additional features including the numerical features of loudness and duration, and categorical features pertaining to genre\n",
    "\n",
    "Disadvantages of this new dataset include:\n",
    "- Songs included are only as recent as 2020\n",
    "- Target variable is a popularity score from 1-100 rather than stream count, which requires additional interpretation to quantify a specific success threshold\n",
    "\n",
    "For this analysis, we chose to build models on the new dataset upon seeing that duration and loudness seemed to be important factors in predicting a song's popularity. As removal of the categorical features improved performance of our initial Random Forest Regressor, we decided to only model based on numerical features at this time. While limiting the feature selection might hinder gains in predictive power in other models, it grants the advantage of greater song selection versatility in selecting from any genre and key in Regression Record's catalog, and it expedites the process moving forward. We proceeded to build and tune 5 models:\n",
    "- Random Forest Regressor\n",
    "- Extra Trees Regressor\n",
    "- Gradient Boosting Regressor\n",
    "- Hist Gradient Boosting Regressoor\n",
    "- XGBoost Regressor\n",
    "\n",
    "Of these, the Extra Trees regressor had the best performance with an average mean absolute error of 15.936575985093796 and standard deviation of 0.08829270949863222 across 5 folds of cross validation. It's test prediction had a mean absolute error of 15.30191608911115. We attribute the greater performance on the test set than training set to the likely presence of larger outliers in the training set. The Extra Trees Regressor ranked feature importances as follows:\n",
    "1. duration (0.106840)\n",
    "2. instrumentalness (0.106628)\n",
    "3.\tloudness (0.105952)\n",
    "4.\tenergy (0.104153)\n",
    "5.\tacousticness (0.099422)\n",
    "6.\ttempo (0.095905)\n",
    "7.\tvalence\t(0.095804)\n",
    "8.\tspeechiness (0.095739)\n",
    "9.\tdanceability (0.095383)\n",
    "10.\tliveness (0.094174)\n",
    "\n",
    "Finally, to quantify our popularity score in terms of streams, we took 3 samples across 21 popularity scores ranging from 0 to 100 in increments of 5. The results were inconsistent, as some songs with lower popularity scores had more streams than some songs with higher popularity scores, and vice versa. With our Extra Trees Regressor tuned to this dataset using popularity scores as the target variable, we will need to explore further insight into how well these scores reflect a song's success. In the meantime, we can use our model on songs from Regression Record's catalog to get a sense for how popular they may be as based on the rankings of this dataset."
   ]
  },
  {
   "cell_type": "code",
   "execution_count": null,
   "id": "3a1ee937-2beb-4ff3-8355-7e3aaa3a65ea",
   "metadata": {},
   "outputs": [],
   "source": []
  }
 ],
 "metadata": {
  "kernelspec": {
   "display_name": "Python 3 (ipykernel)",
   "language": "python",
   "name": "python3"
  },
  "language_info": {
   "codemirror_mode": {
    "name": "ipython",
    "version": 3
   },
   "file_extension": ".py",
   "mimetype": "text/x-python",
   "name": "python",
   "nbconvert_exporter": "python",
   "pygments_lexer": "ipython3",
   "version": "3.11.5"
  }
 },
 "nbformat": 4,
 "nbformat_minor": 5
}
