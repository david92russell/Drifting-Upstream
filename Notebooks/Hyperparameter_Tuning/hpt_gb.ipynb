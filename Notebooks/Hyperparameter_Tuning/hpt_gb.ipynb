{
 "cells": [
  {
   "cell_type": "markdown",
   "id": "b893ddc0-c8b7-41ec-bc71-a0ac00cbe73f",
   "metadata": {},
   "source": [
    "## Gradient Boosting Hyperparamter Tuning"
   ]
  },
  {
   "cell_type": "code",
   "execution_count": 2,
   "id": "fa10835a-6e50-4380-aea9-fc3083f16d1d",
   "metadata": {},
   "outputs": [],
   "source": [
    "import os\n",
    "import pandas as pd\n",
    "import numpy as np\n",
    "from sklearn.model_selection import train_test_split, cross_val_score, KFold\n",
    "from sklearn.metrics import mean_absolute_error, make_scorer\n",
    "from sklearn.ensemble import GradientBoostingRegressor\n",
    "from sklearn.preprocessing import StandardScaler, MinMaxScaler, RobustScaler, PowerTransformer\n",
    "import optuna"
   ]
  },
  {
   "cell_type": "code",
   "execution_count": 3,
   "id": "38594c40-43ee-40f9-a682-b18c4e389f9b",
   "metadata": {},
   "outputs": [
    {
     "data": {
      "text/html": [
       "<div>\n",
       "<style scoped>\n",
       "    .dataframe tbody tr th:only-of-type {\n",
       "        vertical-align: middle;\n",
       "    }\n",
       "\n",
       "    .dataframe tbody tr th {\n",
       "        vertical-align: top;\n",
       "    }\n",
       "\n",
       "    .dataframe thead th {\n",
       "        text-align: right;\n",
       "    }\n",
       "</style>\n",
       "<table border=\"1\" class=\"dataframe\">\n",
       "  <thead>\n",
       "    <tr style=\"text-align: right;\">\n",
       "      <th></th>\n",
       "      <th>y</th>\n",
       "      <th>danceability</th>\n",
       "      <th>energy</th>\n",
       "      <th>loudness</th>\n",
       "      <th>speechiness</th>\n",
       "      <th>acousticness</th>\n",
       "      <th>instrumentalness</th>\n",
       "      <th>liveness</th>\n",
       "      <th>valence</th>\n",
       "      <th>tempo</th>\n",
       "      <th>...</th>\n",
       "      <th>key_B</th>\n",
       "      <th>key_C</th>\n",
       "      <th>key_C#</th>\n",
       "      <th>key_D</th>\n",
       "      <th>key_D#</th>\n",
       "      <th>key_E</th>\n",
       "      <th>key_F</th>\n",
       "      <th>key_F#</th>\n",
       "      <th>key_G</th>\n",
       "      <th>key_G#</th>\n",
       "    </tr>\n",
       "  </thead>\n",
       "  <tbody>\n",
       "    <tr>\n",
       "      <th>0</th>\n",
       "      <td>66</td>\n",
       "      <td>0.748</td>\n",
       "      <td>0.916</td>\n",
       "      <td>-2.634</td>\n",
       "      <td>0.0583</td>\n",
       "      <td>0.1020</td>\n",
       "      <td>0.000000</td>\n",
       "      <td>0.0653</td>\n",
       "      <td>0.518</td>\n",
       "      <td>122.036</td>\n",
       "      <td>...</td>\n",
       "      <td>0</td>\n",
       "      <td>0</td>\n",
       "      <td>0</td>\n",
       "      <td>0</td>\n",
       "      <td>0</td>\n",
       "      <td>0</td>\n",
       "      <td>0</td>\n",
       "      <td>1</td>\n",
       "      <td>0</td>\n",
       "      <td>0</td>\n",
       "    </tr>\n",
       "    <tr>\n",
       "      <th>1</th>\n",
       "      <td>67</td>\n",
       "      <td>0.726</td>\n",
       "      <td>0.815</td>\n",
       "      <td>-4.969</td>\n",
       "      <td>0.0373</td>\n",
       "      <td>0.0724</td>\n",
       "      <td>0.004210</td>\n",
       "      <td>0.3570</td>\n",
       "      <td>0.693</td>\n",
       "      <td>99.972</td>\n",
       "      <td>...</td>\n",
       "      <td>1</td>\n",
       "      <td>0</td>\n",
       "      <td>0</td>\n",
       "      <td>0</td>\n",
       "      <td>0</td>\n",
       "      <td>0</td>\n",
       "      <td>0</td>\n",
       "      <td>0</td>\n",
       "      <td>0</td>\n",
       "      <td>0</td>\n",
       "    </tr>\n",
       "    <tr>\n",
       "      <th>2</th>\n",
       "      <td>70</td>\n",
       "      <td>0.675</td>\n",
       "      <td>0.931</td>\n",
       "      <td>-3.432</td>\n",
       "      <td>0.0742</td>\n",
       "      <td>0.0794</td>\n",
       "      <td>0.000023</td>\n",
       "      <td>0.1100</td>\n",
       "      <td>0.613</td>\n",
       "      <td>124.008</td>\n",
       "      <td>...</td>\n",
       "      <td>0</td>\n",
       "      <td>0</td>\n",
       "      <td>1</td>\n",
       "      <td>0</td>\n",
       "      <td>0</td>\n",
       "      <td>0</td>\n",
       "      <td>0</td>\n",
       "      <td>0</td>\n",
       "      <td>0</td>\n",
       "      <td>0</td>\n",
       "    </tr>\n",
       "    <tr>\n",
       "      <th>3</th>\n",
       "      <td>60</td>\n",
       "      <td>0.718</td>\n",
       "      <td>0.930</td>\n",
       "      <td>-3.778</td>\n",
       "      <td>0.1020</td>\n",
       "      <td>0.0287</td>\n",
       "      <td>0.000009</td>\n",
       "      <td>0.2040</td>\n",
       "      <td>0.277</td>\n",
       "      <td>121.956</td>\n",
       "      <td>...</td>\n",
       "      <td>0</td>\n",
       "      <td>0</td>\n",
       "      <td>0</td>\n",
       "      <td>0</td>\n",
       "      <td>0</td>\n",
       "      <td>0</td>\n",
       "      <td>0</td>\n",
       "      <td>0</td>\n",
       "      <td>1</td>\n",
       "      <td>0</td>\n",
       "    </tr>\n",
       "    <tr>\n",
       "      <th>4</th>\n",
       "      <td>69</td>\n",
       "      <td>0.650</td>\n",
       "      <td>0.833</td>\n",
       "      <td>-4.672</td>\n",
       "      <td>0.0359</td>\n",
       "      <td>0.0803</td>\n",
       "      <td>0.000000</td>\n",
       "      <td>0.0833</td>\n",
       "      <td>0.725</td>\n",
       "      <td>123.976</td>\n",
       "      <td>...</td>\n",
       "      <td>0</td>\n",
       "      <td>0</td>\n",
       "      <td>1</td>\n",
       "      <td>0</td>\n",
       "      <td>0</td>\n",
       "      <td>0</td>\n",
       "      <td>0</td>\n",
       "      <td>0</td>\n",
       "      <td>0</td>\n",
       "      <td>0</td>\n",
       "    </tr>\n",
       "  </tbody>\n",
       "</table>\n",
       "<p>5 rows × 54 columns</p>\n",
       "</div>"
      ],
      "text/plain": [
       "    y  danceability  energy  loudness  speechiness  acousticness  \\\n",
       "0  66         0.748   0.916    -2.634       0.0583        0.1020   \n",
       "1  67         0.726   0.815    -4.969       0.0373        0.0724   \n",
       "2  70         0.675   0.931    -3.432       0.0742        0.0794   \n",
       "3  60         0.718   0.930    -3.778       0.1020        0.0287   \n",
       "4  69         0.650   0.833    -4.672       0.0359        0.0803   \n",
       "\n",
       "   instrumentalness  liveness  valence    tempo  ...  key_B  key_C  key_C#  \\\n",
       "0          0.000000    0.0653    0.518  122.036  ...      0      0       0   \n",
       "1          0.004210    0.3570    0.693   99.972  ...      1      0       0   \n",
       "2          0.000023    0.1100    0.613  124.008  ...      0      0       1   \n",
       "3          0.000009    0.2040    0.277  121.956  ...      0      0       0   \n",
       "4          0.000000    0.0833    0.725  123.976  ...      0      0       1   \n",
       "\n",
       "   key_D  key_D#  key_E  key_F  key_F#  key_G  key_G#  \n",
       "0      0       0      0      0       1      0       0  \n",
       "1      0       0      0      0       0      0       0  \n",
       "2      0       0      0      0       0      0       0  \n",
       "3      0       0      0      0       0      1       0  \n",
       "4      0       0      0      0       0      0       0  \n",
       "\n",
       "[5 rows x 54 columns]"
      ]
     },
     "execution_count": 3,
     "metadata": {},
     "output_type": "execute_result"
    }
   ],
   "source": [
    "df = pd.read_csv('spot_30k_clean.csv', index_col=0)\n",
    "df.head()"
   ]
  },
  {
   "cell_type": "code",
   "execution_count": 4,
   "id": "387b2c9e-a773-4cfa-9a06-d5a638c51149",
   "metadata": {},
   "outputs": [],
   "source": [
    "df_num = df[['duration', 'loudness', 'energy', 'tempo', 'instrumentalness', \n",
    "             'speechiness', 'danceability', 'valence', 'acousticness', 'liveness']]\n",
    "\n",
    "X_train, X_test, y_train, y_test = train_test_split(df_num, df.y, test_size=0.2, random_state=42)"
   ]
  },
  {
   "cell_type": "code",
   "execution_count": 18,
   "id": "f4a13031-8524-4bb9-915b-e3f1c68a0479",
   "metadata": {},
   "outputs": [],
   "source": [
    "#Hyperparameter tuning\n",
    "def objective(trial):\n",
    "\n",
    "    n_estimators = trial.suggest_int('n_estimators', 100, 2000)\n",
    "    learning_rate = trial.suggest_float('learning_rate', 0.001, 1.0)\n",
    "    max_depth = trial.suggest_int('max_depth', 2, 50)\n",
    "    min_samples_split = trial.suggest_int('min_samples_split', 2, 32)\n",
    "    min_samples_leaf = trial.suggest_int('min_samples_leaf', 1, 32)\n",
    "\n",
    "    model = GradientBoostingRegressor(\n",
    "        n_estimators=n_estimators,\n",
    "        learning_rate=learning_rate,\n",
    "        max_depth=max_depth,\n",
    "        min_samples_split=min_samples_split,\n",
    "        min_samples_leaf=min_samples_leaf,\n",
    "        random_state=42)\n",
    "\n",
    "    kf = KFold(n_splits=5, shuffle=True, random_state=42)\n",
    "    mae = make_scorer(mean_absolute_error)\n",
    "    scores = cross_val_score(model, X_train, y_train, scoring=mae, cv=kf)\n",
    "    return np.min([np.mean(scores), np.median([scores])])"
   ]
  },
  {
   "cell_type": "code",
   "execution_count": 20,
   "id": "39583f5a-df60-4ee0-8881-b43e686aca7b",
   "metadata": {},
   "outputs": [
    {
     "name": "stderr",
     "output_type": "stream",
     "text": [
      "[I 2024-04-04 13:44:37,666] A new study created in memory with name: no-name-0b290cfc-2904-43ae-a8c0-eeb91243d8c3\n"
     ]
    },
    {
     "data": {
      "application/vnd.jupyter.widget-view+json": {
       "model_id": "6334e6866b5e44c39e4c5838293fac6b",
       "version_major": 2,
       "version_minor": 0
      },
      "text/plain": [
       "  0%|          | 0/10 [00:00<?, ?it/s]"
      ]
     },
     "metadata": {},
     "output_type": "display_data"
    },
    {
     "name": "stdout",
     "output_type": "stream",
     "text": [
      "[I 2024-04-04 13:58:19,978] Trial 0 finished with value: 16.796608136395932 and parameters: {'n_estimators': 657, 'learning_rate': 0.17213162542313915, 'max_depth': 16, 'min_samples_split': 6, 'min_samples_leaf': 19}. Best is trial 0 with value: 16.796608136395932.\n",
      "[I 2024-04-04 14:30:36,212] Trial 1 finished with value: 17.042907894983937 and parameters: {'n_estimators': 1121, 'learning_rate': 0.24021517386398597, 'max_depth': 20, 'min_samples_split': 12, 'min_samples_leaf': 24}. Best is trial 0 with value: 16.796608136395932.\n",
      "[I 2024-04-04 14:44:29,601] Trial 2 finished with value: 17.23265621156765 and parameters: {'n_estimators': 919, 'learning_rate': 0.06099191490009361, 'max_depth': 11, 'min_samples_split': 15, 'min_samples_leaf': 21}. Best is trial 0 with value: 16.796608136395932.\n",
      "[I 2024-04-04 14:49:48,202] Trial 3 finished with value: 17.890237835941793 and parameters: {'n_estimators': 202, 'learning_rate': 0.021024176048139834, 'max_depth': 28, 'min_samples_split': 12, 'min_samples_leaf': 27}. Best is trial 0 with value: 16.796608136395932.\n",
      "[I 2024-04-04 15:40:06,617] Trial 4 finished with value: 19.077634400582106 and parameters: {'n_estimators': 1589, 'learning_rate': 0.7036053096537643, 'max_depth': 25, 'min_samples_split': 21, 'min_samples_leaf': 29}. Best is trial 0 with value: 16.796608136395932.\n",
      "[I 2024-04-04 16:39:55,383] Trial 5 finished with value: 17.644823772892796 and parameters: {'n_estimators': 755, 'learning_rate': 0.4202204325929621, 'max_depth': 47, 'min_samples_split': 32, 'min_samples_leaf': 21}. Best is trial 0 with value: 16.796608136395932.\n",
      "[I 2024-04-04 17:26:29,891] Trial 6 finished with value: 19.78113285924635 and parameters: {'n_estimators': 1214, 'learning_rate': 0.777445198296113, 'max_depth': 30, 'min_samples_split': 16, 'min_samples_leaf': 3}. Best is trial 0 with value: 16.796608136395932.\n",
      "[I 2024-04-04 17:29:35,143] Trial 7 finished with value: 17.560437307137416 and parameters: {'n_estimators': 141, 'learning_rate': 0.273065539338049, 'max_depth': 17, 'min_samples_split': 6, 'min_samples_leaf': 26}. Best is trial 0 with value: 16.796608136395932.\n",
      "[I 2024-04-04 17:41:05,184] Trial 8 finished with value: 17.00434757120196 and parameters: {'n_estimators': 538, 'learning_rate': 0.08168217360318959, 'max_depth': 16, 'min_samples_split': 5, 'min_samples_leaf': 21}. Best is trial 0 with value: 16.796608136395932.\n",
      "[I 2024-04-04 17:42:46,450] Trial 9 finished with value: 19.187805435894514 and parameters: {'n_estimators': 354, 'learning_rate': 0.3375525997075568, 'max_depth': 3, 'min_samples_split': 18, 'min_samples_leaf': 10}. Best is trial 0 with value: 16.796608136395932.\n"
     ]
    }
   ],
   "source": [
    "study = optuna.create_study(direction=\"minimize\")\n",
    "study.optimize(objective, n_trials=10, show_progress_bar=True)"
   ]
  },
  {
   "cell_type": "code",
   "execution_count": 21,
   "id": "76e772f0-67f7-4bff-9118-9e4a9670b5a0",
   "metadata": {},
   "outputs": [
    {
     "name": "stdout",
     "output_type": "stream",
     "text": [
      "Best trial: FrozenTrial(number=0, state=1, values=[16.796608136395932], datetime_start=datetime.datetime(2024, 4, 4, 13, 44, 37, 680087), datetime_complete=datetime.datetime(2024, 4, 4, 13, 58, 19, 978687), params={'n_estimators': 657, 'learning_rate': 0.17213162542313915, 'max_depth': 16, 'min_samples_split': 6, 'min_samples_leaf': 19}, user_attrs={}, system_attrs={}, intermediate_values={}, distributions={'n_estimators': IntDistribution(high=2000, log=False, low=100, step=1), 'learning_rate': FloatDistribution(high=1.0, log=False, low=0.001, step=None), 'max_depth': IntDistribution(high=50, log=False, low=2, step=1), 'min_samples_split': IntDistribution(high=32, log=False, low=2, step=1), 'min_samples_leaf': IntDistribution(high=32, log=False, low=1, step=1)}, trial_id=0, value=None)\n",
      "Best hyperparameters: {'n_estimators': 657, 'learning_rate': 0.17213162542313915, 'max_depth': 16, 'min_samples_split': 6, 'min_samples_leaf': 19}\n"
     ]
    }
   ],
   "source": [
    "print(\"Best trial:\", study.best_trial)\n",
    "print(\"Best hyperparameters:\", study.best_params)"
   ]
  },
  {
   "cell_type": "code",
   "execution_count": 6,
   "id": "94e6368c-9f55-49e8-a873-4277f10a551b",
   "metadata": {},
   "outputs": [
    {
     "data": {
      "text/plain": [
       "16.81402824291245"
      ]
     },
     "execution_count": 6,
     "metadata": {},
     "output_type": "execute_result"
    }
   ],
   "source": [
    "#Best model\n",
    "gb = GradientBoostingRegressor(n_estimators=657, learning_rate=0.17213162542313915, max_depth=16, \n",
    "                               min_samples_split=6, min_samples_leaf=19, random_state=42)\n",
    "\n",
    "kf = KFold(n_splits=5, shuffle=True, random_state=42)\n",
    "mae = make_scorer(mean_absolute_error)\n",
    "scores = cross_val_score(gb, X_train, y_train, scoring=mae, cv=kf, n_jobs=-1)\n",
    "np.mean(scores)"
   ]
  },
  {
   "cell_type": "markdown",
   "id": "7847a841-3f1f-4fc5-b580-090bc566ddb7",
   "metadata": {},
   "source": [
    "## Feature Scaling"
   ]
  },
  {
   "cell_type": "code",
   "execution_count": 7,
   "id": "9b5b4298-be0f-46ea-8706-b3f1d677064c",
   "metadata": {},
   "outputs": [],
   "source": [
    "def scale_and_cv(model):\n",
    "    \n",
    "    scalers = [StandardScaler(), MinMaxScaler(), RobustScaler(), PowerTransformer()]\n",
    "    \n",
    "    for i in range(4):\n",
    "        scalers[i].fit(X_train)\n",
    "        X_train_scaled = scalers[i].transform(X_train)\n",
    "    \n",
    "        kf = KFold(n_splits=5, shuffle=True, random_state=42)\n",
    "        mae = make_scorer(mean_absolute_error)\n",
    "        scores = cross_val_score(model, X_train_scaled, y_train, scoring=mae, cv=kf, n_jobs=-1)\n",
    "        print(scalers[i], np.min([np.mean(scores), np.median([scores])]))"
   ]
  },
  {
   "cell_type": "code",
   "execution_count": 8,
   "id": "179de503-4a09-4d71-b06a-16833d19c7e5",
   "metadata": {},
   "outputs": [
    {
     "name": "stdout",
     "output_type": "stream",
     "text": [
      "StandardScaler() 16.833807639393186\n",
      "MinMaxScaler() 16.781766008132358\n",
      "RobustScaler() 16.80563668461532\n",
      "PowerTransformer() 16.802237254572574\n"
     ]
    }
   ],
   "source": [
    "scale_and_cv(gb)"
   ]
  },
  {
   "cell_type": "code",
   "execution_count": null,
   "id": "8af9cf25-6dc9-426d-b009-812c6cadf97b",
   "metadata": {},
   "outputs": [],
   "source": []
  }
 ],
 "metadata": {
  "kernelspec": {
   "display_name": "Python 3 (ipykernel)",
   "language": "python",
   "name": "python3"
  },
  "language_info": {
   "codemirror_mode": {
    "name": "ipython",
    "version": 3
   },
   "file_extension": ".py",
   "mimetype": "text/x-python",
   "name": "python",
   "nbconvert_exporter": "python",
   "pygments_lexer": "ipython3",
   "version": "3.11.5"
  }
 },
 "nbformat": 4,
 "nbformat_minor": 5
}
