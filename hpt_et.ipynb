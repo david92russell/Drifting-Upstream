{
 "cells": [
  {
   "cell_type": "markdown",
   "id": "436d81fe-dbfa-433a-8d9b-f0df1c7d245d",
   "metadata": {},
   "source": [
    "## Extra Trees Hyperparameter Tuning"
   ]
  },
  {
   "cell_type": "code",
   "execution_count": 2,
   "id": "fa10835a-6e50-4380-aea9-fc3083f16d1d",
   "metadata": {},
   "outputs": [],
   "source": [
    "import os\n",
    "import pandas as pd\n",
    "import numpy as np\n",
    "from sklearn.model_selection import train_test_split, cross_val_score, KFold, GridSearchCV\n",
    "from sklearn.metrics import mean_absolute_error, make_scorer\n",
    "from sklearn.ensemble import ExtraTreesRegressor\n",
    "from sklearn.preprocessing import StandardScaler, MinMaxScaler, RobustScaler, PowerTransformer\n",
    "import optuna"
   ]
  },
  {
   "cell_type": "code",
   "execution_count": 3,
   "id": "38594c40-43ee-40f9-a682-b18c4e389f9b",
   "metadata": {},
   "outputs": [
    {
     "data": {
      "text/html": [
       "<div>\n",
       "<style scoped>\n",
       "    .dataframe tbody tr th:only-of-type {\n",
       "        vertical-align: middle;\n",
       "    }\n",
       "\n",
       "    .dataframe tbody tr th {\n",
       "        vertical-align: top;\n",
       "    }\n",
       "\n",
       "    .dataframe thead th {\n",
       "        text-align: right;\n",
       "    }\n",
       "</style>\n",
       "<table border=\"1\" class=\"dataframe\">\n",
       "  <thead>\n",
       "    <tr style=\"text-align: right;\">\n",
       "      <th></th>\n",
       "      <th>y</th>\n",
       "      <th>danceability</th>\n",
       "      <th>energy</th>\n",
       "      <th>loudness</th>\n",
       "      <th>speechiness</th>\n",
       "      <th>acousticness</th>\n",
       "      <th>instrumentalness</th>\n",
       "      <th>liveness</th>\n",
       "      <th>valence</th>\n",
       "      <th>tempo</th>\n",
       "      <th>...</th>\n",
       "      <th>key_B</th>\n",
       "      <th>key_C</th>\n",
       "      <th>key_C#</th>\n",
       "      <th>key_D</th>\n",
       "      <th>key_D#</th>\n",
       "      <th>key_E</th>\n",
       "      <th>key_F</th>\n",
       "      <th>key_F#</th>\n",
       "      <th>key_G</th>\n",
       "      <th>key_G#</th>\n",
       "    </tr>\n",
       "  </thead>\n",
       "  <tbody>\n",
       "    <tr>\n",
       "      <th>0</th>\n",
       "      <td>66</td>\n",
       "      <td>0.748</td>\n",
       "      <td>0.916</td>\n",
       "      <td>-2.634</td>\n",
       "      <td>0.0583</td>\n",
       "      <td>0.1020</td>\n",
       "      <td>0.000000</td>\n",
       "      <td>0.0653</td>\n",
       "      <td>0.518</td>\n",
       "      <td>122.036</td>\n",
       "      <td>...</td>\n",
       "      <td>0</td>\n",
       "      <td>0</td>\n",
       "      <td>0</td>\n",
       "      <td>0</td>\n",
       "      <td>0</td>\n",
       "      <td>0</td>\n",
       "      <td>0</td>\n",
       "      <td>1</td>\n",
       "      <td>0</td>\n",
       "      <td>0</td>\n",
       "    </tr>\n",
       "    <tr>\n",
       "      <th>1</th>\n",
       "      <td>67</td>\n",
       "      <td>0.726</td>\n",
       "      <td>0.815</td>\n",
       "      <td>-4.969</td>\n",
       "      <td>0.0373</td>\n",
       "      <td>0.0724</td>\n",
       "      <td>0.004210</td>\n",
       "      <td>0.3570</td>\n",
       "      <td>0.693</td>\n",
       "      <td>99.972</td>\n",
       "      <td>...</td>\n",
       "      <td>1</td>\n",
       "      <td>0</td>\n",
       "      <td>0</td>\n",
       "      <td>0</td>\n",
       "      <td>0</td>\n",
       "      <td>0</td>\n",
       "      <td>0</td>\n",
       "      <td>0</td>\n",
       "      <td>0</td>\n",
       "      <td>0</td>\n",
       "    </tr>\n",
       "    <tr>\n",
       "      <th>2</th>\n",
       "      <td>70</td>\n",
       "      <td>0.675</td>\n",
       "      <td>0.931</td>\n",
       "      <td>-3.432</td>\n",
       "      <td>0.0742</td>\n",
       "      <td>0.0794</td>\n",
       "      <td>0.000023</td>\n",
       "      <td>0.1100</td>\n",
       "      <td>0.613</td>\n",
       "      <td>124.008</td>\n",
       "      <td>...</td>\n",
       "      <td>0</td>\n",
       "      <td>0</td>\n",
       "      <td>1</td>\n",
       "      <td>0</td>\n",
       "      <td>0</td>\n",
       "      <td>0</td>\n",
       "      <td>0</td>\n",
       "      <td>0</td>\n",
       "      <td>0</td>\n",
       "      <td>0</td>\n",
       "    </tr>\n",
       "    <tr>\n",
       "      <th>3</th>\n",
       "      <td>60</td>\n",
       "      <td>0.718</td>\n",
       "      <td>0.930</td>\n",
       "      <td>-3.778</td>\n",
       "      <td>0.1020</td>\n",
       "      <td>0.0287</td>\n",
       "      <td>0.000009</td>\n",
       "      <td>0.2040</td>\n",
       "      <td>0.277</td>\n",
       "      <td>121.956</td>\n",
       "      <td>...</td>\n",
       "      <td>0</td>\n",
       "      <td>0</td>\n",
       "      <td>0</td>\n",
       "      <td>0</td>\n",
       "      <td>0</td>\n",
       "      <td>0</td>\n",
       "      <td>0</td>\n",
       "      <td>0</td>\n",
       "      <td>1</td>\n",
       "      <td>0</td>\n",
       "    </tr>\n",
       "    <tr>\n",
       "      <th>4</th>\n",
       "      <td>69</td>\n",
       "      <td>0.650</td>\n",
       "      <td>0.833</td>\n",
       "      <td>-4.672</td>\n",
       "      <td>0.0359</td>\n",
       "      <td>0.0803</td>\n",
       "      <td>0.000000</td>\n",
       "      <td>0.0833</td>\n",
       "      <td>0.725</td>\n",
       "      <td>123.976</td>\n",
       "      <td>...</td>\n",
       "      <td>0</td>\n",
       "      <td>0</td>\n",
       "      <td>1</td>\n",
       "      <td>0</td>\n",
       "      <td>0</td>\n",
       "      <td>0</td>\n",
       "      <td>0</td>\n",
       "      <td>0</td>\n",
       "      <td>0</td>\n",
       "      <td>0</td>\n",
       "    </tr>\n",
       "  </tbody>\n",
       "</table>\n",
       "<p>5 rows × 54 columns</p>\n",
       "</div>"
      ],
      "text/plain": [
       "    y  danceability  energy  loudness  speechiness  acousticness  \\\n",
       "0  66         0.748   0.916    -2.634       0.0583        0.1020   \n",
       "1  67         0.726   0.815    -4.969       0.0373        0.0724   \n",
       "2  70         0.675   0.931    -3.432       0.0742        0.0794   \n",
       "3  60         0.718   0.930    -3.778       0.1020        0.0287   \n",
       "4  69         0.650   0.833    -4.672       0.0359        0.0803   \n",
       "\n",
       "   instrumentalness  liveness  valence    tempo  ...  key_B  key_C  key_C#  \\\n",
       "0          0.000000    0.0653    0.518  122.036  ...      0      0       0   \n",
       "1          0.004210    0.3570    0.693   99.972  ...      1      0       0   \n",
       "2          0.000023    0.1100    0.613  124.008  ...      0      0       1   \n",
       "3          0.000009    0.2040    0.277  121.956  ...      0      0       0   \n",
       "4          0.000000    0.0833    0.725  123.976  ...      0      0       1   \n",
       "\n",
       "   key_D  key_D#  key_E  key_F  key_F#  key_G  key_G#  \n",
       "0      0       0      0      0       1      0       0  \n",
       "1      0       0      0      0       0      0       0  \n",
       "2      0       0      0      0       0      0       0  \n",
       "3      0       0      0      0       0      1       0  \n",
       "4      0       0      0      0       0      0       0  \n",
       "\n",
       "[5 rows x 54 columns]"
      ]
     },
     "execution_count": 3,
     "metadata": {},
     "output_type": "execute_result"
    }
   ],
   "source": [
    "df = pd.read_csv('spot_30k_clean.csv', index_col=0)\n",
    "df.head()"
   ]
  },
  {
   "cell_type": "code",
   "execution_count": 4,
   "id": "387b2c9e-a773-4cfa-9a06-d5a638c51149",
   "metadata": {},
   "outputs": [],
   "source": [
    "df_num = df[['duration', 'loudness', 'energy', 'tempo', 'instrumentalness', \n",
    "             'speechiness', 'danceability', 'valence', 'acousticness', 'liveness']]\n",
    "\n",
    "X_train, X_test, y_train, y_test = train_test_split(df_num, df.y, test_size=0.2, random_state=42)"
   ]
  },
  {
   "cell_type": "code",
   "execution_count": 9,
   "id": "f4a13031-8524-4bb9-915b-e3f1c68a0479",
   "metadata": {},
   "outputs": [],
   "source": [
    "#More robust hyperparameter tuning, without max_features\n",
    "def objective(trial):\n",
    "\n",
    "    n_estimators = trial.suggest_int('n_estimators', 100, 2000)\n",
    "    max_depth = trial.suggest_int('max_depth', 2, 50)\n",
    "    min_samples_split = trial.suggest_int('min_samples_split', 2, 32)\n",
    "    min_samples_leaf = trial.suggest_int('min_samples_leaf', 1, 32)\n",
    "\n",
    "    model = ExtraTreesRegressor(\n",
    "        n_estimators=n_estimators,\n",
    "        max_depth=max_depth,\n",
    "        min_samples_split=min_samples_split,\n",
    "        min_samples_leaf=min_samples_leaf,\n",
    "        random_state=42)\n",
    "\n",
    "    kf = KFold(n_splits=5, shuffle=True, random_state=42)\n",
    "    mae = make_scorer(mean_absolute_error)\n",
    "    scores = cross_val_score(model, X_train, y_train, scoring=mae, cv=kf)\n",
    "    return np.min([np.mean(scores), np.median([scores])])"
   ]
  },
  {
   "cell_type": "code",
   "execution_count": 10,
   "id": "39583f5a-df60-4ee0-8881-b43e686aca7b",
   "metadata": {},
   "outputs": [
    {
     "name": "stderr",
     "output_type": "stream",
     "text": [
      "[I 2024-04-03 18:28:53,786] A new study created in memory with name: no-name-2dcdf1d3-adf3-41ba-a60e-330435d577d0\n"
     ]
    },
    {
     "data": {
      "application/vnd.jupyter.widget-view+json": {
       "model_id": "0afc8e86141346178ef83c711e5241c4",
       "version_major": 2,
       "version_minor": 0
      },
      "text/plain": [
       "  0%|          | 0/100 [00:00<?, ?it/s]"
      ]
     },
     "metadata": {},
     "output_type": "display_data"
    },
    {
     "name": "stdout",
     "output_type": "stream",
     "text": [
      "[I 2024-04-03 18:30:28,944] Trial 0 finished with value: 18.493383618147874 and parameters: {'n_estimators': 723, 'max_depth': 19, 'min_samples_split': 9, 'min_samples_leaf': 5}. Best is trial 0 with value: 18.493383618147874.\n",
      "[I 2024-04-03 18:33:00,408] Trial 1 finished with value: 18.902204932140446 and parameters: {'n_estimators': 1386, 'max_depth': 50, 'min_samples_split': 24, 'min_samples_leaf': 10}. Best is trial 0 with value: 18.493383618147874.\n",
      "[I 2024-04-03 18:33:53,913] Trial 2 finished with value: 19.181882218429713 and parameters: {'n_estimators': 556, 'max_depth': 21, 'min_samples_split': 19, 'min_samples_leaf': 15}. Best is trial 0 with value: 18.493383618147874.\n",
      "[I 2024-04-03 18:35:27,255] Trial 3 finished with value: 18.53995182115078 and parameters: {'n_estimators': 714, 'max_depth': 40, 'min_samples_split': 6, 'min_samples_leaf': 7}. Best is trial 0 with value: 18.493383618147874.\n",
      "[I 2024-04-03 18:37:54,675] Trial 4 finished with value: 19.4866095704635 and parameters: {'n_estimators': 1706, 'max_depth': 47, 'min_samples_split': 5, 'min_samples_leaf': 31}. Best is trial 0 with value: 18.493383618147874.\n",
      "[I 2024-04-03 18:38:48,491] Trial 5 finished with value: 19.980437833858286 and parameters: {'n_estimators': 1216, 'max_depth': 7, 'min_samples_split': 14, 'min_samples_leaf': 19}. Best is trial 0 with value: 18.493383618147874.\n",
      "[I 2024-04-03 18:39:06,683] Trial 6 finished with value: 18.838761989400034 and parameters: {'n_estimators': 127, 'max_depth': 20, 'min_samples_split': 31, 'min_samples_leaf': 3}. Best is trial 0 with value: 18.493383618147874.\n",
      "[I 2024-04-03 18:40:01,928] Trial 7 finished with value: 19.472863435868298 and parameters: {'n_estimators': 561, 'max_depth': 38, 'min_samples_split': 7, 'min_samples_leaf': 30}. Best is trial 0 with value: 18.493383618147874.\n",
      "[I 2024-04-03 18:42:45,976] Trial 8 finished with value: 19.3878010054343 and parameters: {'n_estimators': 1599, 'max_depth': 28, 'min_samples_split': 22, 'min_samples_leaf': 24}. Best is trial 0 with value: 18.493383618147874.\n",
      "[I 2024-04-03 18:45:43,211] Trial 9 finished with value: 19.371166187902666 and parameters: {'n_estimators': 1875, 'max_depth': 22, 'min_samples_split': 32, 'min_samples_leaf': 23}. Best is trial 0 with value: 18.493383618147874.\n",
      "[I 2024-04-03 18:46:05,747] Trial 10 finished with value: 20.242851883585754 and parameters: {'n_estimators': 916, 'max_depth': 4, 'min_samples_split': 12, 'min_samples_leaf': 1}. Best is trial 0 with value: 18.493383618147874.\n",
      "[I 2024-04-03 18:47:41,179] Trial 11 finished with value: 18.672016673823933 and parameters: {'n_estimators': 817, 'max_depth': 33, 'min_samples_split': 2, 'min_samples_leaf': 8}. Best is trial 0 with value: 18.493383618147874.\n",
      "[I 2024-04-03 18:48:17,038] Trial 12 finished with value: 19.493277613073747 and parameters: {'n_estimators': 500, 'max_depth': 12, 'min_samples_split': 10, 'min_samples_leaf': 9}. Best is trial 0 with value: 18.493383618147874.\n",
      "[I 2024-04-03 18:48:40,826] Trial 13 finished with value: 18.113167655474815 and parameters: {'n_estimators': 159, 'max_depth': 40, 'min_samples_split': 8, 'min_samples_leaf': 5}. Best is trial 13 with value: 18.113167655474815.\n",
      "[I 2024-04-03 18:48:50,988] Trial 14 finished with value: 19.379683834120307 and parameters: {'n_estimators': 111, 'max_depth': 15, 'min_samples_split': 16, 'min_samples_leaf': 15}. Best is trial 13 with value: 18.113167655474815.\n",
      "[I 2024-04-03 18:49:41,599] Trial 15 finished with value: 18.12718766978023 and parameters: {'n_estimators': 336, 'max_depth': 31, 'min_samples_split': 10, 'min_samples_leaf': 5}. Best is trial 13 with value: 18.113167655474815.\n",
      "[I 2024-04-03 18:50:15,522] Trial 16 finished with value: 19.004420809351625 and parameters: {'n_estimators': 316, 'max_depth': 31, 'min_samples_split': 2, 'min_samples_leaf': 12}. Best is trial 13 with value: 18.113167655474815.\n",
      "[I 2024-04-03 18:51:12,578] Trial 17 finished with value: 17.54642268029146 and parameters: {'n_estimators': 348, 'max_depth': 42, 'min_samples_split': 12, 'min_samples_leaf': 1}. Best is trial 17 with value: 17.54642268029146.\n",
      "[I 2024-04-03 18:53:38,918] Trial 18 finished with value: 18.04305082643086 and parameters: {'n_estimators': 1031, 'max_depth': 43, 'min_samples_split': 18, 'min_samples_leaf': 1}. Best is trial 17 with value: 17.54642268029146.\n",
      "[I 2024-04-03 18:55:51,946] Trial 19 finished with value: 18.50820018105736 and parameters: {'n_estimators': 1111, 'max_depth': 45, 'min_samples_split': 26, 'min_samples_leaf': 2}. Best is trial 17 with value: 17.54642268029146.\n",
      "[I 2024-04-03 18:58:08,017] Trial 20 finished with value: 19.01350914220621 and parameters: {'n_estimators': 1385, 'max_depth': 36, 'min_samples_split': 17, 'min_samples_leaf': 12}. Best is trial 17 with value: 17.54642268029146.\n",
      "[I 2024-04-03 18:59:02,871] Trial 21 finished with value: 17.63943577601019 and parameters: {'n_estimators': 364, 'max_depth': 42, 'min_samples_split': 13, 'min_samples_leaf': 1}. Best is trial 17 with value: 17.54642268029146.\n",
      "[I 2024-04-03 18:59:51,283] Trial 22 finished with value: 18.166748019305626 and parameters: {'n_estimators': 371, 'max_depth': 44, 'min_samples_split': 20, 'min_samples_leaf': 1}. Best is trial 17 with value: 17.54642268029146.\n",
      "[I 2024-04-03 19:01:57,867] Trial 23 finished with value: 18.154679072656286 and parameters: {'n_estimators': 977, 'max_depth': 43, 'min_samples_split': 14, 'min_samples_leaf': 4}. Best is trial 17 with value: 17.54642268029146.\n",
      "[I 2024-04-03 19:03:39,696] Trial 24 finished with value: 17.63377275516547 and parameters: {'n_estimators': 645, 'max_depth': 50, 'min_samples_split': 13, 'min_samples_leaf': 1}. Best is trial 17 with value: 17.54642268029146.\n",
      "[I 2024-04-03 19:04:36,427] Trial 25 finished with value: 18.542149911221696 and parameters: {'n_estimators': 455, 'max_depth': 50, 'min_samples_split': 14, 'min_samples_leaf': 7}. Best is trial 17 with value: 17.54642268029146.\n",
      "[I 2024-04-03 19:06:06,274] Trial 26 finished with value: 18.023395900392728 and parameters: {'n_estimators': 643, 'max_depth': 48, 'min_samples_split': 12, 'min_samples_leaf': 4}. Best is trial 17 with value: 17.54642268029146.\n",
      "[I 2024-04-03 19:06:44,449] Trial 27 finished with value: 18.94725104445797 and parameters: {'n_estimators': 365, 'max_depth': 34, 'min_samples_split': 11, 'min_samples_leaf': 11}. Best is trial 17 with value: 17.54642268029146.\n",
      "[I 2024-04-03 19:07:05,985] Trial 28 finished with value: 19.274519941086737 and parameters: {'n_estimators': 238, 'max_depth': 40, 'min_samples_split': 16, 'min_samples_leaf': 19}. Best is trial 17 with value: 17.54642268029146.\n",
      "[I 2024-04-03 19:08:40,421] Trial 29 finished with value: 18.414950988920317 and parameters: {'n_estimators': 757, 'max_depth': 25, 'min_samples_split': 13, 'min_samples_leaf': 6}. Best is trial 17 with value: 17.54642268029146.\n",
      "[I 2024-04-03 19:11:11,707] Trial 30 finished with value: 17.289438268083142 and parameters: {'n_estimators': 852, 'max_depth': 45, 'min_samples_split': 5, 'min_samples_leaf': 3}. Best is trial 30 with value: 17.289438268083142.\n",
      "[I 2024-04-03 19:13:37,712] Trial 31 finished with value: 17.289144956440296 and parameters: {'n_estimators': 847, 'max_depth': 45, 'min_samples_split': 4, 'min_samples_leaf': 3}. Best is trial 31 with value: 17.289144956440296.\n",
      "[I 2024-04-03 19:16:08,891] Trial 32 finished with value: 17.289674603148054 and parameters: {'n_estimators': 875, 'max_depth': 49, 'min_samples_split': 5, 'min_samples_leaf': 3}. Best is trial 31 with value: 17.289144956440296.\n",
      "[I 2024-04-03 19:18:39,335] Trial 33 finished with value: 17.289749371077974 and parameters: {'n_estimators': 884, 'max_depth': 46, 'min_samples_split': 4, 'min_samples_leaf': 3}. Best is trial 31 with value: 17.289144956440296.\n",
      "[I 2024-04-03 19:20:14,545] Trial 34 finished with value: 18.78870068140054 and parameters: {'n_estimators': 848, 'max_depth': 47, 'min_samples_split': 4, 'min_samples_leaf': 9}. Best is trial 31 with value: 17.289144956440296.\n",
      "[I 2024-04-03 19:22:45,287] Trial 35 finished with value: 18.357766174858835 and parameters: {'n_estimators': 1169, 'max_depth': 46, 'min_samples_split': 4, 'min_samples_leaf': 6}. Best is trial 31 with value: 17.289144956440296.\n",
      "[I 2024-04-03 19:26:32,898] Trial 36 finished with value: 17.288421813433494 and parameters: {'n_estimators': 1332, 'max_depth': 37, 'min_samples_split': 6, 'min_samples_leaf': 3}. Best is trial 36 with value: 17.288421813433494.\n",
      "[I 2024-04-03 19:29:08,090] Trial 37 finished with value: 18.537646469995476 and parameters: {'n_estimators': 1310, 'max_depth': 37, 'min_samples_split': 7, 'min_samples_leaf': 7}. Best is trial 36 with value: 17.288421813433494.\n",
      "[I 2024-04-03 19:31:16,927] Trial 38 finished with value: 19.111742459195234 and parameters: {'n_estimators': 1316, 'max_depth': 50, 'min_samples_split': 6, 'min_samples_leaf': 14}. Best is trial 36 with value: 17.288421813433494.\n",
      "[I 2024-04-03 19:35:21,181] Trial 39 finished with value: 17.589879605658208 and parameters: {'n_estimators': 1534, 'max_depth': 38, 'min_samples_split': 9, 'min_samples_leaf': 3}. Best is trial 36 with value: 17.288421813433494.\n",
      "[I 2024-04-03 19:38:11,816] Trial 40 finished with value: 18.87489295264547 and parameters: {'n_estimators': 1527, 'max_depth': 40, 'min_samples_split': 2, 'min_samples_leaf': 10}. Best is trial 36 with value: 17.288421813433494.\n",
      "[I 2024-04-03 19:40:56,884] Trial 41 finished with value: 17.291659613489507 and parameters: {'n_estimators': 922, 'max_depth': 48, 'min_samples_split': 4, 'min_samples_leaf': 3}. Best is trial 36 with value: 17.288421813433494.\n",
      "[I 2024-04-03 19:43:50,701] Trial 42 finished with value: 17.771211840161623 and parameters: {'n_estimators': 1065, 'max_depth': 46, 'min_samples_split': 5, 'min_samples_leaf': 4}. Best is trial 36 with value: 17.288421813433494.\n",
      "[I 2024-04-03 19:45:45,188] Trial 43 finished with value: 18.11128894116088 and parameters: {'n_estimators': 826, 'max_depth': 45, 'min_samples_split': 6, 'min_samples_leaf': 5}. Best is trial 36 with value: 17.288421813433494.\n",
      "[I 2024-04-03 19:47:26,081] Trial 44 finished with value: 19.43320946282303 and parameters: {'n_estimators': 1216, 'max_depth': 48, 'min_samples_split': 8, 'min_samples_leaf': 27}. Best is trial 36 with value: 17.288421813433494.\n",
      "[I 2024-04-03 19:48:29,561] Trial 45 finished with value: 19.24970987596867 and parameters: {'n_estimators': 730, 'max_depth': 42, 'min_samples_split': 3, 'min_samples_leaf': 18}. Best is trial 36 with value: 17.288421813433494.\n",
      "[I 2024-04-03 19:51:17,926] Trial 46 finished with value: 17.34914090669285 and parameters: {'n_estimators': 953, 'max_depth': 27, 'min_samples_split': 5, 'min_samples_leaf': 3}. Best is trial 36 with value: 17.288421813433494.\n",
      "[I 2024-04-03 19:52:59,987] Trial 47 finished with value: 18.67442668162453 and parameters: {'n_estimators': 868, 'max_depth': 35, 'min_samples_split': 7, 'min_samples_leaf': 8}. Best is trial 36 with value: 17.288421813433494.\n",
      "[I 2024-04-03 19:54:12,498] Trial 48 finished with value: 18.357869834344516 and parameters: {'n_estimators': 578, 'max_depth': 31, 'min_samples_split': 3, 'min_samples_leaf': 6}. Best is trial 36 with value: 17.288421813433494.\n",
      "[I 2024-04-03 19:58:45,865] Trial 49 finished with value: 17.587165211975016 and parameters: {'n_estimators': 1774, 'max_depth': 38, 'min_samples_split': 9, 'min_samples_leaf': 3}. Best is trial 36 with value: 17.288421813433494.\n",
      "[I 2024-04-03 20:00:33,249] Trial 50 finished with value: 18.758118697844115 and parameters: {'n_estimators': 1016, 'max_depth': 40, 'min_samples_split': 29, 'min_samples_leaf': 5}. Best is trial 36 with value: 17.288421813433494.\n",
      "[I 2024-04-03 20:03:09,764] Trial 51 finished with value: 17.29150044561719 and parameters: {'n_estimators': 917, 'max_depth': 47, 'min_samples_split': 4, 'min_samples_leaf': 3}. Best is trial 36 with value: 17.288421813433494.\n",
      "[I 2024-04-03 20:07:17,158] Trial 52 finished with value: 16.76388735257742 and parameters: {'n_estimators': 1144, 'max_depth': 48, 'min_samples_split': 5, 'min_samples_leaf': 2}. Best is trial 52 with value: 16.76388735257742.\n",
      "[I 2024-04-03 20:10:57,518] Trial 53 finished with value: 16.916527213162965 and parameters: {'n_estimators': 1123, 'max_depth': 44, 'min_samples_split': 6, 'min_samples_leaf': 2}. Best is trial 52 with value: 16.76388735257742.\n",
      "[I 2024-04-03 20:14:18,418] Trial 54 finished with value: 17.231667931128218 and parameters: {'n_estimators': 1124, 'max_depth': 44, 'min_samples_split': 8, 'min_samples_leaf': 2}. Best is trial 52 with value: 16.76388735257742.\n",
      "[I 2024-04-03 20:18:04,369] Trial 55 finished with value: 16.914896569586503 and parameters: {'n_estimators': 1124, 'max_depth': 41, 'min_samples_split': 6, 'min_samples_leaf': 2}. Best is trial 52 with value: 16.76388735257742.\n",
      "[I 2024-04-03 20:21:23,658] Trial 56 finished with value: 17.23150373299735 and parameters: {'n_estimators': 1121, 'max_depth': 42, 'min_samples_split': 8, 'min_samples_leaf': 2}. Best is trial 52 with value: 16.76388735257742.\n",
      "[I 2024-04-03 20:25:18,242] Trial 57 finished with value: 17.22812691153921 and parameters: {'n_estimators': 1319, 'max_depth': 42, 'min_samples_split': 8, 'min_samples_leaf': 2}. Best is trial 52 with value: 16.76388735257742.\n",
      "[I 2024-04-03 20:28:41,805] Trial 58 finished with value: 17.230755011697575 and parameters: {'n_estimators': 1159, 'max_depth': 43, 'min_samples_split': 8, 'min_samples_leaf': 2}. Best is trial 52 with value: 16.76388735257742.\n",
      "[I 2024-04-03 20:32:10,786] Trial 59 finished with value: 17.309780222897146 and parameters: {'n_estimators': 1238, 'max_depth': 41, 'min_samples_split': 10, 'min_samples_leaf': 1}. Best is trial 52 with value: 16.76388735257742.\n",
      "[I 2024-04-03 20:33:46,551] Trial 60 finished with value: 19.43621271043873 and parameters: {'n_estimators': 1231, 'max_depth': 16, 'min_samples_split': 7, 'min_samples_leaf': 22}. Best is trial 52 with value: 16.76388735257742.\n",
      "[I 2024-04-03 20:36:51,342] Trial 61 finished with value: 17.232347692005675 and parameters: {'n_estimators': 1114, 'max_depth': 43, 'min_samples_split': 8, 'min_samples_leaf': 2}. Best is trial 52 with value: 16.76388735257742.\n",
      "[I 2024-04-03 20:40:29,433] Trial 62 finished with value: 17.485470366020174 and parameters: {'n_estimators': 1414, 'max_depth': 39, 'min_samples_split': 10, 'min_samples_leaf': 2}. Best is trial 52 with value: 16.76388735257742.\n",
      "[I 2024-04-03 20:43:45,858] Trial 63 finished with value: 17.16378827770919 and parameters: {'n_estimators': 1128, 'max_depth': 43, 'min_samples_split': 9, 'min_samples_leaf': 1}. Best is trial 52 with value: 16.76388735257742.\n",
      "[I 2024-04-03 20:46:52,003] Trial 64 finished with value: 18.131868393801415 and parameters: {'n_estimators': 1413, 'max_depth': 41, 'min_samples_split': 11, 'min_samples_leaf': 5}. Best is trial 52 with value: 16.76388735257742.\n",
      "[I 2024-04-03 20:50:12,758] Trial 65 finished with value: 17.171238413185776 and parameters: {'n_estimators': 1159, 'max_depth': 33, 'min_samples_split': 9, 'min_samples_leaf': 1}. Best is trial 52 with value: 16.76388735257742.\n",
      "[I 2024-04-03 20:53:02,358] Trial 66 finished with value: 17.44072917918326 and parameters: {'n_estimators': 1056, 'max_depth': 33, 'min_samples_split': 11, 'min_samples_leaf': 1}. Best is trial 52 with value: 16.76388735257742.\n",
      "[I 2024-04-03 20:55:31,013] Trial 67 finished with value: 18.545152154034106 and parameters: {'n_estimators': 1264, 'max_depth': 29, 'min_samples_split': 9, 'min_samples_leaf': 7}. Best is trial 52 with value: 16.76388735257742.\n",
      "[I 2024-04-03 20:58:16,941] Trial 68 finished with value: 17.880836038388846 and parameters: {'n_estimators': 1163, 'max_depth': 24, 'min_samples_split': 7, 'min_samples_leaf': 4}. Best is trial 52 with value: 16.76388735257742.\n",
      "[I 2024-04-03 20:59:07,786] Trial 69 finished with value: 19.774157424689264 and parameters: {'n_estimators': 1000, 'max_depth': 9, 'min_samples_split': 22, 'min_samples_leaf': 1}. Best is trial 52 with value: 16.76388735257742.\n",
      "[I 2024-04-03 21:02:49,671] Trial 70 finished with value: 17.767334012956123 and parameters: {'n_estimators': 1499, 'max_depth': 35, 'min_samples_split': 6, 'min_samples_leaf': 4}. Best is trial 52 with value: 16.76388735257742.\n",
      "[I 2024-04-03 21:05:59,529] Trial 71 finished with value: 17.231577458418233 and parameters: {'n_estimators': 1145, 'max_depth': 42, 'min_samples_split': 8, 'min_samples_leaf': 2}. Best is trial 52 with value: 16.76388735257742.\n",
      "[I 2024-04-03 21:08:52,175] Trial 72 finished with value: 17.36789500768595 and parameters: {'n_estimators': 1082, 'max_depth': 44, 'min_samples_split': 9, 'min_samples_leaf': 2}. Best is trial 52 with value: 16.76388735257742.\n",
      "[I 2024-04-03 21:12:16,098] Trial 73 finished with value: 17.30640260262887 and parameters: {'n_estimators': 1220, 'max_depth': 39, 'min_samples_split': 10, 'min_samples_leaf': 1}. Best is trial 52 with value: 16.76388735257742.\n",
      "[I 2024-04-03 21:15:19,907] Trial 74 finished with value: 18.1147309123666 and parameters: {'n_estimators': 1367, 'max_depth': 44, 'min_samples_split': 7, 'min_samples_leaf': 5}. Best is trial 52 with value: 16.76388735257742.\n",
      "[I 2024-04-03 21:19:52,300] Trial 75 finished with value: 16.62751268216774 and parameters: {'n_estimators': 1287, 'max_depth': 43, 'min_samples_split': 3, 'min_samples_leaf': 2}. Best is trial 75 with value: 16.62751268216774.\n",
      "[I 2024-04-03 21:22:38,272] Trial 76 finished with value: 18.35551043215053 and parameters: {'n_estimators': 1289, 'max_depth': 47, 'min_samples_split': 3, 'min_samples_leaf': 6}. Best is trial 75 with value: 16.62751268216774.\n",
      "[I 2024-04-03 21:25:37,498] Trial 77 finished with value: 17.767205449271085 and parameters: {'n_estimators': 1183, 'max_depth': 43, 'min_samples_split': 2, 'min_samples_leaf': 4}. Best is trial 75 with value: 16.62751268216774.\n",
      "[I 2024-04-03 21:29:17,085] Trial 78 finished with value: 17.822990740136063 and parameters: {'n_estimators': 1482, 'max_depth': 49, 'min_samples_split': 15, 'min_samples_leaf': 1}. Best is trial 75 with value: 16.62751268216774.\n",
      "[I 2024-04-03 21:33:18,869] Trial 79 finished with value: 17.764042417527843 and parameters: {'n_estimators': 1603, 'max_depth': 36, 'min_samples_split': 6, 'min_samples_leaf': 4}. Best is trial 75 with value: 16.62751268216774.\n",
      "[I 2024-04-03 21:37:49,198] Trial 80 finished with value: 16.76322938927179 and parameters: {'n_estimators': 1349, 'max_depth': 41, 'min_samples_split': 5, 'min_samples_leaf': 2}. Best is trial 75 with value: 16.62751268216774.\n",
      "[I 2024-04-03 21:42:23,739] Trial 81 finished with value: 16.763868773546374 and parameters: {'n_estimators': 1374, 'max_depth': 46, 'min_samples_split': 5, 'min_samples_leaf': 2}. Best is trial 75 with value: 16.62751268216774.\n",
      "[I 2024-04-03 21:47:10,261] Trial 82 finished with value: 16.626815102428846 and parameters: {'n_estimators': 1358, 'max_depth': 41, 'min_samples_split': 3, 'min_samples_leaf': 2}. Best is trial 82 with value: 16.626815102428846.\n",
      "[I 2024-04-03 22:25:36,642] Trial 83 finished with value: 16.082216266678287 and parameters: {'n_estimators': 1458, 'max_depth': 46, 'min_samples_split': 3, 'min_samples_leaf': 1}. Best is trial 83 with value: 16.082216266678287.\n",
      "[I 2024-04-03 22:29:11,030] Trial 84 finished with value: 17.765572804247082 and parameters: {'n_estimators': 1457, 'max_depth': 46, 'min_samples_split': 3, 'min_samples_leaf': 4}. Best is trial 83 with value: 16.082216266678287.\n",
      "[I 2024-04-03 22:33:31,694] Trial 85 finished with value: 16.762205971607777 and parameters: {'n_estimators': 1355, 'max_depth': 49, 'min_samples_split': 5, 'min_samples_leaf': 2}. Best is trial 83 with value: 16.082216266678287.\n",
      "[I 2024-04-03 22:35:33,151] Trial 86 finished with value: 19.47295638416389 and parameters: {'n_estimators': 1608, 'max_depth': 49, 'min_samples_split': 5, 'min_samples_leaf': 30}. Best is trial 83 with value: 16.082216266678287.\n",
      "[I 2024-04-03 22:38:35,996] Trial 87 finished with value: 18.114632996904106 and parameters: {'n_estimators': 1365, 'max_depth': 46, 'min_samples_split': 2, 'min_samples_leaf': 5}. Best is trial 83 with value: 16.082216266678287.\n",
      "[I 2024-04-03 22:41:39,880] Trial 88 finished with value: 18.67698276249766 and parameters: {'n_estimators': 1648, 'max_depth': 48, 'min_samples_split': 3, 'min_samples_leaf': 8}. Best is trial 83 with value: 16.082216266678287.\n",
      "[I 2024-04-03 22:46:41,591] Trial 89 finished with value: 16.626721311367106 and parameters: {'n_estimators': 1457, 'max_depth': 50, 'min_samples_split': 4, 'min_samples_leaf': 2}. Best is trial 83 with value: 16.082216266678287.\n",
      "[I 2024-04-03 22:51:02,556] Trial 90 finished with value: 17.28924756666477 and parameters: {'n_estimators': 1549, 'max_depth': 50, 'min_samples_split': 4, 'min_samples_leaf': 3}. Best is trial 83 with value: 16.082216266678287.\n",
      "[I 2024-04-03 22:55:40,765] Trial 91 finished with value: 16.765224809421223 and parameters: {'n_estimators': 1438, 'max_depth': 47, 'min_samples_split': 5, 'min_samples_leaf': 2}. Best is trial 83 with value: 16.082216266678287.\n",
      "[I 2024-04-03 23:00:44,076] Trial 92 finished with value: 16.765220190055604 and parameters: {'n_estimators': 1439, 'max_depth': 48, 'min_samples_split': 5, 'min_samples_leaf': 2}. Best is trial 83 with value: 16.082216266678287.\n",
      "[I 2024-04-03 23:03:52,762] Trial 93 finished with value: 18.35676646297655 and parameters: {'n_estimators': 1424, 'max_depth': 49, 'min_samples_split': 5, 'min_samples_leaf': 6}. Best is trial 83 with value: 16.082216266678287.\n",
      "[I 2024-04-03 23:08:59,481] Trial 94 finished with value: 17.28762212744207 and parameters: {'n_estimators': 1711, 'max_depth': 48, 'min_samples_split': 2, 'min_samples_leaf': 3}. Best is trial 83 with value: 16.082216266678287.\n",
      "[I 2024-04-03 23:12:42,235] Trial 95 finished with value: 17.765648692593206 and parameters: {'n_estimators': 1358, 'max_depth': 47, 'min_samples_split': 3, 'min_samples_leaf': 4}. Best is trial 83 with value: 16.082216266678287.\n",
      "[I 2024-04-03 23:16:08,275] Trial 96 finished with value: 18.11453509755669 and parameters: {'n_estimators': 1449, 'max_depth': 50, 'min_samples_split': 4, 'min_samples_leaf': 5}. Best is trial 83 with value: 16.082216266678287.\n",
      "[I 2024-04-03 23:18:45,485] Trial 97 finished with value: 19.062180554449355 and parameters: {'n_estimators': 1558, 'max_depth': 45, 'min_samples_split': 5, 'min_samples_leaf': 13}. Best is trial 83 with value: 16.082216266678287.\n",
      "[I 2024-04-03 23:23:35,572] Trial 98 finished with value: 16.626612169773804 and parameters: {'n_estimators': 1272, 'max_depth': 46, 'min_samples_split': 4, 'min_samples_leaf': 2}. Best is trial 83 with value: 16.082216266678287.\n",
      "[I 2024-04-03 23:25:22,605] Trial 99 finished with value: 19.43366857235556 and parameters: {'n_estimators': 1277, 'max_depth': 45, 'min_samples_split': 3, 'min_samples_leaf': 27}. Best is trial 83 with value: 16.082216266678287.\n"
     ]
    }
   ],
   "source": [
    "study = optuna.create_study(direction=\"minimize\")\n",
    "study.optimize(objective, n_trials=100, show_progress_bar=True)"
   ]
  },
  {
   "cell_type": "code",
   "execution_count": 11,
   "id": "76e772f0-67f7-4bff-9118-9e4a9670b5a0",
   "metadata": {},
   "outputs": [
    {
     "name": "stdout",
     "output_type": "stream",
     "text": [
      "Best trial: FrozenTrial(number=83, state=1, values=[16.082216266678287], datetime_start=datetime.datetime(2024, 4, 3, 21, 47, 10, 264030), datetime_complete=datetime.datetime(2024, 4, 3, 22, 25, 36, 642100), params={'n_estimators': 1458, 'max_depth': 46, 'min_samples_split': 3, 'min_samples_leaf': 1}, user_attrs={}, system_attrs={}, intermediate_values={}, distributions={'n_estimators': IntDistribution(high=2000, log=False, low=100, step=1), 'max_depth': IntDistribution(high=50, log=False, low=2, step=1), 'min_samples_split': IntDistribution(high=32, log=False, low=2, step=1), 'min_samples_leaf': IntDistribution(high=32, log=False, low=1, step=1)}, trial_id=83, value=None)\n",
      "Best hyperparameters: {'n_estimators': 1458, 'max_depth': 46, 'min_samples_split': 3, 'min_samples_leaf': 1}\n"
     ]
    }
   ],
   "source": [
    "print(\"Best trial:\", study.best_trial)\n",
    "print(\"Best hyperparameters:\", study.best_params)"
   ]
  },
  {
   "cell_type": "code",
   "execution_count": 5,
   "id": "2a395b9d-6557-4dc7-8588-26fb68f6a4f3",
   "metadata": {},
   "outputs": [
    {
     "name": "stdout",
     "output_type": "stream",
     "text": [
      "Fitting 5 folds for each of 8 candidates, totalling 40 fits\n"
     ]
    }
   ],
   "source": [
    "et = ExtraTreesRegressor(random_state=42)\n",
    "\n",
    "param_grid = {'n_estimators': [100, 1458], 'max_depth': [46, None], 'min_samples_split': [2, 3]}\n",
    "\n",
    "gs = GridSearchCV(estimator=et, param_grid=param_grid, scoring='neg_mean_absolute_error', \n",
    "                  cv=5, verbose=3, n_jobs=-1)\n",
    "\n",
    "gs = gs.fit(X_train, y_train)"
   ]
  },
  {
   "cell_type": "code",
   "execution_count": 6,
   "id": "da9180c6-f93b-45b9-a0ae-74adb6362473",
   "metadata": {},
   "outputs": [
    {
     "name": "stdout",
     "output_type": "stream",
     "text": [
      "15.891349867180603\n",
      "ExtraTreesRegressor(max_depth=46, n_estimators=1458, random_state=42)\n",
      "{'max_depth': 46, 'min_samples_split': 2, 'n_estimators': 1458}\n"
     ]
    }
   ],
   "source": [
    "print(-gs.best_score_)\n",
    "print(gs.best_estimator_)\n",
    "print(gs.best_params_)"
   ]
  },
  {
   "cell_type": "code",
   "execution_count": 11,
   "id": "afe9cc61-5298-482b-b3c6-ef6cfc92665e",
   "metadata": {},
   "outputs": [
    {
     "data": {
      "text/plain": [
       "15.95612030265151"
      ]
     },
     "execution_count": 11,
     "metadata": {},
     "output_type": "execute_result"
    }
   ],
   "source": [
    "#Best model\n",
    "et = ExtraTreesRegressor(n_estimators=1458, max_depth=46, random_state=42, n_jobs=-1)\n",
    "\n",
    "kf = KFold(n_splits=5, shuffle=True, random_state=42)\n",
    "mae = make_scorer(mean_absolute_error)\n",
    "scores = cross_val_score(et, X_train, y_train, scoring=mae, cv=kf, n_jobs=-1)\n",
    "np.mean(scores)"
   ]
  },
  {
   "cell_type": "markdown",
   "id": "2a65a48d-29bd-4dad-88a4-b87eda08672e",
   "metadata": {},
   "source": [
    "## Feature Scaling"
   ]
  },
  {
   "cell_type": "code",
   "execution_count": 12,
   "id": "8ce7d861-eccb-4392-ab20-043b6bb80d00",
   "metadata": {},
   "outputs": [],
   "source": [
    "def scale_and_cv(model):\n",
    "    \n",
    "    scalers = [StandardScaler(), MinMaxScaler(), RobustScaler(), PowerTransformer()]\n",
    "    \n",
    "    for i in range(4):\n",
    "        scalers[i].fit(X_train)\n",
    "        X_train_scaled = scalers[i].transform(X_train)\n",
    "    \n",
    "        kf = KFold(n_splits=5, shuffle=True, random_state=42)\n",
    "        mae = make_scorer(mean_absolute_error)\n",
    "        scores = cross_val_score(model, X_train_scaled, y_train, scoring=mae, cv=kf, n_jobs=-1)\n",
    "        print(scalers[i], np.min([np.mean(scores), np.median([scores])]))"
   ]
  },
  {
   "cell_type": "code",
   "execution_count": 13,
   "id": "c21d8cc3-c28b-49da-88a1-fb6072bddbb3",
   "metadata": {},
   "outputs": [
    {
     "name": "stdout",
     "output_type": "stream",
     "text": [
      "StandardScaler() 15.939587547497377\n",
      "MinMaxScaler() 15.939128305259553\n",
      "RobustScaler() 15.933172708598457\n",
      "PowerTransformer() 15.933076582300538\n"
     ]
    }
   ],
   "source": [
    "scale_and_cv(et)"
   ]
  },
  {
   "cell_type": "code",
   "execution_count": null,
   "id": "6ba83949-42a8-4b6d-a98c-96396e2fbc54",
   "metadata": {},
   "outputs": [],
   "source": []
  }
 ],
 "metadata": {
  "kernelspec": {
   "display_name": "Python 3 (ipykernel)",
   "language": "python",
   "name": "python3"
  },
  "language_info": {
   "codemirror_mode": {
    "name": "ipython",
    "version": 3
   },
   "file_extension": ".py",
   "mimetype": "text/x-python",
   "name": "python",
   "nbconvert_exporter": "python",
   "pygments_lexer": "ipython3",
   "version": "3.11.5"
  }
 },
 "nbformat": 4,
 "nbformat_minor": 5
}
